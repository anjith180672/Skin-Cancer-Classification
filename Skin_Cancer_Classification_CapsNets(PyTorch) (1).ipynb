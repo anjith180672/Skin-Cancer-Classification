{
  "cells": [
    {
      "cell_type": "code",
      "execution_count": null,
      "metadata": {
        "colab": {
          "base_uri": "https://localhost:8080/"
        },
        "id": "Ffw6NMgB5bun",
        "outputId": "85b4b065-d494-40df-c08f-bdfdba9f7032"
      },
      "outputs": [
        {
          "name": "stdout",
          "output_type": "stream",
          "text": [
            "Drive already mounted at /content/drive; to attempt to forcibly remount, call drive.mount(\"/content/drive\", force_remount=True).\n"
          ]
        }
      ],
      "source": [
        "from google.colab import drive\n",
        "drive.mount('/content/drive')"
      ]
    },
    {
      "cell_type": "code",
      "execution_count": null,
      "metadata": {
        "id": "2H6huMORPn4B"
      },
      "outputs": [],
      "source": [
        "import pandas as pd\n",
        "import numpy as np\n",
        "from shutil import copy, rmtree \n",
        "import os\n",
        "from sklearn.model_selection import train_test_split"
      ]
    },
    {
      "cell_type": "code",
      "execution_count": null,
      "metadata": {
        "colab": {
          "base_uri": "https://localhost:8080/",
          "height": 206
        },
        "id": "0evN6-ZfPn8S",
        "outputId": "1fff4923-4913-42f1-b46b-1f3c724cfe54"
      },
      "outputs": [
        {
          "data": {
            "text/html": [
              "\n",
              "  <div id=\"df-b69090e9-5649-43bc-92f6-74e067b80643\">\n",
              "    <div class=\"colab-df-container\">\n",
              "      <div>\n",
              "<style scoped>\n",
              "    .dataframe tbody tr th:only-of-type {\n",
              "        vertical-align: middle;\n",
              "    }\n",
              "\n",
              "    .dataframe tbody tr th {\n",
              "        vertical-align: top;\n",
              "    }\n",
              "\n",
              "    .dataframe thead th {\n",
              "        text-align: right;\n",
              "    }\n",
              "</style>\n",
              "<table border=\"1\" class=\"dataframe\">\n",
              "  <thead>\n",
              "    <tr style=\"text-align: right;\">\n",
              "      <th></th>\n",
              "      <th>lesion_id</th>\n",
              "      <th>image_id</th>\n",
              "      <th>dx</th>\n",
              "      <th>dx_type</th>\n",
              "      <th>age</th>\n",
              "      <th>sex</th>\n",
              "      <th>localization</th>\n",
              "    </tr>\n",
              "  </thead>\n",
              "  <tbody>\n",
              "    <tr>\n",
              "      <th>0</th>\n",
              "      <td>HAM_0000118</td>\n",
              "      <td>ISIC_0027419</td>\n",
              "      <td>bkl</td>\n",
              "      <td>histo</td>\n",
              "      <td>80.0</td>\n",
              "      <td>male</td>\n",
              "      <td>scalp</td>\n",
              "    </tr>\n",
              "    <tr>\n",
              "      <th>1</th>\n",
              "      <td>HAM_0000118</td>\n",
              "      <td>ISIC_0025030</td>\n",
              "      <td>bkl</td>\n",
              "      <td>histo</td>\n",
              "      <td>80.0</td>\n",
              "      <td>male</td>\n",
              "      <td>scalp</td>\n",
              "    </tr>\n",
              "    <tr>\n",
              "      <th>2</th>\n",
              "      <td>HAM_0002730</td>\n",
              "      <td>ISIC_0026769</td>\n",
              "      <td>bkl</td>\n",
              "      <td>histo</td>\n",
              "      <td>80.0</td>\n",
              "      <td>male</td>\n",
              "      <td>scalp</td>\n",
              "    </tr>\n",
              "    <tr>\n",
              "      <th>3</th>\n",
              "      <td>HAM_0002730</td>\n",
              "      <td>ISIC_0025661</td>\n",
              "      <td>bkl</td>\n",
              "      <td>histo</td>\n",
              "      <td>80.0</td>\n",
              "      <td>male</td>\n",
              "      <td>scalp</td>\n",
              "    </tr>\n",
              "    <tr>\n",
              "      <th>4</th>\n",
              "      <td>HAM_0001466</td>\n",
              "      <td>ISIC_0031633</td>\n",
              "      <td>bkl</td>\n",
              "      <td>histo</td>\n",
              "      <td>75.0</td>\n",
              "      <td>male</td>\n",
              "      <td>ear</td>\n",
              "    </tr>\n",
              "  </tbody>\n",
              "</table>\n",
              "</div>\n",
              "      <button class=\"colab-df-convert\" onclick=\"convertToInteractive('df-b69090e9-5649-43bc-92f6-74e067b80643')\"\n",
              "              title=\"Convert this dataframe to an interactive table.\"\n",
              "              style=\"display:none;\">\n",
              "        \n",
              "  <svg xmlns=\"http://www.w3.org/2000/svg\" height=\"24px\"viewBox=\"0 0 24 24\"\n",
              "       width=\"24px\">\n",
              "    <path d=\"M0 0h24v24H0V0z\" fill=\"none\"/>\n",
              "    <path d=\"M18.56 5.44l.94 2.06.94-2.06 2.06-.94-2.06-.94-.94-2.06-.94 2.06-2.06.94zm-11 1L8.5 8.5l.94-2.06 2.06-.94-2.06-.94L8.5 2.5l-.94 2.06-2.06.94zm10 10l.94 2.06.94-2.06 2.06-.94-2.06-.94-.94-2.06-.94 2.06-2.06.94z\"/><path d=\"M17.41 7.96l-1.37-1.37c-.4-.4-.92-.59-1.43-.59-.52 0-1.04.2-1.43.59L10.3 9.45l-7.72 7.72c-.78.78-.78 2.05 0 2.83L4 21.41c.39.39.9.59 1.41.59.51 0 1.02-.2 1.41-.59l7.78-7.78 2.81-2.81c.8-.78.8-2.07 0-2.86zM5.41 20L4 18.59l7.72-7.72 1.47 1.35L5.41 20z\"/>\n",
              "  </svg>\n",
              "      </button>\n",
              "      \n",
              "  <style>\n",
              "    .colab-df-container {\n",
              "      display:flex;\n",
              "      flex-wrap:wrap;\n",
              "      gap: 12px;\n",
              "    }\n",
              "\n",
              "    .colab-df-convert {\n",
              "      background-color: #E8F0FE;\n",
              "      border: none;\n",
              "      border-radius: 50%;\n",
              "      cursor: pointer;\n",
              "      display: none;\n",
              "      fill: #1967D2;\n",
              "      height: 32px;\n",
              "      padding: 0 0 0 0;\n",
              "      width: 32px;\n",
              "    }\n",
              "\n",
              "    .colab-df-convert:hover {\n",
              "      background-color: #E2EBFA;\n",
              "      box-shadow: 0px 1px 2px rgba(60, 64, 67, 0.3), 0px 1px 3px 1px rgba(60, 64, 67, 0.15);\n",
              "      fill: #174EA6;\n",
              "    }\n",
              "\n",
              "    [theme=dark] .colab-df-convert {\n",
              "      background-color: #3B4455;\n",
              "      fill: #D2E3FC;\n",
              "    }\n",
              "\n",
              "    [theme=dark] .colab-df-convert:hover {\n",
              "      background-color: #434B5C;\n",
              "      box-shadow: 0px 1px 3px 1px rgba(0, 0, 0, 0.15);\n",
              "      filter: drop-shadow(0px 1px 2px rgba(0, 0, 0, 0.3));\n",
              "      fill: #FFFFFF;\n",
              "    }\n",
              "  </style>\n",
              "\n",
              "      <script>\n",
              "        const buttonEl =\n",
              "          document.querySelector('#df-b69090e9-5649-43bc-92f6-74e067b80643 button.colab-df-convert');\n",
              "        buttonEl.style.display =\n",
              "          google.colab.kernel.accessAllowed ? 'block' : 'none';\n",
              "\n",
              "        async function convertToInteractive(key) {\n",
              "          const element = document.querySelector('#df-b69090e9-5649-43bc-92f6-74e067b80643');\n",
              "          const dataTable =\n",
              "            await google.colab.kernel.invokeFunction('convertToInteractive',\n",
              "                                                     [key], {});\n",
              "          if (!dataTable) return;\n",
              "\n",
              "          const docLinkHtml = 'Like what you see? Visit the ' +\n",
              "            '<a target=\"_blank\" href=https://colab.research.google.com/notebooks/data_table.ipynb>data table notebook</a>'\n",
              "            + ' to learn more about interactive tables.';\n",
              "          element.innerHTML = '';\n",
              "          dataTable['output_type'] = 'display_data';\n",
              "          await google.colab.output.renderOutput(dataTable, element);\n",
              "          const docLink = document.createElement('div');\n",
              "          docLink.innerHTML = docLinkHtml;\n",
              "          element.appendChild(docLink);\n",
              "        }\n",
              "      </script>\n",
              "    </div>\n",
              "  </div>\n",
              "  "
            ],
            "text/plain": [
              "     lesion_id      image_id   dx dx_type   age   sex localization\n",
              "0  HAM_0000118  ISIC_0027419  bkl   histo  80.0  male        scalp\n",
              "1  HAM_0000118  ISIC_0025030  bkl   histo  80.0  male        scalp\n",
              "2  HAM_0002730  ISIC_0026769  bkl   histo  80.0  male        scalp\n",
              "3  HAM_0002730  ISIC_0025661  bkl   histo  80.0  male        scalp\n",
              "4  HAM_0001466  ISIC_0031633  bkl   histo  75.0  male          ear"
            ]
          },
          "execution_count": 5,
          "metadata": {},
          "output_type": "execute_result"
        }
      ],
      "source": [
        "data_pd = pd.read_csv('/content/drive/MyDrive/Skin Cancer/HAM10000_metadata.csv')\n",
        "data_pd.head()"
      ]
    },
    {
      "cell_type": "code",
      "execution_count": null,
      "metadata": {
        "colab": {
          "base_uri": "https://localhost:8080/",
          "height": 237
        },
        "id": "n7f_H-IbPoB-",
        "outputId": "97e7ead1-3822-4f35-f0c6-c87906f09e88"
      },
      "outputs": [
        {
          "data": {
            "text/html": [
              "\n",
              "  <div id=\"df-29bb4c46-9001-4bca-8523-2fc8270381d9\">\n",
              "    <div class=\"colab-df-container\">\n",
              "      <div>\n",
              "<style scoped>\n",
              "    .dataframe tbody tr th:only-of-type {\n",
              "        vertical-align: middle;\n",
              "    }\n",
              "\n",
              "    .dataframe tbody tr th {\n",
              "        vertical-align: top;\n",
              "    }\n",
              "\n",
              "    .dataframe thead th {\n",
              "        text-align: right;\n",
              "    }\n",
              "</style>\n",
              "<table border=\"1\" class=\"dataframe\">\n",
              "  <thead>\n",
              "    <tr style=\"text-align: right;\">\n",
              "      <th></th>\n",
              "      <th>image_id</th>\n",
              "      <th>dx</th>\n",
              "      <th>dx_type</th>\n",
              "      <th>age</th>\n",
              "      <th>sex</th>\n",
              "      <th>localization</th>\n",
              "    </tr>\n",
              "    <tr>\n",
              "      <th>lesion_id</th>\n",
              "      <th></th>\n",
              "      <th></th>\n",
              "      <th></th>\n",
              "      <th></th>\n",
              "      <th></th>\n",
              "      <th></th>\n",
              "    </tr>\n",
              "  </thead>\n",
              "  <tbody>\n",
              "    <tr>\n",
              "      <th>HAM_0000000</th>\n",
              "      <td>2</td>\n",
              "      <td>2</td>\n",
              "      <td>2</td>\n",
              "      <td>2</td>\n",
              "      <td>2</td>\n",
              "      <td>2</td>\n",
              "    </tr>\n",
              "    <tr>\n",
              "      <th>HAM_0000001</th>\n",
              "      <td>1</td>\n",
              "      <td>1</td>\n",
              "      <td>1</td>\n",
              "      <td>1</td>\n",
              "      <td>1</td>\n",
              "      <td>1</td>\n",
              "    </tr>\n",
              "    <tr>\n",
              "      <th>HAM_0000002</th>\n",
              "      <td>3</td>\n",
              "      <td>3</td>\n",
              "      <td>3</td>\n",
              "      <td>3</td>\n",
              "      <td>3</td>\n",
              "      <td>3</td>\n",
              "    </tr>\n",
              "    <tr>\n",
              "      <th>HAM_0000003</th>\n",
              "      <td>1</td>\n",
              "      <td>1</td>\n",
              "      <td>1</td>\n",
              "      <td>1</td>\n",
              "      <td>1</td>\n",
              "      <td>1</td>\n",
              "    </tr>\n",
              "    <tr>\n",
              "      <th>HAM_0000004</th>\n",
              "      <td>1</td>\n",
              "      <td>1</td>\n",
              "      <td>1</td>\n",
              "      <td>1</td>\n",
              "      <td>1</td>\n",
              "      <td>1</td>\n",
              "    </tr>\n",
              "  </tbody>\n",
              "</table>\n",
              "</div>\n",
              "      <button class=\"colab-df-convert\" onclick=\"convertToInteractive('df-29bb4c46-9001-4bca-8523-2fc8270381d9')\"\n",
              "              title=\"Convert this dataframe to an interactive table.\"\n",
              "              style=\"display:none;\">\n",
              "        \n",
              "  <svg xmlns=\"http://www.w3.org/2000/svg\" height=\"24px\"viewBox=\"0 0 24 24\"\n",
              "       width=\"24px\">\n",
              "    <path d=\"M0 0h24v24H0V0z\" fill=\"none\"/>\n",
              "    <path d=\"M18.56 5.44l.94 2.06.94-2.06 2.06-.94-2.06-.94-.94-2.06-.94 2.06-2.06.94zm-11 1L8.5 8.5l.94-2.06 2.06-.94-2.06-.94L8.5 2.5l-.94 2.06-2.06.94zm10 10l.94 2.06.94-2.06 2.06-.94-2.06-.94-.94-2.06-.94 2.06-2.06.94z\"/><path d=\"M17.41 7.96l-1.37-1.37c-.4-.4-.92-.59-1.43-.59-.52 0-1.04.2-1.43.59L10.3 9.45l-7.72 7.72c-.78.78-.78 2.05 0 2.83L4 21.41c.39.39.9.59 1.41.59.51 0 1.02-.2 1.41-.59l7.78-7.78 2.81-2.81c.8-.78.8-2.07 0-2.86zM5.41 20L4 18.59l7.72-7.72 1.47 1.35L5.41 20z\"/>\n",
              "  </svg>\n",
              "      </button>\n",
              "      \n",
              "  <style>\n",
              "    .colab-df-container {\n",
              "      display:flex;\n",
              "      flex-wrap:wrap;\n",
              "      gap: 12px;\n",
              "    }\n",
              "\n",
              "    .colab-df-convert {\n",
              "      background-color: #E8F0FE;\n",
              "      border: none;\n",
              "      border-radius: 50%;\n",
              "      cursor: pointer;\n",
              "      display: none;\n",
              "      fill: #1967D2;\n",
              "      height: 32px;\n",
              "      padding: 0 0 0 0;\n",
              "      width: 32px;\n",
              "    }\n",
              "\n",
              "    .colab-df-convert:hover {\n",
              "      background-color: #E2EBFA;\n",
              "      box-shadow: 0px 1px 2px rgba(60, 64, 67, 0.3), 0px 1px 3px 1px rgba(60, 64, 67, 0.15);\n",
              "      fill: #174EA6;\n",
              "    }\n",
              "\n",
              "    [theme=dark] .colab-df-convert {\n",
              "      background-color: #3B4455;\n",
              "      fill: #D2E3FC;\n",
              "    }\n",
              "\n",
              "    [theme=dark] .colab-df-convert:hover {\n",
              "      background-color: #434B5C;\n",
              "      box-shadow: 0px 1px 3px 1px rgba(0, 0, 0, 0.15);\n",
              "      filter: drop-shadow(0px 1px 2px rgba(0, 0, 0, 0.3));\n",
              "      fill: #FFFFFF;\n",
              "    }\n",
              "  </style>\n",
              "\n",
              "      <script>\n",
              "        const buttonEl =\n",
              "          document.querySelector('#df-29bb4c46-9001-4bca-8523-2fc8270381d9 button.colab-df-convert');\n",
              "        buttonEl.style.display =\n",
              "          google.colab.kernel.accessAllowed ? 'block' : 'none';\n",
              "\n",
              "        async function convertToInteractive(key) {\n",
              "          const element = document.querySelector('#df-29bb4c46-9001-4bca-8523-2fc8270381d9');\n",
              "          const dataTable =\n",
              "            await google.colab.kernel.invokeFunction('convertToInteractive',\n",
              "                                                     [key], {});\n",
              "          if (!dataTable) return;\n",
              "\n",
              "          const docLinkHtml = 'Like what you see? Visit the ' +\n",
              "            '<a target=\"_blank\" href=https://colab.research.google.com/notebooks/data_table.ipynb>data table notebook</a>'\n",
              "            + ' to learn more about interactive tables.';\n",
              "          element.innerHTML = '';\n",
              "          dataTable['output_type'] = 'display_data';\n",
              "          await google.colab.output.renderOutput(dataTable, element);\n",
              "          const docLink = document.createElement('div');\n",
              "          docLink.innerHTML = docLinkHtml;\n",
              "          element.appendChild(docLink);\n",
              "        }\n",
              "      </script>\n",
              "    </div>\n",
              "  </div>\n",
              "  "
            ],
            "text/plain": [
              "             image_id  dx  dx_type  age  sex  localization\n",
              "lesion_id                                                 \n",
              "HAM_0000000         2   2        2    2    2             2\n",
              "HAM_0000001         1   1        1    1    1             1\n",
              "HAM_0000002         3   3        3    3    3             3\n",
              "HAM_0000003         1   1        1    1    1             1\n",
              "HAM_0000004         1   1        1    1    1             1"
            ]
          },
          "execution_count": 6,
          "metadata": {},
          "output_type": "execute_result"
        }
      ],
      "source": [
        "df_count = data_pd.groupby('lesion_id').count()\n",
        "df_count.head()"
      ]
    },
    {
      "cell_type": "code",
      "execution_count": null,
      "metadata": {
        "id": "HFnoazqNQfjn"
      },
      "outputs": [],
      "source": [
        "df_count = df_count[df_count['dx'] == 1]\n",
        "df_count.reset_index(inplace=True)"
      ]
    },
    {
      "cell_type": "code",
      "execution_count": null,
      "metadata": {
        "id": "G5rNJJZLQjf8"
      },
      "outputs": [],
      "source": [
        "def duplicates(x):\n",
        "    unique = set(df_count['lesion_id'])\n",
        "    if x in unique:\n",
        "        return 'no' \n",
        "    else:\n",
        "        return 'duplicates'"
      ]
    },
    {
      "cell_type": "code",
      "execution_count": null,
      "metadata": {
        "colab": {
          "base_uri": "https://localhost:8080/",
          "height": 206
        },
        "id": "EAm8OFYQQmao",
        "outputId": "f3419bee-0620-433f-88c7-75140a0388f8"
      },
      "outputs": [
        {
          "data": {
            "text/html": [
              "\n",
              "  <div id=\"df-49ba9a06-561e-4512-b3cd-beca6310616a\">\n",
              "    <div class=\"colab-df-container\">\n",
              "      <div>\n",
              "<style scoped>\n",
              "    .dataframe tbody tr th:only-of-type {\n",
              "        vertical-align: middle;\n",
              "    }\n",
              "\n",
              "    .dataframe tbody tr th {\n",
              "        vertical-align: top;\n",
              "    }\n",
              "\n",
              "    .dataframe thead th {\n",
              "        text-align: right;\n",
              "    }\n",
              "</style>\n",
              "<table border=\"1\" class=\"dataframe\">\n",
              "  <thead>\n",
              "    <tr style=\"text-align: right;\">\n",
              "      <th></th>\n",
              "      <th>lesion_id</th>\n",
              "      <th>image_id</th>\n",
              "      <th>dx</th>\n",
              "      <th>dx_type</th>\n",
              "      <th>age</th>\n",
              "      <th>sex</th>\n",
              "      <th>localization</th>\n",
              "      <th>is_duplicate</th>\n",
              "    </tr>\n",
              "  </thead>\n",
              "  <tbody>\n",
              "    <tr>\n",
              "      <th>0</th>\n",
              "      <td>HAM_0000118</td>\n",
              "      <td>ISIC_0027419</td>\n",
              "      <td>bkl</td>\n",
              "      <td>histo</td>\n",
              "      <td>80.0</td>\n",
              "      <td>male</td>\n",
              "      <td>scalp</td>\n",
              "      <td>duplicates</td>\n",
              "    </tr>\n",
              "    <tr>\n",
              "      <th>1</th>\n",
              "      <td>HAM_0000118</td>\n",
              "      <td>ISIC_0025030</td>\n",
              "      <td>bkl</td>\n",
              "      <td>histo</td>\n",
              "      <td>80.0</td>\n",
              "      <td>male</td>\n",
              "      <td>scalp</td>\n",
              "      <td>duplicates</td>\n",
              "    </tr>\n",
              "    <tr>\n",
              "      <th>2</th>\n",
              "      <td>HAM_0002730</td>\n",
              "      <td>ISIC_0026769</td>\n",
              "      <td>bkl</td>\n",
              "      <td>histo</td>\n",
              "      <td>80.0</td>\n",
              "      <td>male</td>\n",
              "      <td>scalp</td>\n",
              "      <td>duplicates</td>\n",
              "    </tr>\n",
              "    <tr>\n",
              "      <th>3</th>\n",
              "      <td>HAM_0002730</td>\n",
              "      <td>ISIC_0025661</td>\n",
              "      <td>bkl</td>\n",
              "      <td>histo</td>\n",
              "      <td>80.0</td>\n",
              "      <td>male</td>\n",
              "      <td>scalp</td>\n",
              "      <td>duplicates</td>\n",
              "    </tr>\n",
              "    <tr>\n",
              "      <th>4</th>\n",
              "      <td>HAM_0001466</td>\n",
              "      <td>ISIC_0031633</td>\n",
              "      <td>bkl</td>\n",
              "      <td>histo</td>\n",
              "      <td>75.0</td>\n",
              "      <td>male</td>\n",
              "      <td>ear</td>\n",
              "      <td>duplicates</td>\n",
              "    </tr>\n",
              "  </tbody>\n",
              "</table>\n",
              "</div>\n",
              "      <button class=\"colab-df-convert\" onclick=\"convertToInteractive('df-49ba9a06-561e-4512-b3cd-beca6310616a')\"\n",
              "              title=\"Convert this dataframe to an interactive table.\"\n",
              "              style=\"display:none;\">\n",
              "        \n",
              "  <svg xmlns=\"http://www.w3.org/2000/svg\" height=\"24px\"viewBox=\"0 0 24 24\"\n",
              "       width=\"24px\">\n",
              "    <path d=\"M0 0h24v24H0V0z\" fill=\"none\"/>\n",
              "    <path d=\"M18.56 5.44l.94 2.06.94-2.06 2.06-.94-2.06-.94-.94-2.06-.94 2.06-2.06.94zm-11 1L8.5 8.5l.94-2.06 2.06-.94-2.06-.94L8.5 2.5l-.94 2.06-2.06.94zm10 10l.94 2.06.94-2.06 2.06-.94-2.06-.94-.94-2.06-.94 2.06-2.06.94z\"/><path d=\"M17.41 7.96l-1.37-1.37c-.4-.4-.92-.59-1.43-.59-.52 0-1.04.2-1.43.59L10.3 9.45l-7.72 7.72c-.78.78-.78 2.05 0 2.83L4 21.41c.39.39.9.59 1.41.59.51 0 1.02-.2 1.41-.59l7.78-7.78 2.81-2.81c.8-.78.8-2.07 0-2.86zM5.41 20L4 18.59l7.72-7.72 1.47 1.35L5.41 20z\"/>\n",
              "  </svg>\n",
              "      </button>\n",
              "      \n",
              "  <style>\n",
              "    .colab-df-container {\n",
              "      display:flex;\n",
              "      flex-wrap:wrap;\n",
              "      gap: 12px;\n",
              "    }\n",
              "\n",
              "    .colab-df-convert {\n",
              "      background-color: #E8F0FE;\n",
              "      border: none;\n",
              "      border-radius: 50%;\n",
              "      cursor: pointer;\n",
              "      display: none;\n",
              "      fill: #1967D2;\n",
              "      height: 32px;\n",
              "      padding: 0 0 0 0;\n",
              "      width: 32px;\n",
              "    }\n",
              "\n",
              "    .colab-df-convert:hover {\n",
              "      background-color: #E2EBFA;\n",
              "      box-shadow: 0px 1px 2px rgba(60, 64, 67, 0.3), 0px 1px 3px 1px rgba(60, 64, 67, 0.15);\n",
              "      fill: #174EA6;\n",
              "    }\n",
              "\n",
              "    [theme=dark] .colab-df-convert {\n",
              "      background-color: #3B4455;\n",
              "      fill: #D2E3FC;\n",
              "    }\n",
              "\n",
              "    [theme=dark] .colab-df-convert:hover {\n",
              "      background-color: #434B5C;\n",
              "      box-shadow: 0px 1px 3px 1px rgba(0, 0, 0, 0.15);\n",
              "      filter: drop-shadow(0px 1px 2px rgba(0, 0, 0, 0.3));\n",
              "      fill: #FFFFFF;\n",
              "    }\n",
              "  </style>\n",
              "\n",
              "      <script>\n",
              "        const buttonEl =\n",
              "          document.querySelector('#df-49ba9a06-561e-4512-b3cd-beca6310616a button.colab-df-convert');\n",
              "        buttonEl.style.display =\n",
              "          google.colab.kernel.accessAllowed ? 'block' : 'none';\n",
              "\n",
              "        async function convertToInteractive(key) {\n",
              "          const element = document.querySelector('#df-49ba9a06-561e-4512-b3cd-beca6310616a');\n",
              "          const dataTable =\n",
              "            await google.colab.kernel.invokeFunction('convertToInteractive',\n",
              "                                                     [key], {});\n",
              "          if (!dataTable) return;\n",
              "\n",
              "          const docLinkHtml = 'Like what you see? Visit the ' +\n",
              "            '<a target=\"_blank\" href=https://colab.research.google.com/notebooks/data_table.ipynb>data table notebook</a>'\n",
              "            + ' to learn more about interactive tables.';\n",
              "          element.innerHTML = '';\n",
              "          dataTable['output_type'] = 'display_data';\n",
              "          await google.colab.output.renderOutput(dataTable, element);\n",
              "          const docLink = document.createElement('div');\n",
              "          docLink.innerHTML = docLinkHtml;\n",
              "          element.appendChild(docLink);\n",
              "        }\n",
              "      </script>\n",
              "    </div>\n",
              "  </div>\n",
              "  "
            ],
            "text/plain": [
              "     lesion_id      image_id   dx dx_type   age   sex localization  \\\n",
              "0  HAM_0000118  ISIC_0027419  bkl   histo  80.0  male        scalp   \n",
              "1  HAM_0000118  ISIC_0025030  bkl   histo  80.0  male        scalp   \n",
              "2  HAM_0002730  ISIC_0026769  bkl   histo  80.0  male        scalp   \n",
              "3  HAM_0002730  ISIC_0025661  bkl   histo  80.0  male        scalp   \n",
              "4  HAM_0001466  ISIC_0031633  bkl   histo  75.0  male          ear   \n",
              "\n",
              "  is_duplicate  \n",
              "0   duplicates  \n",
              "1   duplicates  \n",
              "2   duplicates  \n",
              "3   duplicates  \n",
              "4   duplicates  "
            ]
          },
          "execution_count": 9,
          "metadata": {},
          "output_type": "execute_result"
        }
      ],
      "source": [
        "data_pd['is_duplicate'] = data_pd['lesion_id'].apply(duplicates)\n",
        "data_pd.head()"
      ]
    },
    {
      "cell_type": "code",
      "execution_count": null,
      "metadata": {
        "id": "IGk22f5rQqKb"
      },
      "outputs": [],
      "source": [
        "df_count = data_pd[data_pd['is_duplicate'] == 'no']"
      ]
    },
    {
      "cell_type": "code",
      "execution_count": null,
      "metadata": {
        "id": "Js3yf2C5QvXj"
      },
      "outputs": [],
      "source": [
        "train, test_df = train_test_split(df_count, test_size=0.15, stratify=df_count['dx'])"
      ]
    },
    {
      "cell_type": "code",
      "execution_count": null,
      "metadata": {
        "colab": {
          "base_uri": "https://localhost:8080/",
          "height": 206
        },
        "id": "4uNovHVXQyW5",
        "outputId": "905b996d-93b0-4103-c759-f9e24a563637"
      },
      "outputs": [
        {
          "data": {
            "text/html": [
              "\n",
              "  <div id=\"df-84481878-a5b0-456d-b86b-21a136991ded\">\n",
              "    <div class=\"colab-df-container\">\n",
              "      <div>\n",
              "<style scoped>\n",
              "    .dataframe tbody tr th:only-of-type {\n",
              "        vertical-align: middle;\n",
              "    }\n",
              "\n",
              "    .dataframe tbody tr th {\n",
              "        vertical-align: top;\n",
              "    }\n",
              "\n",
              "    .dataframe thead th {\n",
              "        text-align: right;\n",
              "    }\n",
              "</style>\n",
              "<table border=\"1\" class=\"dataframe\">\n",
              "  <thead>\n",
              "    <tr style=\"text-align: right;\">\n",
              "      <th></th>\n",
              "      <th>lesion_id</th>\n",
              "      <th>image_id</th>\n",
              "      <th>dx</th>\n",
              "      <th>dx_type</th>\n",
              "      <th>age</th>\n",
              "      <th>sex</th>\n",
              "      <th>localization</th>\n",
              "      <th>is_duplicate</th>\n",
              "      <th>train_test_split</th>\n",
              "    </tr>\n",
              "  </thead>\n",
              "  <tbody>\n",
              "    <tr>\n",
              "      <th>0</th>\n",
              "      <td>HAM_0000118</td>\n",
              "      <td>ISIC_0027419</td>\n",
              "      <td>bkl</td>\n",
              "      <td>histo</td>\n",
              "      <td>80.0</td>\n",
              "      <td>male</td>\n",
              "      <td>scalp</td>\n",
              "      <td>duplicates</td>\n",
              "      <td>train</td>\n",
              "    </tr>\n",
              "    <tr>\n",
              "      <th>1</th>\n",
              "      <td>HAM_0000118</td>\n",
              "      <td>ISIC_0025030</td>\n",
              "      <td>bkl</td>\n",
              "      <td>histo</td>\n",
              "      <td>80.0</td>\n",
              "      <td>male</td>\n",
              "      <td>scalp</td>\n",
              "      <td>duplicates</td>\n",
              "      <td>train</td>\n",
              "    </tr>\n",
              "    <tr>\n",
              "      <th>2</th>\n",
              "      <td>HAM_0002730</td>\n",
              "      <td>ISIC_0026769</td>\n",
              "      <td>bkl</td>\n",
              "      <td>histo</td>\n",
              "      <td>80.0</td>\n",
              "      <td>male</td>\n",
              "      <td>scalp</td>\n",
              "      <td>duplicates</td>\n",
              "      <td>train</td>\n",
              "    </tr>\n",
              "    <tr>\n",
              "      <th>3</th>\n",
              "      <td>HAM_0002730</td>\n",
              "      <td>ISIC_0025661</td>\n",
              "      <td>bkl</td>\n",
              "      <td>histo</td>\n",
              "      <td>80.0</td>\n",
              "      <td>male</td>\n",
              "      <td>scalp</td>\n",
              "      <td>duplicates</td>\n",
              "      <td>train</td>\n",
              "    </tr>\n",
              "    <tr>\n",
              "      <th>4</th>\n",
              "      <td>HAM_0001466</td>\n",
              "      <td>ISIC_0031633</td>\n",
              "      <td>bkl</td>\n",
              "      <td>histo</td>\n",
              "      <td>75.0</td>\n",
              "      <td>male</td>\n",
              "      <td>ear</td>\n",
              "      <td>duplicates</td>\n",
              "      <td>train</td>\n",
              "    </tr>\n",
              "  </tbody>\n",
              "</table>\n",
              "</div>\n",
              "      <button class=\"colab-df-convert\" onclick=\"convertToInteractive('df-84481878-a5b0-456d-b86b-21a136991ded')\"\n",
              "              title=\"Convert this dataframe to an interactive table.\"\n",
              "              style=\"display:none;\">\n",
              "        \n",
              "  <svg xmlns=\"http://www.w3.org/2000/svg\" height=\"24px\"viewBox=\"0 0 24 24\"\n",
              "       width=\"24px\">\n",
              "    <path d=\"M0 0h24v24H0V0z\" fill=\"none\"/>\n",
              "    <path d=\"M18.56 5.44l.94 2.06.94-2.06 2.06-.94-2.06-.94-.94-2.06-.94 2.06-2.06.94zm-11 1L8.5 8.5l.94-2.06 2.06-.94-2.06-.94L8.5 2.5l-.94 2.06-2.06.94zm10 10l.94 2.06.94-2.06 2.06-.94-2.06-.94-.94-2.06-.94 2.06-2.06.94z\"/><path d=\"M17.41 7.96l-1.37-1.37c-.4-.4-.92-.59-1.43-.59-.52 0-1.04.2-1.43.59L10.3 9.45l-7.72 7.72c-.78.78-.78 2.05 0 2.83L4 21.41c.39.39.9.59 1.41.59.51 0 1.02-.2 1.41-.59l7.78-7.78 2.81-2.81c.8-.78.8-2.07 0-2.86zM5.41 20L4 18.59l7.72-7.72 1.47 1.35L5.41 20z\"/>\n",
              "  </svg>\n",
              "      </button>\n",
              "      \n",
              "  <style>\n",
              "    .colab-df-container {\n",
              "      display:flex;\n",
              "      flex-wrap:wrap;\n",
              "      gap: 12px;\n",
              "    }\n",
              "\n",
              "    .colab-df-convert {\n",
              "      background-color: #E8F0FE;\n",
              "      border: none;\n",
              "      border-radius: 50%;\n",
              "      cursor: pointer;\n",
              "      display: none;\n",
              "      fill: #1967D2;\n",
              "      height: 32px;\n",
              "      padding: 0 0 0 0;\n",
              "      width: 32px;\n",
              "    }\n",
              "\n",
              "    .colab-df-convert:hover {\n",
              "      background-color: #E2EBFA;\n",
              "      box-shadow: 0px 1px 2px rgba(60, 64, 67, 0.3), 0px 1px 3px 1px rgba(60, 64, 67, 0.15);\n",
              "      fill: #174EA6;\n",
              "    }\n",
              "\n",
              "    [theme=dark] .colab-df-convert {\n",
              "      background-color: #3B4455;\n",
              "      fill: #D2E3FC;\n",
              "    }\n",
              "\n",
              "    [theme=dark] .colab-df-convert:hover {\n",
              "      background-color: #434B5C;\n",
              "      box-shadow: 0px 1px 3px 1px rgba(0, 0, 0, 0.15);\n",
              "      filter: drop-shadow(0px 1px 2px rgba(0, 0, 0, 0.3));\n",
              "      fill: #FFFFFF;\n",
              "    }\n",
              "  </style>\n",
              "\n",
              "      <script>\n",
              "        const buttonEl =\n",
              "          document.querySelector('#df-84481878-a5b0-456d-b86b-21a136991ded button.colab-df-convert');\n",
              "        buttonEl.style.display =\n",
              "          google.colab.kernel.accessAllowed ? 'block' : 'none';\n",
              "\n",
              "        async function convertToInteractive(key) {\n",
              "          const element = document.querySelector('#df-84481878-a5b0-456d-b86b-21a136991ded');\n",
              "          const dataTable =\n",
              "            await google.colab.kernel.invokeFunction('convertToInteractive',\n",
              "                                                     [key], {});\n",
              "          if (!dataTable) return;\n",
              "\n",
              "          const docLinkHtml = 'Like what you see? Visit the ' +\n",
              "            '<a target=\"_blank\" href=https://colab.research.google.com/notebooks/data_table.ipynb>data table notebook</a>'\n",
              "            + ' to learn more about interactive tables.';\n",
              "          element.innerHTML = '';\n",
              "          dataTable['output_type'] = 'display_data';\n",
              "          await google.colab.output.renderOutput(dataTable, element);\n",
              "          const docLink = document.createElement('div');\n",
              "          docLink.innerHTML = docLinkHtml;\n",
              "          element.appendChild(docLink);\n",
              "        }\n",
              "      </script>\n",
              "    </div>\n",
              "  </div>\n",
              "  "
            ],
            "text/plain": [
              "     lesion_id      image_id   dx dx_type   age   sex localization  \\\n",
              "0  HAM_0000118  ISIC_0027419  bkl   histo  80.0  male        scalp   \n",
              "1  HAM_0000118  ISIC_0025030  bkl   histo  80.0  male        scalp   \n",
              "2  HAM_0002730  ISIC_0026769  bkl   histo  80.0  male        scalp   \n",
              "3  HAM_0002730  ISIC_0025661  bkl   histo  80.0  male        scalp   \n",
              "4  HAM_0001466  ISIC_0031633  bkl   histo  75.0  male          ear   \n",
              "\n",
              "  is_duplicate train_test_split  \n",
              "0   duplicates            train  \n",
              "1   duplicates            train  \n",
              "2   duplicates            train  \n",
              "3   duplicates            train  \n",
              "4   duplicates            train  "
            ]
          },
          "execution_count": 12,
          "metadata": {},
          "output_type": "execute_result"
        }
      ],
      "source": [
        "def identify_trainOrtest(x):\n",
        "    test_data = set(test_df['image_id'])\n",
        "    if str(x) in test_data:\n",
        "        return 'test'\n",
        "    else:\n",
        "        return 'train'\n",
        "\n",
        "#creating train_df\n",
        "data_pd['train_test_split'] = data_pd['image_id'].apply(identify_trainOrtest)\n",
        "train_df = data_pd[data_pd['train_test_split'] == 'train']\n",
        "train_df.head()"
      ]
    },
    {
      "cell_type": "code",
      "execution_count": null,
      "metadata": {
        "colab": {
          "base_uri": "https://localhost:8080/",
          "height": 206
        },
        "id": "B-jQL7xXQ3ET",
        "outputId": "2a9cce44-ae1c-4130-9d19-21dc0c6a2d77"
      },
      "outputs": [
        {
          "data": {
            "text/html": [
              "\n",
              "  <div id=\"df-c2070c8c-19f3-4f77-895e-af389892add4\">\n",
              "    <div class=\"colab-df-container\">\n",
              "      <div>\n",
              "<style scoped>\n",
              "    .dataframe tbody tr th:only-of-type {\n",
              "        vertical-align: middle;\n",
              "    }\n",
              "\n",
              "    .dataframe tbody tr th {\n",
              "        vertical-align: top;\n",
              "    }\n",
              "\n",
              "    .dataframe thead th {\n",
              "        text-align: right;\n",
              "    }\n",
              "</style>\n",
              "<table border=\"1\" class=\"dataframe\">\n",
              "  <thead>\n",
              "    <tr style=\"text-align: right;\">\n",
              "      <th></th>\n",
              "      <th>lesion_id</th>\n",
              "      <th>image_id</th>\n",
              "      <th>dx</th>\n",
              "      <th>dx_type</th>\n",
              "      <th>age</th>\n",
              "      <th>sex</th>\n",
              "      <th>localization</th>\n",
              "      <th>is_duplicate</th>\n",
              "    </tr>\n",
              "  </thead>\n",
              "  <tbody>\n",
              "    <tr>\n",
              "      <th>5676</th>\n",
              "      <td>HAM_0005120</td>\n",
              "      <td>ISIC_0027685</td>\n",
              "      <td>nv</td>\n",
              "      <td>follow_up</td>\n",
              "      <td>50.0</td>\n",
              "      <td>male</td>\n",
              "      <td>foot</td>\n",
              "      <td>no</td>\n",
              "    </tr>\n",
              "    <tr>\n",
              "      <th>3454</th>\n",
              "      <td>HAM_0000175</td>\n",
              "      <td>ISIC_0028356</td>\n",
              "      <td>nv</td>\n",
              "      <td>follow_up</td>\n",
              "      <td>40.0</td>\n",
              "      <td>female</td>\n",
              "      <td>lower extremity</td>\n",
              "      <td>no</td>\n",
              "    </tr>\n",
              "    <tr>\n",
              "      <th>5342</th>\n",
              "      <td>HAM_0001029</td>\n",
              "      <td>ISIC_0024384</td>\n",
              "      <td>nv</td>\n",
              "      <td>follow_up</td>\n",
              "      <td>35.0</td>\n",
              "      <td>male</td>\n",
              "      <td>lower extremity</td>\n",
              "      <td>no</td>\n",
              "    </tr>\n",
              "    <tr>\n",
              "      <th>4045</th>\n",
              "      <td>HAM_0006829</td>\n",
              "      <td>ISIC_0024619</td>\n",
              "      <td>nv</td>\n",
              "      <td>follow_up</td>\n",
              "      <td>50.0</td>\n",
              "      <td>male</td>\n",
              "      <td>abdomen</td>\n",
              "      <td>no</td>\n",
              "    </tr>\n",
              "    <tr>\n",
              "      <th>4191</th>\n",
              "      <td>HAM_0003067</td>\n",
              "      <td>ISIC_0032084</td>\n",
              "      <td>nv</td>\n",
              "      <td>follow_up</td>\n",
              "      <td>60.0</td>\n",
              "      <td>male</td>\n",
              "      <td>abdomen</td>\n",
              "      <td>no</td>\n",
              "    </tr>\n",
              "  </tbody>\n",
              "</table>\n",
              "</div>\n",
              "      <button class=\"colab-df-convert\" onclick=\"convertToInteractive('df-c2070c8c-19f3-4f77-895e-af389892add4')\"\n",
              "              title=\"Convert this dataframe to an interactive table.\"\n",
              "              style=\"display:none;\">\n",
              "        \n",
              "  <svg xmlns=\"http://www.w3.org/2000/svg\" height=\"24px\"viewBox=\"0 0 24 24\"\n",
              "       width=\"24px\">\n",
              "    <path d=\"M0 0h24v24H0V0z\" fill=\"none\"/>\n",
              "    <path d=\"M18.56 5.44l.94 2.06.94-2.06 2.06-.94-2.06-.94-.94-2.06-.94 2.06-2.06.94zm-11 1L8.5 8.5l.94-2.06 2.06-.94-2.06-.94L8.5 2.5l-.94 2.06-2.06.94zm10 10l.94 2.06.94-2.06 2.06-.94-2.06-.94-.94-2.06-.94 2.06-2.06.94z\"/><path d=\"M17.41 7.96l-1.37-1.37c-.4-.4-.92-.59-1.43-.59-.52 0-1.04.2-1.43.59L10.3 9.45l-7.72 7.72c-.78.78-.78 2.05 0 2.83L4 21.41c.39.39.9.59 1.41.59.51 0 1.02-.2 1.41-.59l7.78-7.78 2.81-2.81c.8-.78.8-2.07 0-2.86zM5.41 20L4 18.59l7.72-7.72 1.47 1.35L5.41 20z\"/>\n",
              "  </svg>\n",
              "      </button>\n",
              "      \n",
              "  <style>\n",
              "    .colab-df-container {\n",
              "      display:flex;\n",
              "      flex-wrap:wrap;\n",
              "      gap: 12px;\n",
              "    }\n",
              "\n",
              "    .colab-df-convert {\n",
              "      background-color: #E8F0FE;\n",
              "      border: none;\n",
              "      border-radius: 50%;\n",
              "      cursor: pointer;\n",
              "      display: none;\n",
              "      fill: #1967D2;\n",
              "      height: 32px;\n",
              "      padding: 0 0 0 0;\n",
              "      width: 32px;\n",
              "    }\n",
              "\n",
              "    .colab-df-convert:hover {\n",
              "      background-color: #E2EBFA;\n",
              "      box-shadow: 0px 1px 2px rgba(60, 64, 67, 0.3), 0px 1px 3px 1px rgba(60, 64, 67, 0.15);\n",
              "      fill: #174EA6;\n",
              "    }\n",
              "\n",
              "    [theme=dark] .colab-df-convert {\n",
              "      background-color: #3B4455;\n",
              "      fill: #D2E3FC;\n",
              "    }\n",
              "\n",
              "    [theme=dark] .colab-df-convert:hover {\n",
              "      background-color: #434B5C;\n",
              "      box-shadow: 0px 1px 3px 1px rgba(0, 0, 0, 0.15);\n",
              "      filter: drop-shadow(0px 1px 2px rgba(0, 0, 0, 0.3));\n",
              "      fill: #FFFFFF;\n",
              "    }\n",
              "  </style>\n",
              "\n",
              "      <script>\n",
              "        const buttonEl =\n",
              "          document.querySelector('#df-c2070c8c-19f3-4f77-895e-af389892add4 button.colab-df-convert');\n",
              "        buttonEl.style.display =\n",
              "          google.colab.kernel.accessAllowed ? 'block' : 'none';\n",
              "\n",
              "        async function convertToInteractive(key) {\n",
              "          const element = document.querySelector('#df-c2070c8c-19f3-4f77-895e-af389892add4');\n",
              "          const dataTable =\n",
              "            await google.colab.kernel.invokeFunction('convertToInteractive',\n",
              "                                                     [key], {});\n",
              "          if (!dataTable) return;\n",
              "\n",
              "          const docLinkHtml = 'Like what you see? Visit the ' +\n",
              "            '<a target=\"_blank\" href=https://colab.research.google.com/notebooks/data_table.ipynb>data table notebook</a>'\n",
              "            + ' to learn more about interactive tables.';\n",
              "          element.innerHTML = '';\n",
              "          dataTable['output_type'] = 'display_data';\n",
              "          await google.colab.output.renderOutput(dataTable, element);\n",
              "          const docLink = document.createElement('div');\n",
              "          docLink.innerHTML = docLinkHtml;\n",
              "          element.appendChild(docLink);\n",
              "        }\n",
              "      </script>\n",
              "    </div>\n",
              "  </div>\n",
              "  "
            ],
            "text/plain": [
              "        lesion_id      image_id  dx    dx_type   age     sex     localization  \\\n",
              "5676  HAM_0005120  ISIC_0027685  nv  follow_up  50.0    male             foot   \n",
              "3454  HAM_0000175  ISIC_0028356  nv  follow_up  40.0  female  lower extremity   \n",
              "5342  HAM_0001029  ISIC_0024384  nv  follow_up  35.0    male  lower extremity   \n",
              "4045  HAM_0006829  ISIC_0024619  nv  follow_up  50.0    male          abdomen   \n",
              "4191  HAM_0003067  ISIC_0032084  nv  follow_up  60.0    male          abdomen   \n",
              "\n",
              "     is_duplicate  \n",
              "5676           no  \n",
              "3454           no  \n",
              "5342           no  \n",
              "4045           no  \n",
              "4191           no  "
            ]
          },
          "execution_count": 13,
          "metadata": {},
          "output_type": "execute_result"
        }
      ],
      "source": [
        "test_df.head()"
      ]
    },
    {
      "cell_type": "code",
      "execution_count": null,
      "metadata": {
        "colab": {
          "base_uri": "https://localhost:8080/"
        },
        "id": "bXtysaXMQ7R8",
        "outputId": "a50a10ae-65cb-4382-c7f6-edc2ef02dbf4"
      },
      "outputs": [
        {
          "data": {
            "text/plain": [
              "(9187, 828)"
            ]
          },
          "execution_count": 14,
          "metadata": {},
          "output_type": "execute_result"
        }
      ],
      "source": [
        "len(train_df),len(test_df)"
      ]
    },
    {
      "cell_type": "code",
      "execution_count": null,
      "metadata": {
        "id": "BNcZ75RsQ-eK"
      },
      "outputs": [],
      "source": [
        "# Image id of train and test images\n",
        "train_list = list(train_df['image_id'])\n",
        "test_list = list(test_df['image_id'])\n",
        "\n",
        "#Set the image_id as the index in data_pd\n",
        "data_pd.set_index('image_id', inplace=True)"
      ]
    },
    {
      "cell_type": "code",
      "execution_count": null,
      "metadata": {
        "id": "cJoxKHqqRDfJ"
      },
      "outputs": [],
      "source": [
        "import os\n",
        "\n",
        "base_dir = '/content/drive/MyDrive/Skin_Cancer_Classification_CapsNet/HAM10000'\n",
        "train_dir = os.path.join(base_dir, 'train_dir')\n",
        "test_dir = os.path.join(base_dir, 'test_dir')\n",
        "\n",
        "os.mkdir(train_dir)\n",
        "os.mkdir(test_dir)\n"
      ]
    },
    {
      "cell_type": "code",
      "execution_count": null,
      "metadata": {
        "id": "k2JUtrubRKKE"
      },
      "outputs": [],
      "source": [
        "# Image id of train and test images\n",
        "train_list = list(train_df['image_id'])\n",
        "test_list = list(test_df['image_id'])"
      ]
    },
    {
      "cell_type": "code",
      "execution_count": null,
      "metadata": {
        "id": "cfAmpM9UROoh"
      },
      "outputs": [],
      "source": [
        "targetnames = ['akiec', 'bcc', 'bkl', 'df', 'mel', 'nv', 'vasc']"
      ]
    },
    {
      "cell_type": "code",
      "execution_count": null,
      "metadata": {
        "id": "YmHdkliLRS3e"
      },
      "outputs": [],
      "source": [
        "for i in targetnames:\n",
        "    directory1=train_dir+'/'+i\n",
        "    directory2=test_dir+'/'+i\n",
        "    os.mkdir(directory1)\n",
        "    os.mkdir(directory2)"
      ]
    },
    {
      "cell_type": "code",
      "execution_count": null,
      "metadata": {
        "colab": {
          "base_uri": "https://localhost:8080/"
        },
        "id": "x8TIY7UESYiE",
        "outputId": "f4daf79b-a11c-4be6-beab-285f7ab3b24a"
      },
      "outputs": [
        {
          "data": {
            "text/plain": [
              "Index(['ISIC_0027419', 'ISIC_0025030', 'ISIC_0026769', 'ISIC_0025661',\n",
              "       'ISIC_0031633', 'ISIC_0027850', 'ISIC_0029176', 'ISIC_0029068',\n",
              "       'ISIC_0025837', 'ISIC_0025209',\n",
              "       ...\n",
              "       'ISIC_0028393', 'ISIC_0024948', 'ISIC_0028619', 'ISIC_0033705',\n",
              "       'ISIC_0031430', 'ISIC_0033084', 'ISIC_0033550', 'ISIC_0033536',\n",
              "       'ISIC_0032854', 'ISIC_0032258'],\n",
              "      dtype='object', name='image_id', length=10015)"
            ]
          },
          "execution_count": 20,
          "metadata": {},
          "output_type": "execute_result"
        }
      ],
      "source": [
        "data_pd.index"
      ]
    },
    {
      "cell_type": "code",
      "execution_count": null,
      "metadata": {
        "colab": {
          "base_uri": "https://localhost:8080/"
        },
        "id": "jyk53qe0SflU",
        "outputId": "f425a181-8042-4f09-fa20-574118f5c389"
      },
      "outputs": [
        {
          "name": "stdout",
          "output_type": "stream",
          "text": [
            "['ISIC_0027419', 'ISIC_0025030', 'ISIC_0026769', 'ISIC_0025661', 'ISIC_0031633', 'ISIC_0027850', 'ISIC_0029176', 'ISIC_0029068', 'ISIC_0025837', 'ISIC_0025209', 'ISIC_0025276', 'ISIC_0029396', 'ISIC_0025984', 'ISIC_0025767', 'ISIC_0032417', 'ISIC_0031326', 'ISIC_0025915', 'ISIC_0031029', 'ISIC_0029836', 'ISIC_0032129', 'ISIC_0032343', 'ISIC_0025033', 'ISIC_0027310', 'ISIC_0032128', 'ISIC_0025937', 'ISIC_0027828', 'ISIC_0029291', 'ISIC_0030698', 'ISIC_0025567', 'ISIC_0031753', 'ISIC_0026835', 'ISIC_0031159', 'ISIC_0031017', 'ISIC_0024981', 'ISIC_0027815', 'ISIC_0024324', 'ISIC_0029559', 'ISIC_0030661', 'ISIC_0027053', 'ISIC_0028560', 'ISIC_0031650', 'ISIC_0029161', 'ISIC_0026273', 'ISIC_0025076', 'ISIC_0029687', 'ISIC_0025642', 'ISIC_0025819', 'ISIC_0032013', 'ISIC_0031691', 'ISIC_0025419', 'ISIC_0030105', 'ISIC_0025016', 'ISIC_0029147', 'ISIC_0029301', 'ISIC_0026637', 'ISIC_0030377', 'ISIC_0027960', 'ISIC_0026955', 'ISIC_0028052', 'ISIC_0025286', 'ISIC_0031468', 'ISIC_0030926', 'ISIC_0029288', 'ISIC_0031008', 'ISIC_0031495', 'ISIC_0026104', 'ISIC_0025099', 'ISIC_0031485', 'ISIC_0029413', 'ISIC_0029576', 'ISIC_0031967', 'ISIC_0031584', 'ISIC_0025140', 'ISIC_0025554', 'ISIC_0029289', 'ISIC_0029912', 'ISIC_0033539', 'ISIC_0032283', 'ISIC_0030005', 'ISIC_0030189', 'ISIC_0026532', 'ISIC_0024832', 'ISIC_0026958', 'ISIC_0030768', 'ISIC_0029837', 'ISIC_0031624', 'ISIC_0025510', 'ISIC_0030607', 'ISIC_0029060', 'ISIC_0029308', 'ISIC_0024635', 'ISIC_0029425', 'ISIC_0028774', 'ISIC_0030565', 'ISIC_0027023', 'ISIC_0029022', 'ISIC_0025388', 'ISIC_0028080', 'ISIC_0026153', 'ISIC_0025876', 'ISIC_0025063', 'ISIC_0032463', 'ISIC_0025548', 'ISIC_0032304', 'ISIC_0031639', 'ISIC_0027957', 'ISIC_0031212', 'ISIC_0032382', 'ISIC_0027533', 'ISIC_0029674', 'ISIC_0028607', 'ISIC_0024623', 'ISIC_0029613', 'ISIC_0029418', 'ISIC_0027455', 'ISIC_0025906', 'ISIC_0027151', 'ISIC_0028646', 'ISIC_0026794', 'ISIC_0034318', 'ISIC_0032972', 'ISIC_0032534', 'ISIC_0033785', 'ISIC_0033184', 'ISIC_0032929', 'ISIC_0032963', 'ISIC_0032949', 'ISIC_0033322', 'ISIC_0033127', 'ISIC_0033041', 'ISIC_0033900', 'ISIC_0033361', 'ISIC_0032732', 'ISIC_0032778', 'ISIC_0033466', 'ISIC_0033583', 'ISIC_0033465', 'ISIC_0029683', 'ISIC_0033482', 'ISIC_0033201', 'ISIC_0032514', 'ISIC_0033691', 'ISIC_0033910', 'ISIC_0032556', 'ISIC_0033646', 'ISIC_0033592', 'ISIC_0033899', 'ISIC_0032842', 'ISIC_0032618', 'ISIC_0032513', 'ISIC_0033716', 'ISIC_0034011', 'ISIC_0033613', 'ISIC_0032877', 'ISIC_0034175', 'ISIC_0033523', 'ISIC_0029929', 'ISIC_0032978', 'ISIC_0033973', 'ISIC_0033761', 'ISIC_0033505', 'ISIC_0033280', 'ISIC_0033212', 'ISIC_0033770', 'ISIC_0032829', 'ISIC_0033601', 'ISIC_0033284', 'ISIC_0033908', 'ISIC_0033400', 'ISIC_0033677', 'ISIC_0033262', 'ISIC_0033437', 'ISIC_0032688', 'ISIC_0033195', 'ISIC_0032553', 'ISIC_0033252', 'ISIC_0032570', 'ISIC_0033736', 'ISIC_0033378', 'ISIC_0033379', 'ISIC_0033438', 'ISIC_0032983', 'ISIC_0034024', 'ISIC_0033778', 'ISIC_0032863', 'ISIC_0034168', 'ISIC_0033582', 'ISIC_0033576', 'ISIC_0033410', 'ISIC_0032725', 'ISIC_0033952', 'ISIC_0033264', 'ISIC_0033606', 'ISIC_0034103', 'ISIC_0032883', 'ISIC_0032665', 'ISIC_0033130', 'ISIC_0033321', 'ISIC_0034189', 'ISIC_0033306', 'ISIC_0032757', 'ISIC_0032508', 'ISIC_0034201', 'ISIC_0032776', 'ISIC_0033828', 'ISIC_0033235', 'ISIC_0026085', 'ISIC_0034070', 'ISIC_0033709', 'ISIC_0032826', 'ISIC_0034115', 'ISIC_0033776', 'ISIC_0033056', 'ISIC_0025180', 'ISIC_0026107', 'ISIC_0033853', 'ISIC_0033453', 'ISIC_0034126', 'ISIC_0033744', 'ISIC_0033659', 'ISIC_0032567', 'ISIC_0033088', 'ISIC_0032756', 'ISIC_0032654', 'ISIC_0032576', 'ISIC_0033587', 'ISIC_0032675', 'ISIC_0032997', 'ISIC_0033529', 'ISIC_0033581', 'ISIC_0033913', 'ISIC_0034235', 'ISIC_0034007', 'ISIC_0034303', 'ISIC_0034031', 'ISIC_0033124', 'ISIC_0033449', 'ISIC_0033676', 'ISIC_0032898', 'ISIC_0033488', 'ISIC_0033758', 'ISIC_0028792', 'ISIC_0033397', 'ISIC_0033414', 'ISIC_0034113', 'ISIC_0033507', 'ISIC_0033791', 'ISIC_0034259', 'ISIC_0033446', 'ISIC_0033200', 'ISIC_0029472', 'ISIC_0029682', 'ISIC_0033642', 'ISIC_0033486', 'ISIC_0034003', 'ISIC_0033079', 'ISIC_0033629', 'ISIC_0034037', 'ISIC_0032876', 'ISIC_0033635', 'ISIC_0033868', 'ISIC_0034125', 'ISIC_0033060', 'ISIC_0029014', 'ISIC_0032099', 'ISIC_0032215', 'ISIC_0030124', 'ISIC_0025157', 'ISIC_0029600', 'ISIC_0031376', 'ISIC_0027513', 'ISIC_0031876', 'ISIC_0031620', 'ISIC_0030542', 'ISIC_0029548', 'ISIC_0027989', 'ISIC_0025136', 'ISIC_0027652', 'ISIC_0027218', 'ISIC_0030705', 'ISIC_0030272', 'ISIC_0028020', 'ISIC_0032063', 'ISIC_0032325', 'ISIC_0025867', 'ISIC_0028701', 'ISIC_0027713', 'ISIC_0026060', 'ISIC_0026298', 'ISIC_0027139', 'ISIC_0026623', 'ISIC_0031989', 'ISIC_0029394', 'ISIC_0026893', 'ISIC_0025777', 'ISIC_0026844', 'ISIC_0024672', 'ISIC_0026827', 'ISIC_0027680', 'ISIC_0025885', 'ISIC_0025656', 'ISIC_0029010', 'ISIC_0029003', 'ISIC_0024711', 'ISIC_0032280', 'ISIC_0025982', 'ISIC_0028120', 'ISIC_0032335', 'ISIC_0025326', 'ISIC_0027374', 'ISIC_0027781', 'ISIC_0024890', 'ISIC_0025507', 'ISIC_0028336', 'ISIC_0025838', 'ISIC_0027780', 'ISIC_0030118', 'ISIC_0028970', 'ISIC_0027042', 'ISIC_0031556', 'ISIC_0027068', 'ISIC_0032168', 'ISIC_0031130', 'ISIC_0028308', 'ISIC_0024708', 'ISIC_0028354', 'ISIC_0024505', 'ISIC_0025743', 'ISIC_0024626', 'ISIC_0031321', 'ISIC_0025337', 'ISIC_0027037', 'ISIC_0032486', 'ISIC_0029340', 'ISIC_0027649', 'ISIC_0030731', 'ISIC_0029062', 'ISIC_0025485', 'ISIC_0025874', 'ISIC_0026728', 'ISIC_0031812', 'ISIC_0030465', 'ISIC_0025842', 'ISIC_0025032', 'ISIC_0030706', 'ISIC_0029522', 'ISIC_0031424', 'ISIC_0029770', 'ISIC_0026301', 'ISIC_0030227', 'ISIC_0028856', 'ISIC_0027026', 'ISIC_0030095', 'ISIC_0031394', 'ISIC_0031060', 'ISIC_0026634', 'ISIC_0028496', 'ISIC_0031593', 'ISIC_0026775', 'ISIC_0024412', 'ISIC_0024883', 'ISIC_0027394', 'ISIC_0024773', 'ISIC_0027295', 'ISIC_0032200', 'ISIC_0025583', 'ISIC_0024358', 'ISIC_0030744', 'ISIC_0027771', 'ISIC_0028846', 'ISIC_0026159', 'ISIC_0028952', 'ISIC_0024748', 'ISIC_0032156', 'ISIC_0030783', 'ISIC_0028200', 'ISIC_0029100', 'ISIC_0027287', 'ISIC_0024494', 'ISIC_0026923', 'ISIC_0029358', 'ISIC_0031766', 'ISIC_0030258', 'ISIC_0030203', 'ISIC_0025297', 'ISIC_0024676', 'ISIC_0027606', 'ISIC_0025703', 'ISIC_0032051', 'ISIC_0026443', 'ISIC_0032481', 'ISIC_0030459', 'ISIC_0029776', 'ISIC_0027996', 'ISIC_0029519', 'ISIC_0029051', 'ISIC_0025985', 'ISIC_0025830', 'ISIC_0031686', 'ISIC_0030208', 'ISIC_0032006', 'ISIC_0028920', 'ISIC_0030723', 'ISIC_0032373', 'ISIC_0028555', 'ISIC_0029568', 'ISIC_0029217', 'ISIC_0028254', 'ISIC_0030561', 'ISIC_0027320', 'ISIC_0025275', 'ISIC_0026606', 'ISIC_0025986', 'ISIC_0029108', 'ISIC_0028511', 'ISIC_0026714', 'ISIC_0028473', 'ISIC_0025529', 'ISIC_0026481', 'ISIC_0025075', 'ISIC_0025928', 'ISIC_0030812', 'ISIC_0029802', 'ISIC_0027969', 'ISIC_0031770', 'ISIC_0029557', 'ISIC_0032123', 'ISIC_0025805', 'ISIC_0029166', 'ISIC_0029789', 'ISIC_0030026', 'ISIC_0031851', 'ISIC_0030436', 'ISIC_0031819', 'ISIC_0024741', 'ISIC_0026286', 'ISIC_0024880', 'ISIC_0025659', 'ISIC_0026679', 'ISIC_0029420', 'ISIC_0032230', 'ISIC_0029525', 'ISIC_0029474', 'ISIC_0027219', 'ISIC_0032045', 'ISIC_0024381', 'ISIC_0026265', 'ISIC_0024426', 'ISIC_0031016', 'ISIC_0026044', 'ISIC_0027706', 'ISIC_0024740', 'ISIC_0027801', 'ISIC_0030346', 'ISIC_0026526', 'ISIC_0025376', 'ISIC_0029991', 'ISIC_0024726', 'ISIC_0029603', 'ISIC_0028100', 'ISIC_0031449', 'ISIC_0026842', 'ISIC_0026444', 'ISIC_0024422', 'ISIC_0030649', 'ISIC_0025746', 'ISIC_0032043', 'ISIC_0030806', 'ISIC_0028388', 'ISIC_0029791', 'ISIC_0027806', 'ISIC_0031168', 'ISIC_0025575', 'ISIC_0024547', 'ISIC_0029249', 'ISIC_0030822', 'ISIC_0024758', 'ISIC_0030636', 'ISIC_0027760', 'ISIC_0026538', 'ISIC_0024760', 'ISIC_0024970', 'ISIC_0027006', 'ISIC_0029596', 'ISIC_0025351', 'ISIC_0028881', 'ISIC_0027527', 'ISIC_0028972', 'ISIC_0031078', 'ISIC_0031464', 'ISIC_0027451', 'ISIC_0030329', 'ISIC_0029311', 'ISIC_0026849', 'ISIC_0030396', 'ISIC_0024893', 'ISIC_0031702', 'ISIC_0029031', 'ISIC_0024772', 'ISIC_0026219', 'ISIC_0025222', 'ISIC_0025973', 'ISIC_0025086', 'ISIC_0026895', 'ISIC_0025716', 'ISIC_0024471', 'ISIC_0029878', 'ISIC_0027991', 'ISIC_0031289', 'ISIC_0030172', 'ISIC_0025627', 'ISIC_0031580', 'ISIC_0028389', 'ISIC_0025064', 'ISIC_0028750', 'ISIC_0030758', 'ISIC_0027355', 'ISIC_0030365', 'ISIC_0028043', 'ISIC_0028640', 'ISIC_0026514', 'ISIC_0026378', 'ISIC_0027192', 'ISIC_0027437', 'ISIC_0028201', 'ISIC_0028223', 'ISIC_0026614', 'ISIC_0029810', 'ISIC_0028550', 'ISIC_0024477', 'ISIC_0026493', 'ISIC_0028840', 'ISIC_0029678', 'ISIC_0031937', 'ISIC_0025719', 'ISIC_0030683', 'ISIC_0028237', 'ISIC_0029585', 'ISIC_0027990', 'ISIC_0025883', 'ISIC_0026290', 'ISIC_0031050', 'ISIC_0024997', 'ISIC_0024761', 'ISIC_0030876', 'ISIC_0024982', 'ISIC_0029126', 'ISIC_0028702', 'ISIC_0026843', 'ISIC_0025519', 'ISIC_0029841', 'ISIC_0030319', 'ISIC_0030965', 'ISIC_0025699', 'ISIC_0029617', 'ISIC_0031783', 'ISIC_0030137', 'ISIC_0024371', 'ISIC_0026947', 'ISIC_0024839', 'ISIC_0031808', 'ISIC_0026316', 'ISIC_0024696', 'ISIC_0030458', 'ISIC_0027470', 'ISIC_0031522', 'ISIC_0024910', 'ISIC_0026675', 'ISIC_0026335', 'ISIC_0031150', 'ISIC_0026070', 'ISIC_0032024', 'ISIC_0032235', 'ISIC_0025374', 'ISIC_0031961', 'ISIC_0030533', 'ISIC_0032456', 'ISIC_0026072', 'ISIC_0025939', 'ISIC_0026365', 'ISIC_0028656', 'ISIC_0031716', 'ISIC_0028650', 'ISIC_0027973', 'ISIC_0024495', 'ISIC_0027018', 'ISIC_0031138', 'ISIC_0025389', 'ISIC_0028710', 'ISIC_0031903', 'ISIC_0031630', 'ISIC_0027893', 'ISIC_0027982', 'ISIC_0030318', 'ISIC_0026737', 'ISIC_0031459', 'ISIC_0028749', 'ISIC_0032445', 'ISIC_0028593', 'ISIC_0026961', 'ISIC_0030849', 'ISIC_0024420', 'ISIC_0030801', 'ISIC_0032358', 'ISIC_0031200', 'ISIC_0029101', 'ISIC_0024612', 'ISIC_0031707', 'ISIC_0027064', 'ISIC_0031537', 'ISIC_0030231', 'ISIC_0030081', 'ISIC_0031334', 'ISIC_0027681', 'ISIC_0029032', 'ISIC_0029243', 'ISIC_0025040', 'ISIC_0030988', 'ISIC_0024336', 'ISIC_0026704', 'ISIC_0029302', 'ISIC_0027953', 'ISIC_0028995', 'ISIC_0026523', 'ISIC_0026142', 'ISIC_0029206', 'ISIC_0031951', 'ISIC_0030310', 'ISIC_0026553', 'ISIC_0024851', 'ISIC_0029040', 'ISIC_0029588', 'ISIC_0031181', 'ISIC_0024947', 'ISIC_0024446', 'ISIC_0031287', 'ISIC_0032365', 'ISIC_0026139', 'ISIC_0027967', 'ISIC_0024338', 'ISIC_0030935', 'ISIC_0029213', 'ISIC_0032040', 'ISIC_0028229', 'ISIC_0025068', 'ISIC_0025199', 'ISIC_0030372', 'ISIC_0028404', 'ISIC_0025083', 'ISIC_0027017', 'ISIC_0029849', 'ISIC_0025292', 'ISIC_0028943', 'ISIC_0024312', 'ISIC_0030976', 'ISIC_0024871', 'ISIC_0028830', 'ISIC_0028376', 'ISIC_0026576', 'ISIC_0027504', 'ISIC_0026409', 'ISIC_0025345', 'ISIC_0032303', 'ISIC_0032103', 'ISIC_0028707', 'ISIC_0024825', 'ISIC_0029406', 'ISIC_0031980', 'ISIC_0028611', 'ISIC_0024881', 'ISIC_0027094', 'ISIC_0028628', 'ISIC_0027509', 'ISIC_0028414', 'ISIC_0026539', 'ISIC_0029764', 'ISIC_0028842', 'ISIC_0030240', 'ISIC_0026871', 'ISIC_0027859', 'ISIC_0028451', 'ISIC_0026663', 'ISIC_0026744', 'ISIC_0025066', 'ISIC_0028236', 'ISIC_0029329', 'ISIC_0028343', 'ISIC_0031519', 'ISIC_0025113', 'ISIC_0031261', 'ISIC_0028121', 'ISIC_0029612', 'ISIC_0028913', 'ISIC_0026015', 'ISIC_0029443', 'ISIC_0027239', 'ISIC_0028124', 'ISIC_0029115', 'ISIC_0030700', 'ISIC_0031496', 'ISIC_0025434', 'ISIC_0028165', 'ISIC_0025623', 'ISIC_0031465', 'ISIC_0031831', 'ISIC_0027770', 'ISIC_0024709', 'ISIC_0027354', 'ISIC_0030241', 'ISIC_0028931', 'ISIC_0030605', 'ISIC_0031000', 'ISIC_0024786', 'ISIC_0029029', 'ISIC_0027392', 'ISIC_0031037', 'ISIC_0025799', 'ISIC_0029627', 'ISIC_0031825', 'ISIC_0030677', 'ISIC_0025038', 'ISIC_0029927', 'ISIC_0026567', 'ISIC_0029102', 'ISIC_0027154', 'ISIC_0030383', 'ISIC_0025465', 'ISIC_0024489', 'ISIC_0026276', 'ISIC_0026912', 'ISIC_0027435', 'ISIC_0028180', 'ISIC_0026277', 'ISIC_0032395', 'ISIC_0032031', 'ISIC_0031888', 'ISIC_0028622', 'ISIC_0031872', 'ISIC_0028294', 'ISIC_0028662', 'ISIC_0031349', 'ISIC_0026263', 'ISIC_0024877', 'ISIC_0030835', 'ISIC_0026280', 'ISIC_0027811', 'ISIC_0029232', 'ISIC_0025470', 'ISIC_0026249', 'ISIC_0031218', 'ISIC_0024705', 'ISIC_0026803', 'ISIC_0027737', 'ISIC_0024774', 'ISIC_0026248', 'ISIC_0027194', 'ISIC_0026016', 'ISIC_0029505', 'ISIC_0025378', 'ISIC_0030394', 'ISIC_0027735', 'ISIC_0024814', 'ISIC_0031677', 'ISIC_0026069', 'ISIC_0026524', 'ISIC_0027162', 'ISIC_0027608', 'ISIC_0025312', 'ISIC_0031277', 'ISIC_0027270', 'ISIC_0031853', 'ISIC_0031329', 'ISIC_0031528', 'ISIC_0028615', 'ISIC_0030369', 'ISIC_0025753', 'ISIC_0031600', 'ISIC_0032159', 'ISIC_0024382', 'ISIC_0028490', 'ISIC_0025339', 'ISIC_0029070', 'ISIC_0028822', 'ISIC_0028876', 'ISIC_0029527', 'ISIC_0032111', 'ISIC_0031132', 'ISIC_0031987', 'ISIC_0028623', 'ISIC_0025515', 'ISIC_0029823', 'ISIC_0026631', 'ISIC_0024490', 'ISIC_0025103', 'ISIC_0025710', 'ISIC_0028094', 'ISIC_0029455', 'ISIC_0025466', 'ISIC_0030123', 'ISIC_0031945', 'ISIC_0029931', 'ISIC_0024782', 'ISIC_0029872', 'ISIC_0029135', 'ISIC_0029947', 'ISIC_0028264', 'ISIC_0025526', 'ISIC_0024435', 'ISIC_0026590', 'ISIC_0026311', 'ISIC_0029270', 'ISIC_0030998', 'ISIC_0029235', 'ISIC_0027826', 'ISIC_0028992', 'ISIC_0026351', 'ISIC_0029320', 'ISIC_0029427', 'ISIC_0029464', 'ISIC_0026530', 'ISIC_0024915', 'ISIC_0024409', 'ISIC_0028309', 'ISIC_0027905', 'ISIC_0029061', 'ISIC_0031893', 'ISIC_0027202', 'ISIC_0032498', 'ISIC_0024909', 'ISIC_0028258', 'ISIC_0027083', 'ISIC_0029778', 'ISIC_0027820', 'ISIC_0029555', 'ISIC_0024602', 'ISIC_0024943', 'ISIC_0028479', 'ISIC_0028209', 'ISIC_0029518', 'ISIC_0028449', 'ISIC_0028123', 'ISIC_0026717', 'ISIC_0027463', 'ISIC_0025810', 'ISIC_0027559', 'ISIC_0024408', 'ISIC_0030173', 'ISIC_0029012', 'ISIC_0026174', 'ISIC_0027279', 'ISIC_0032170', 'ISIC_0024498', 'ISIC_0025005', 'ISIC_0025851', 'ISIC_0028347', 'ISIC_0033722', 'ISIC_0034315', 'ISIC_0032967', 'ISIC_0033199', 'ISIC_0032719', 'ISIC_0030630', 'ISIC_0033305', 'ISIC_0032179', 'ISIC_0031428', 'ISIC_0032315', 'ISIC_0028411', 'ISIC_0032681', 'ISIC_0033509', 'ISIC_0032694', 'ISIC_0034197', 'ISIC_0034057', 'ISIC_0033260', 'ISIC_0032643', 'ISIC_0033732', 'ISIC_0032827', 'ISIC_0033022', 'ISIC_0032835', 'ISIC_0033480', 'ISIC_0034165', 'ISIC_0033185', 'ISIC_0033783', 'ISIC_0033693', 'ISIC_0032804', 'ISIC_0033924', 'ISIC_0033531', 'ISIC_0032636', 'ISIC_0033270', 'ISIC_0033246', 'ISIC_0032843', 'ISIC_0033528', 'ISIC_0033865', 'ISIC_0034296', 'ISIC_0032763', 'ISIC_0034291', 'ISIC_0034167', 'ISIC_0033949', 'ISIC_0032773', 'ISIC_0033156', 'ISIC_0033701', 'ISIC_0033854', 'ISIC_0033884', 'ISIC_0034142', 'ISIC_0033784', 'ISIC_0033307', 'ISIC_0033553', 'ISIC_0033401', 'ISIC_0033169', 'ISIC_0033855', 'ISIC_0033660', 'ISIC_0034221', 'ISIC_0033945', 'ISIC_0033491', 'ISIC_0034280', 'ISIC_0034151', 'ISIC_0033391', 'ISIC_0033750', 'ISIC_0033685', 'ISIC_0033631', 'ISIC_0033490', 'ISIC_0032740', 'ISIC_0034186', 'ISIC_0031601', 'ISIC_0034252', 'ISIC_0033829', 'ISIC_0026790', 'ISIC_0029113', 'ISIC_0030323', 'ISIC_0032113', 'ISIC_0032330', 'ISIC_0026511', 'ISIC_0032271', 'ISIC_0027142', 'ISIC_0031897', 'ISIC_0027747', 'ISIC_0031253', 'ISIC_0024643', 'ISIC_0029202', 'ISIC_0026205', 'ISIC_0031619', 'ISIC_0031396', 'ISIC_0031196', 'ISIC_0032249', 'ISIC_0024337', 'ISIC_0027370', 'ISIC_0026566', 'ISIC_0028681', 'ISIC_0029801', 'ISIC_0032124', 'ISIC_0029793', 'ISIC_0031133', 'ISIC_0030959', 'ISIC_0029251', 'ISIC_0026046', 'ISIC_0029107', 'ISIC_0031511', 'ISIC_0028587', 'ISIC_0026291', 'ISIC_0026422', 'ISIC_0030316', 'ISIC_0028497', 'ISIC_0029345', 'ISIC_0026441', 'ISIC_0026907', 'ISIC_0026867', 'ISIC_0028448', 'ISIC_0028503', 'ISIC_0028826', 'ISIC_0031226', 'ISIC_0032460', 'ISIC_0027025', 'ISIC_0030067', 'ISIC_0031436', 'ISIC_0027041', 'ISIC_0030088', 'ISIC_0026959', 'ISIC_0027167', 'ISIC_0028525', 'ISIC_0027954', 'ISIC_0024850', 'ISIC_0031088', 'ISIC_0025758', 'ISIC_0025392', 'ISIC_0025856', 'ISIC_0030160', 'ISIC_0026783', 'ISIC_0029731', 'ISIC_0028386', 'ISIC_0031558', 'ISIC_0025330', 'ISIC_0031577', 'ISIC_0025804', 'ISIC_0027275', 'ISIC_0027710', 'ISIC_0031024', 'ISIC_0030056', 'ISIC_0026135', 'ISIC_0029233', 'ISIC_0030207', 'ISIC_0026967', 'ISIC_0031223', 'ISIC_0030226', 'ISIC_0028958', 'ISIC_0031125', 'ISIC_0029227', 'ISIC_0025454', 'ISIC_0025879', 'ISIC_0032359', 'ISIC_0027428', 'ISIC_0026446', 'ISIC_0026262', 'ISIC_0025431', 'ISIC_0027332', 'ISIC_0029741', 'ISIC_0028925', 'ISIC_0026556', 'ISIC_0031362', 'ISIC_0026941', 'ISIC_0025654', 'ISIC_0025387', 'ISIC_0027027', 'ISIC_0029036', 'ISIC_0029880', 'ISIC_0025484', 'ISIC_0030488', 'ISIC_0030583', 'ISIC_0026042', 'ISIC_0028797', 'ISIC_0030789', 'ISIC_0027008', 'ISIC_0028790', 'ISIC_0028880', 'ISIC_0031309', 'ISIC_0030021', 'ISIC_0027118', 'ISIC_0027613', 'ISIC_0032468', 'ISIC_0029760', 'ISIC_0030555', 'ISIC_0030244', 'ISIC_0031827', 'ISIC_0031002', 'ISIC_0025668', 'ISIC_0032410', 'ISIC_0030579', 'ISIC_0034169', 'ISIC_0032941', 'ISIC_0032642', 'ISIC_0033790', 'ISIC_0033675', 'ISIC_0029248', 'ISIC_0030442', 'ISIC_0032247', 'ISIC_0031429', 'ISIC_0030321', 'ISIC_0025302', 'ISIC_0029039', 'ISIC_0025504', 'ISIC_0027727', 'ISIC_0027107', 'ISIC_0027648', 'ISIC_0029967', 'ISIC_0027876', 'ISIC_0032138', 'ISIC_0028926', 'ISIC_0025954', 'ISIC_0029783', 'ISIC_0029578', 'ISIC_0030011', 'ISIC_0030427', 'ISIC_0027626', 'ISIC_0024973', 'ISIC_0029891', 'ISIC_0030757', 'ISIC_0031358', 'ISIC_0031735', 'ISIC_0026473', 'ISIC_0032114', 'ISIC_0026789', 'ISIC_0031344', 'ISIC_0028346', 'ISIC_0025154', 'ISIC_0029962', 'ISIC_0031457', 'ISIC_0029824', 'ISIC_0025622', 'ISIC_0031372', 'ISIC_0026313', 'ISIC_0026417', 'ISIC_0028735', 'ISIC_0031443', 'ISIC_0025223', 'ISIC_0030015', 'ISIC_0024318', 'ISIC_0024396', 'ISIC_0024330', 'ISIC_0027188', 'ISIC_0031123', 'ISIC_0024845', 'ISIC_0032613', 'ISIC_0033256', 'ISIC_0034135', 'ISIC_0033626', 'ISIC_0033780', 'ISIC_0033891', 'ISIC_0033554', 'ISIC_0033810', 'ISIC_0033695', 'ISIC_0033005', 'ISIC_0033422', 'ISIC_0027488', 'ISIC_0033808', 'ISIC_0033847', 'ISIC_0033860', 'ISIC_0024994', 'ISIC_0030830', 'ISIC_0027745', 'ISIC_0024553', 'ISIC_0025594', 'ISIC_0026254', 'ISIC_0026471', 'ISIC_0025980', 'ISIC_0031271', 'ISIC_0025903', 'ISIC_0028651', 'ISIC_0030665', 'ISIC_0027141', 'ISIC_0024386', 'ISIC_0026629', 'ISIC_0029973', 'ISIC_0027598', 'ISIC_0031799', 'ISIC_0029130', 'ISIC_0027044', 'ISIC_0029177', 'ISIC_0025314', 'ISIC_0025373', 'ISIC_0030870', 'ISIC_0024693', 'ISIC_0025964', 'ISIC_0030623', 'ISIC_0027190', 'ISIC_0031023', 'ISIC_0028086', 'ISIC_0031177', 'ISIC_0026120', 'ISIC_0028412', 'ISIC_0030417', 'ISIC_0026531', 'ISIC_0032396', 'ISIC_0030443', 'ISIC_0031499', 'ISIC_0025450', 'ISIC_0024586', 'ISIC_0032248', 'ISIC_0028445', 'ISIC_0027076', 'ISIC_0029512', 'ISIC_0027872', 'ISIC_0030486', 'ISIC_0029028', 'ISIC_0027125', 'ISIC_0029575', 'ISIC_0028361', 'ISIC_0029081', 'ISIC_0025744', 'ISIC_0030119', 'ISIC_0028215', 'ISIC_0025303', 'ISIC_0030129', 'ISIC_0032214', 'ISIC_0028069', 'ISIC_0028579', 'ISIC_0029281', 'ISIC_0024367', 'ISIC_0030281', 'ISIC_0024481', 'ISIC_0031118', 'ISIC_0030080', 'ISIC_0031953', 'ISIC_0031406', 'ISIC_0026115', 'ISIC_0026281', 'ISIC_0027277', 'ISIC_0028642', 'ISIC_0032079', 'ISIC_0026150', 'ISIC_0031642', 'ISIC_0027043', 'ISIC_0027174', 'ISIC_0025277', 'ISIC_0024729', 'ISIC_0031711', 'ISIC_0025234', 'ISIC_0029000', 'ISIC_0025955', 'ISIC_0025751', 'ISIC_0026754', 'ISIC_0027063', 'ISIC_0032331', 'ISIC_0032400', 'ISIC_0024545', 'ISIC_0028109', 'ISIC_0030060', 'ISIC_0030211', 'ISIC_0026892', 'ISIC_0024987', 'ISIC_0030171', 'ISIC_0028291', 'ISIC_0024898', 'ISIC_0029538', 'ISIC_0032313', 'ISIC_0027769', 'ISIC_0029913', 'ISIC_0026909', 'ISIC_0026113', 'ISIC_0032265', 'ISIC_0032308', 'ISIC_0025081', 'ISIC_0030134', 'ISIC_0030445', 'ISIC_0030798', 'ISIC_0026596', 'ISIC_0028056', 'ISIC_0032019', 'ISIC_0025155', 'ISIC_0031557', 'ISIC_0024792', 'ISIC_0030898', 'ISIC_0032244', 'ISIC_0028901', 'ISIC_0032098', 'ISIC_0025603', 'ISIC_0029651', 'ISIC_0032044', 'ISIC_0030759', 'ISIC_0024886', 'ISIC_0027102', 'ISIC_0025904', 'ISIC_0032450', 'ISIC_0027253', 'ISIC_0032046', 'ISIC_0029163', 'ISIC_0029630', 'ISIC_0024624', 'ISIC_0025674', 'ISIC_0031369', 'ISIC_0029547', 'ISIC_0026622', 'ISIC_0028326', 'ISIC_0027060', 'ISIC_0031941', 'ISIC_0024315', 'ISIC_0030818', 'ISIC_0026360', 'ISIC_0025996', 'ISIC_0025219', 'ISIC_0026458', 'ISIC_0024951', 'ISIC_0030106', 'ISIC_0024702', 'ISIC_0024972', 'ISIC_0031779', 'ISIC_0028442', 'ISIC_0031745', 'ISIC_0031586', 'ISIC_0031972', 'ISIC_0030539', 'ISIC_0031977', 'ISIC_0026296', 'ISIC_0025018', 'ISIC_0028519', 'ISIC_0024767', 'ISIC_0031517', 'ISIC_0028022', 'ISIC_0024967', 'ISIC_0029370', 'ISIC_0031958', 'ISIC_0026369', 'ISIC_0030521', 'ISIC_0027487', 'ISIC_0029212', 'ISIC_0030089', 'ISIC_0027616', 'ISIC_0027261', 'ISIC_0028505', 'ISIC_0025153', 'ISIC_0031598', 'ISIC_0025363', 'ISIC_0029473', 'ISIC_0027651', 'ISIC_0030014', 'ISIC_0027238', 'ISIC_0029571', 'ISIC_0024675', 'ISIC_0025891', 'ISIC_0027693', 'ISIC_0029017', 'ISIC_0032220', 'ISIC_0028127', 'ISIC_0030165', 'ISIC_0025927', 'ISIC_0031189', 'ISIC_0032190', 'ISIC_0025783', 'ISIC_0027352', 'ISIC_0029558', 'ISIC_0028219', 'ISIC_0026314', 'ISIC_0024875', 'ISIC_0026950', 'ISIC_0027033', 'ISIC_0027822', 'ISIC_0029242', 'ISIC_0027263', 'ISIC_0026247', 'ISIC_0028467', 'ISIC_0026158', 'ISIC_0029216', 'ISIC_0026489', 'ISIC_0028878', 'ISIC_0033312', 'ISIC_0024400', 'ISIC_0029884', 'ISIC_0028900', 'ISIC_0027387', 'ISIC_0024911', 'ISIC_0027659', 'ISIC_0030223', 'ISIC_0032182', 'ISIC_0027721', 'ISIC_0026697', 'ISIC_0030760', 'ISIC_0028565', 'ISIC_0034006', 'ISIC_0028087', 'ISIC_0026664', 'ISIC_0029660', 'ISIC_0024496', 'ISIC_0028415', 'ISIC_0028041', 'ISIC_0028696', 'ISIC_0029343', 'ISIC_0030552', 'ISIC_0029513', 'ISIC_0024853', 'ISIC_0028916', 'ISIC_0028029', 'ISIC_0030824', 'ISIC_0028325', 'ISIC_0024537', 'ISIC_0031310', 'ISIC_0032408', 'ISIC_0030440', 'ISIC_0024732', 'ISIC_0025489', 'ISIC_0025265', 'ISIC_0028489', 'ISIC_0026236', 'ISIC_0028317', 'ISIC_0031013', 'ISIC_0028969', 'ISIC_0032441', 'ISIC_0030324', 'ISIC_0025394', 'ISIC_0027260', 'ISIC_0027604', 'ISIC_0029434', 'ISIC_0026963', 'ISIC_0028211', 'ISIC_0027300', 'ISIC_0028512', 'ISIC_0024310', 'ISIC_0033496', 'ISIC_0032927', 'ISIC_0024865', 'ISIC_0025324', 'ISIC_0026996', 'ISIC_0030681', 'ISIC_0027327', 'ISIC_0025589', 'ISIC_0024756', 'ISIC_0029562', 'ISIC_0029453', 'ISIC_0034071', 'ISIC_0033573', 'ISIC_0026086', 'ISIC_0025035', 'ISIC_0025835', 'ISIC_0030828', 'ISIC_0032847', 'ISIC_0033654', 'ISIC_0033268', 'ISIC_0032750', 'ISIC_0032888', 'ISIC_0033968', 'ISIC_0033333', 'ISIC_0033717', 'ISIC_0034120', 'ISIC_0032532', 'ISIC_0033500', 'ISIC_0033834', 'ISIC_0033678', 'ISIC_0034046', 'ISIC_0032550', 'ISIC_0033700', 'ISIC_0032604', 'ISIC_0033428', 'ISIC_0028746', 'ISIC_0033975', 'ISIC_0033278', 'ISIC_0033679', 'ISIC_0034141', 'ISIC_0033643', 'ISIC_0032629', 'ISIC_0033152', 'ISIC_0033636', 'ISIC_0033432', 'ISIC_0032833', 'ISIC_0034236', 'ISIC_0033027', 'ISIC_0034118', 'ISIC_0033476', 'ISIC_0033047', 'ISIC_0025987', 'ISIC_0032017', 'ISIC_0033946', 'ISIC_0033369', 'ISIC_0032447', 'ISIC_0033655', 'ISIC_0033831', 'ISIC_0032583', 'ISIC_0034162', 'ISIC_0032187', 'ISIC_0032976', 'ISIC_0033274', 'ISIC_0026745', 'ISIC_0033034', 'ISIC_0034294', 'ISIC_0034202', 'ISIC_0033416', 'ISIC_0032662', 'ISIC_0033452', 'ISIC_0033074', 'ISIC_0034087', 'ISIC_0032722', 'ISIC_0033204', 'ISIC_0033953', 'ISIC_0032823', 'ISIC_0032733', 'ISIC_0033183', 'ISIC_0032564', 'ISIC_0034140', 'ISIC_0034256', 'ISIC_0032984', 'ISIC_0033362', 'ISIC_0033947', 'ISIC_0033881', 'ISIC_0029363', 'ISIC_0033820', 'ISIC_0033814', 'ISIC_0032875', 'ISIC_0033802', 'ISIC_0033429', 'ISIC_0032685', 'ISIC_0032903', 'ISIC_0033323', 'ISIC_0032637', 'ISIC_0032993', 'ISIC_0033804', 'ISIC_0033801', 'ISIC_0033216', 'ISIC_0033154', 'ISIC_0033192', 'ISIC_0027100', 'ISIC_0034222', 'ISIC_0032569', 'ISIC_0034064', 'ISIC_0033902', 'ISIC_0032774', 'ISIC_0032840', 'ISIC_0034313', 'ISIC_0033570', 'ISIC_0032602', 'ISIC_0032724', 'ISIC_0033129', 'ISIC_0033180', 'ISIC_0033962', 'ISIC_0033603', 'ISIC_0033325', 'ISIC_0034208', 'ISIC_0033068', 'ISIC_0034218', 'ISIC_0034263', 'ISIC_0034262', 'ISIC_0033103', 'ISIC_0034106', 'ISIC_0033725', 'ISIC_0032537', 'ISIC_0033287', 'ISIC_0033286', 'ISIC_0032586', 'ISIC_0029632', 'ISIC_0033485', 'ISIC_0033175', 'ISIC_0033886', 'ISIC_0032892', 'ISIC_0033942', 'ISIC_0033473', 'ISIC_0030564', 'ISIC_0033337', 'ISIC_0033594', 'ISIC_0029209', 'ISIC_0026976', 'ISIC_0033275', 'ISIC_0033938', 'ISIC_0032841', 'ISIC_0033819', 'ISIC_0032544', 'ISIC_0032844', 'ISIC_0032921', 'ISIC_0034117', 'ISIC_0033415', 'ISIC_0033240', 'ISIC_0032782', 'ISIC_0032522', 'ISIC_0033595', 'ISIC_0034059', 'ISIC_0033063', 'ISIC_0033174', 'ISIC_0033239', 'ISIC_0033985', 'ISIC_0032726', 'ISIC_0033272', 'ISIC_0032718', 'ISIC_0032736', 'ISIC_0033317', 'ISIC_0034269', 'ISIC_0033956', 'ISIC_0033241', 'ISIC_0032598', 'ISIC_0034289', 'ISIC_0033980', 'ISIC_0032533', 'ISIC_0033986', 'ISIC_0033004', 'ISIC_0024900', 'ISIC_0032072', 'ISIC_0033578', 'ISIC_0034100', 'ISIC_0032940', 'ISIC_0032511', 'ISIC_0033687', 'ISIC_0034085', 'ISIC_0033299', 'ISIC_0033479', 'ISIC_0033522', 'ISIC_0033911', 'ISIC_0033779', 'ISIC_0032638', 'ISIC_0032603', 'ISIC_0033871', 'ISIC_0032955', 'ISIC_0032812', 'ISIC_0033619', 'ISIC_0034065', 'ISIC_0034132', 'ISIC_0033038', 'ISIC_0033630', 'ISIC_0032879', 'ISIC_0034012', 'ISIC_0034150', 'ISIC_0028082', 'ISIC_0033209', 'ISIC_0034074', 'ISIC_0032699', 'ISIC_0033848', 'ISIC_0032622', 'ISIC_0034246', 'ISIC_0032915', 'ISIC_0028460', 'ISIC_0033883', 'ISIC_0034145', 'ISIC_0032981', 'ISIC_0033470', 'ISIC_0034094', 'ISIC_0033560', 'ISIC_0034061', 'ISIC_0032716', 'ISIC_0034159', 'ISIC_0024482', 'ISIC_0033477', 'ISIC_0034092', 'ISIC_0033863', 'ISIC_0034180', 'ISIC_0033267', 'ISIC_0034005', 'ISIC_0033872', 'ISIC_0032617', 'ISIC_0032965', 'ISIC_0034242', 'ISIC_0033117', 'ISIC_0034104', 'ISIC_0032547', 'ISIC_0033644', 'ISIC_0033806', 'ISIC_0032913', 'ISIC_0033651', 'ISIC_0033304', 'ISIC_0032806', 'ISIC_0033624', 'ISIC_0033238', 'ISIC_0034089', 'ISIC_0034048', 'ISIC_0033905', 'ISIC_0033981', 'ISIC_0033336', 'ISIC_0033405', 'ISIC_0034188', 'ISIC_0033269', 'ISIC_0033569', 'ISIC_0032535', 'ISIC_0033042', 'ISIC_0032081', 'ISIC_0034034', 'ISIC_0033217', 'ISIC_0033728', 'ISIC_0033901', 'ISIC_0032917', 'ISIC_0032925', 'ISIC_0032797', 'ISIC_0032596', 'ISIC_0032856', 'ISIC_0033193', 'ISIC_0033125', 'ISIC_0032810', 'ISIC_0033324', 'ISIC_0034316', 'ISIC_0033710', 'ISIC_0033469', 'ISIC_0033663', 'ISIC_0034284', 'ISIC_0031709', 'ISIC_0032517', 'ISIC_0032684', 'ISIC_0034052', 'ISIC_0033171', 'ISIC_0034022', 'ISIC_0033017', 'ISIC_0033874', 'ISIC_0033754', 'ISIC_0032938', 'ISIC_0025531', 'ISIC_0032610', 'ISIC_0032958', 'ISIC_0033538', 'ISIC_0032836', 'ISIC_0033444', 'ISIC_0034183', 'ISIC_0033426', 'ISIC_0032869', 'ISIC_0033524', 'ISIC_0034101', 'ISIC_0030333', 'ISIC_0032695', 'ISIC_0033310', 'ISIC_0027306', 'ISIC_0034253', 'ISIC_0033120', 'ISIC_0033081', 'ISIC_0034211', 'ISIC_0028410', 'ISIC_0033545', 'ISIC_0026430', 'ISIC_0033141', 'ISIC_0033261', 'ISIC_0032766', 'ISIC_0030031', 'ISIC_0028655', 'ISIC_0032531', 'ISIC_0032970', 'ISIC_0027402', 'ISIC_0030391', 'ISIC_0032845', 'ISIC_0034036', 'ISIC_0030238', 'ISIC_0032968', 'ISIC_0029265', 'ISIC_0032462', 'ISIC_0033704', 'ISIC_0034239', 'ISIC_0034287', 'ISIC_0031479', 'ISIC_0033166', 'ISIC_0033320', 'ISIC_0032526', 'ISIC_0033813', 'ISIC_0032624', 'ISIC_0033977', 'ISIC_0034002', 'ISIC_0033387', 'ISIC_0025592', 'ISIC_0032552', 'ISIC_0033279', 'ISIC_0032887', 'ISIC_0034205', 'ISIC_0033612', 'ISIC_0034049', 'ISIC_0033300', 'ISIC_0033616', 'ISIC_0029606', 'ISIC_0033099', 'ISIC_0032723', 'ISIC_0032751', 'ISIC_0032597', 'ISIC_0032982', 'ISIC_0033196', 'ISIC_0032653', 'ISIC_0032730', 'ISIC_0032709', 'ISIC_0033206', 'ISIC_0033518', 'ISIC_0033843', 'ISIC_0033344', 'ISIC_0032988', 'ISIC_0033812', 'ISIC_0033653', 'ISIC_0032698', 'ISIC_0033611', 'ISIC_0033586', 'ISIC_0033226', 'ISIC_0033198', 'ISIC_0032790', 'ISIC_0033245', 'ISIC_0033029', 'ISIC_0030883', 'ISIC_0028582', 'ISIC_0033670', 'ISIC_0029740', 'ISIC_0033593', 'ISIC_0032509', 'ISIC_0034068', 'ISIC_0033392', 'ISIC_0032873', 'ISIC_0034107', 'ISIC_0033368', 'ISIC_0032630', 'ISIC_0033399', 'ISIC_0032656', 'ISIC_0032592', 'ISIC_0033024', 'ISIC_0034134', 'ISIC_0033878', 'ISIC_0032687', 'ISIC_0033055', 'ISIC_0033559', 'ISIC_0032922', 'ISIC_0032672', 'ISIC_0034076', 'ISIC_0033520', 'ISIC_0034028', 'ISIC_0033487', 'ISIC_0033607', 'ISIC_0033568', 'ISIC_0034051', 'ISIC_0033377', 'ISIC_0033957', 'ISIC_0034172', 'ISIC_0033393', 'ISIC_0033534', 'ISIC_0032626', 'ISIC_0034062', 'ISIC_0034170', 'ISIC_0033061', 'ISIC_0033967', 'ISIC_0033051', 'ISIC_0033050', 'ISIC_0033526', 'ISIC_0032862', 'ISIC_0033073', 'ISIC_0033696', 'ISIC_0027149', 'ISIC_0033995', 'ISIC_0027234', 'ISIC_0033668', 'ISIC_0032690', 'ISIC_0032918', 'ISIC_0028520', 'ISIC_0034000', 'ISIC_0032807', 'ISIC_0032645', 'ISIC_0033498', 'ISIC_0031784', 'ISIC_0034275', 'ISIC_0033440', 'ISIC_0033807', 'ISIC_0033533', 'ISIC_0034173', 'ISIC_0033454', 'ISIC_0033893', 'ISIC_0028225', 'ISIC_0032960', 'ISIC_0033708', 'ISIC_0034317', 'ISIC_0031741', 'ISIC_0033662', 'ISIC_0033037', 'ISIC_0033773', 'ISIC_0033752', 'ISIC_0033424', 'ISIC_0034216', 'ISIC_0032152', 'ISIC_0033730', 'ISIC_0032975', 'ISIC_0034243', 'ISIC_0034050', 'ISIC_0033114', 'ISIC_0032559', 'ISIC_0033394', 'ISIC_0034233', 'ISIC_0033122', 'ISIC_0033713', 'ISIC_0026081', 'ISIC_0033638', 'ISIC_0033805', 'ISIC_0033302', 'ISIC_0033925', 'ISIC_0033431', 'ISIC_0033089', 'ISIC_0033562', 'ISIC_0031233', 'ISIC_0033885', 'ISIC_0027204', 'ISIC_0032987', 'ISIC_0032872', 'ISIC_0033178', 'ISIC_0033023', 'ISIC_0031186', 'ISIC_0033258', 'ISIC_0032870', 'ISIC_0033999', 'ISIC_0033856', 'ISIC_0024929', 'ISIC_0028148', 'ISIC_0027069', 'ISIC_0024459', 'ISIC_0029933', 'ISIC_0031208', 'ISIC_0026545', 'ISIC_0026268', 'ISIC_0029092', 'ISIC_0025708', 'ISIC_0024806', 'ISIC_0032424', 'ISIC_0028584', 'ISIC_0027838', 'ISIC_0031554', 'ISIC_0025472', 'ISIC_0025520', 'ISIC_0032466', 'ISIC_0028465', 'ISIC_0026770', 'ISIC_0024640', 'ISIC_0024962', 'ISIC_0024823', 'ISIC_0029914', 'ISIC_0026089', 'ISIC_0024930', 'ISIC_0024449', 'ISIC_0032110', 'ISIC_0026500', 'ISIC_0025512', 'ISIC_0024999', 'ISIC_0027622', 'ISIC_0026352', 'ISIC_0024688', 'ISIC_0024552', 'ISIC_0026438', 'ISIC_0028126', 'ISIC_0027669', 'ISIC_0031795', 'ISIC_0031408', 'ISIC_0025313', 'ISIC_0028198', 'ISIC_0027144', 'ISIC_0025085', 'ISIC_0031034', 'ISIC_0025097', 'ISIC_0031666', 'ISIC_0029819', 'ISIC_0026167', 'ISIC_0028984', 'ISIC_0032197', 'ISIC_0025524', 'ISIC_0025963', 'ISIC_0025121', 'ISIC_0032134', 'ISIC_0028114', 'ISIC_0027673', 'ISIC_0024701', 'ISIC_0030390', 'ISIC_0030756', 'ISIC_0027561', 'ISIC_0025439', 'ISIC_0030970', 'ISIC_0030754', 'ISIC_0029397', 'ISIC_0025316', 'ISIC_0029316', 'ISIC_0027552', 'ISIC_0026954', 'ISIC_0028760', 'ISIC_0027620', 'ISIC_0028965', 'ISIC_0030356', 'ISIC_0027407', 'ISIC_0024700', 'ISIC_0027793', 'ISIC_0026989', 'ISIC_0030192', 'ISIC_0029859', 'ISIC_0028003', 'ISIC_0026506', 'ISIC_0025145', 'ISIC_0029013', 'ISIC_0031077', 'ISIC_0031999', 'ISIC_0030366', 'ISIC_0032245', 'ISIC_0028481', 'ISIC_0029172', 'ISIC_0031386', 'ISIC_0031565', 'ISIC_0029056', 'ISIC_0028548', 'ISIC_0030512', 'ISIC_0031718', 'ISIC_0029591', 'ISIC_0028899', 'ISIC_0032036', 'ISIC_0031543', 'ISIC_0027065', 'ISIC_0028228', 'ISIC_0030107', 'ISIC_0028537', 'ISIC_0025238', 'ISIC_0029698', 'ISIC_0029937', 'ISIC_0027171', 'ISIC_0026207', 'ISIC_0028543', 'ISIC_0025651', 'ISIC_0027900', 'ISIC_0029843', 'ISIC_0028718', 'ISIC_0025748', 'ISIC_0027130', 'ISIC_0029454', 'ISIC_0028051', 'ISIC_0026094', 'ISIC_0024571', 'ISIC_0027155', 'ISIC_0027328', 'ISIC_0030501', 'ISIC_0024546', 'ISIC_0024525', 'ISIC_0030382', 'ISIC_0028017', 'ISIC_0029033', 'ISIC_0029146', 'ISIC_0028288', 'ISIC_0026009', 'ISIC_0029089', 'ISIC_0027030', 'ISIC_0030689', 'ISIC_0024516', 'ISIC_0032420', 'ISIC_0025248', 'ISIC_0026266', 'ISIC_0028418', 'ISIC_0025268', 'ISIC_0029744', 'ISIC_0025800', 'ISIC_0032425', 'ISIC_0027442', 'ISIC_0024940', 'ISIC_0024351', 'ISIC_0030110', 'ISIC_0025132', 'ISIC_0031494', 'ISIC_0028306', 'ISIC_0026916', 'ISIC_0027863', 'ISIC_0027702', 'ISIC_0028847', 'ISIC_0024961', 'ISIC_0029319', 'ISIC_0032219', 'ISIC_0025127', 'ISIC_0029318', 'ISIC_0032070', 'ISIC_0026796', 'ISIC_0026811', 'ISIC_0029839', 'ISIC_0030747', 'ISIC_0026604', 'ISIC_0028777', 'ISIC_0026877', 'ISIC_0027964', 'ISIC_0030784', 'ISIC_0031146', 'ISIC_0025755', 'ISIC_0029157', 'ISIC_0024952', 'ISIC_0025546', 'ISIC_0031239', 'ISIC_0026868', 'ISIC_0027742', 'ISIC_0027105', 'ISIC_0027502', 'ISIC_0031529', 'ISIC_0027420', 'ISIC_0030843', 'ISIC_0028898', 'ISIC_0027071', 'ISIC_0029780', 'ISIC_0030616', 'ISIC_0025391', 'ISIC_0025413', 'ISIC_0032192', 'ISIC_0024323', 'ISIC_0027436', 'ISIC_0032372', 'ISIC_0026694', 'ISIC_0024313', 'ISIC_0031915', 'ISIC_0028929', 'ISIC_0026746', 'ISIC_0026774', 'ISIC_0030047', 'ISIC_0030910', 'ISIC_0029238', 'ISIC_0028685', 'ISIC_0027663', 'ISIC_0028065', 'ISIC_0026571', 'ISIC_0031670', 'ISIC_0031339', 'ISIC_0032430', 'ISIC_0027573', 'ISIC_0026847', 'ISIC_0027517', 'ISIC_0029958', 'ISIC_0032476', 'ISIC_0031170', 'ISIC_0030423', 'ISIC_0024652', 'ISIC_0029353', 'ISIC_0032504', 'ISIC_0027956', 'ISIC_0029170', 'ISIC_0029995', 'ISIC_0031908', 'ISIC_0026897', 'ISIC_0030653', 'ISIC_0026586', 'ISIC_0027101', 'ISIC_0025732', 'ISIC_0030950', 'ISIC_0025195', 'ISIC_0026652', 'ISIC_0029885', 'ISIC_0025409', 'ISIC_0028709', 'ISIC_0025814', 'ISIC_0026853', 'ISIC_0031550', 'ISIC_0028227', 'ISIC_0027163', 'ISIC_0029642', 'ISIC_0029893', 'ISIC_0031417', 'ISIC_0024647', 'ISIC_0028567', 'ISIC_0030695', 'ISIC_0024554', 'ISIC_0031203', 'ISIC_0030183', 'ISIC_0024679', 'ISIC_0026690', 'ISIC_0031401', 'ISIC_0027089', 'ISIC_0026239', 'ISIC_0030255', 'ISIC_0029495', 'ISIC_0032269', 'ISIC_0031350', 'ISIC_0025832', 'ISIC_0026105', 'ISIC_0029574', 'ISIC_0026930', 'ISIC_0030246', 'ISIC_0027350', 'ISIC_0028218', 'ISIC_0024805', 'ISIC_0030032', 'ISIC_0026870', 'ISIC_0026738', 'ISIC_0026131', 'ISIC_0025663', 'ISIC_0025105', 'ISIC_0028860', 'ISIC_0031561', 'ISIC_0025766', 'ISIC_0031410', 'ISIC_0027560', 'ISIC_0025573', 'ISIC_0029705', 'ISIC_0032207', 'ISIC_0032149', 'ISIC_0024733', 'ISIC_0032433', 'ISIC_0027480', 'ISIC_0026558', 'ISIC_0027590', 'ISIC_0030083', 'ISIC_0030002', 'ISIC_0029271', 'ISIC_0028033', 'ISIC_0032204', 'ISIC_0032095', 'ISIC_0028773', 'ISIC_0031821', 'ISIC_0030795', 'ISIC_0027507', 'ISIC_0026802', 'ISIC_0028026', 'ISIC_0027904', 'ISIC_0024630', 'ISIC_0024333', 'ISIC_0024932', 'ISIC_0029480', 'ISIC_0032232', 'ISIC_0031005', 'ISIC_0028220', 'ISIC_0030507', 'ISIC_0026735', 'ISIC_0028352', 'ISIC_0029094', 'ISIC_0025128', 'ISIC_0026045', 'ISIC_0028508', 'ISIC_0031498', 'ISIC_0028156', 'ISIC_0024918', 'ISIC_0032287', 'ISIC_0025791', 'ISIC_0030901', 'ISIC_0030995', 'ISIC_0031368', 'ISIC_0031900', 'ISIC_0026516', 'ISIC_0025724', 'ISIC_0029570', 'ISIC_0025550', 'ISIC_0025414', 'ISIC_0024410', 'ISIC_0028930', 'ISIC_0031389', 'ISIC_0030925', 'ISIC_0030122', 'ISIC_0024864', 'ISIC_0031778', 'ISIC_0031377', 'ISIC_0027126', 'ISIC_0030604', 'ISIC_0024958', 'ISIC_0031025', 'ISIC_0030951', 'ISIC_0031957', 'ISIC_0031303', 'ISIC_0027067', 'ISIC_0031087', 'ISIC_0027187', 'ISIC_0028285', 'ISIC_0026258', 'ISIC_0025235', 'ISIC_0028915', 'ISIC_0029652', 'ISIC_0031295', 'ISIC_0025317', 'ISIC_0026420', 'ISIC_0028764', 'ISIC_0029021', 'ISIC_0027359', 'ISIC_0025616', 'ISIC_0028075', 'ISIC_0026823', 'ISIC_0030929', 'ISIC_0028493', 'ISIC_0028968', 'ISIC_0024739', 'ISIC_0025188', 'ISIC_0029272', 'ISIC_0032389', 'ISIC_0025709', 'ISIC_0031746', 'ISIC_0025500', 'ISIC_0030277', 'ISIC_0025941', 'ISIC_0027832', 'ISIC_0031844', 'ISIC_0027797', 'ISIC_0025611', 'ISIC_0031197', 'ISIC_0031270', 'ISIC_0029486', 'ISIC_0031901', 'ISIC_0032076', 'ISIC_0025321', 'ISIC_0029404', 'ISIC_0030275', 'ISIC_0026092', 'ISIC_0024904', 'ISIC_0028163', 'ISIC_0024669', 'ISIC_0031217', 'ISIC_0025599', 'ISIC_0025578', 'ISIC_0029448', 'ISIC_0028714', 'ISIC_0030956', 'ISIC_0026693', 'ISIC_0027983', 'ISIC_0030770', 'ISIC_0032240', 'ISIC_0031759', 'ISIC_0027385', 'ISIC_0030882', 'ISIC_0029514', 'ISIC_0027672', 'ISIC_0026163', 'ISIC_0025807', 'ISIC_0032745', 'ISIC_0032557', 'ISIC_0033092', 'ISIC_0027903', 'ISIC_0026456', 'ISIC_0033450', 'ISIC_0033254', 'ISIC_0033158', 'ISIC_0032867', 'ISIC_0032545', 'ISIC_0032692', 'ISIC_0033608', 'ISIC_0033969', 'ISIC_0033031', 'ISIC_0032775', 'ISIC_0033458', 'ISIC_0032614', 'ISIC_0033349', 'ISIC_0032919', 'ISIC_0032866', 'ISIC_0033135', 'ISIC_0032538', 'ISIC_0033591', 'ISIC_0031648', 'ISIC_0033565', 'ISIC_0033123', 'ISIC_0033230', 'ISIC_0033762', 'ISIC_0034214', 'ISIC_0033749', 'ISIC_0034196', 'ISIC_0031090', 'ISIC_0032270', 'ISIC_0027159', 'ISIC_0028188', 'ISIC_0030722', 'ISIC_0026876', 'ISIC_0030606', 'ISIC_0024747', 'ISIC_0031346', 'ISIC_0027210', 'ISIC_0025924', 'ISIC_0031719', 'ISIC_0030070', 'ISIC_0031093', 'ISIC_0029608', 'ISIC_0024402', 'ISIC_0027256', 'ISIC_0032715', 'ISIC_0033991', 'ISIC_0033817', 'ISIC_0032839', 'ISIC_0032932', 'ISIC_0031996', 'ISIC_0032890', 'ISIC_0033844', 'ISIC_0026336', 'ISIC_0031201', 'ISIC_0030283', 'ISIC_0031706', 'ISIC_0024475', 'ISIC_0025677', 'ISIC_0025873', 'ISIC_0032409', 'ISIC_0028680', 'ISIC_0025244', 'ISIC_0025707', 'ISIC_0029742', 'ISIC_0027522', 'ISIC_0028406', 'ISIC_0025628', 'ISIC_0026393', 'ISIC_0029877', 'ISIC_0024662', 'ISIC_0031215', 'ISIC_0027856', 'ISIC_0028431', 'ISIC_0030104', 'ISIC_0026490', 'ISIC_0027790', 'ISIC_0027888', 'ISIC_0024370', 'ISIC_0025606', 'ISIC_0031103', 'ISIC_0031065', 'ISIC_0025250', 'ISIC_0024375', 'ISIC_0029099', 'ISIC_0031955', 'ISIC_0025249', 'ISIC_0026713', 'ISIC_0028885', 'ISIC_0024867', 'ISIC_0027937', 'ISIC_0025425', 'ISIC_0024706', 'ISIC_0027665', 'ISIC_0032057', 'ISIC_0025680', 'ISIC_0026068', 'ISIC_0025452', 'ISIC_0026349', 'ISIC_0027269', 'ISIC_0028155', 'ISIC_0034093', 'ISIC_0029230', 'ISIC_0031513', 'ISIC_0032384', 'ISIC_0027146', 'ISIC_0024457', 'ISIC_0029193', 'ISIC_0027526', 'ISIC_0024431', 'ISIC_0026656', 'ISIC_0026760', 'ISIC_0025718', 'ISIC_0027135', 'ISIC_0027976', 'ISIC_0028238', 'ISIC_0029755', 'ISIC_0026321', 'ISIC_0025467', 'ISIC_0028807', 'ISIC_0024673', 'ISIC_0026574', 'ISIC_0028495', 'ISIC_0030574', 'ISIC_0031585', 'ISIC_0024590', 'ISIC_0025932', 'ISIC_0028747', 'ISIC_0030446', 'ISIC_0031527', 'ISIC_0031166', 'ISIC_0028693', 'ISIC_0030893', 'ISIC_0030261', 'ISIC_0028994', 'ISIC_0032696', 'ISIC_0029466', 'ISIC_0027057', 'ISIC_0028085', 'ISIC_0025691', 'ISIC_0025824', 'ISIC_0031400', 'ISIC_0029747', 'ISIC_0030778', 'ISIC_0031749', 'ISIC_0029847', 'ISIC_0031943', 'ISIC_0027865', 'ISIC_0030335', 'ISIC_0025793', 'ISIC_0025731', 'ISIC_0028670', 'ISIC_0029647', 'ISIC_0027858', 'ISIC_0027433', 'ISIC_0029515', 'ISIC_0030271', 'ISIC_0026643', 'ISIC_0031140', 'ISIC_0032139', 'ISIC_0031243', 'ISIC_0026282', 'ISIC_0027744', 'ISIC_0028457', 'ISIC_0030687', 'ISIC_0025584', 'ISIC_0027545', 'ISIC_0027609', 'ISIC_0030766', 'ISIC_0027117', 'ISIC_0029034', 'ISIC_0030800', 'ISIC_0027365', 'ISIC_0026343', 'ISIC_0029341', 'ISIC_0031762', 'ISIC_0028106', 'ISIC_0026593', 'ISIC_0027774', 'ISIC_0027998', 'ISIC_0028079', 'ISIC_0031442', 'ISIC_0026766', 'ISIC_0032415', 'ISIC_0030177', 'ISIC_0031284', 'ISIC_0031789', 'ISIC_0028095', 'ISIC_0032414', 'ISIC_0031824', 'ISIC_0030145', 'ISIC_0031640', 'ISIC_0024360', 'ISIC_0029899', 'ISIC_0026230', 'ISIC_0026395', 'ISIC_0024504', 'ISIC_0025600', 'ISIC_0025557', 'ISIC_0028323', 'ISIC_0030659', 'ISIC_0025383', 'ISIC_0025513', 'ISIC_0027478', 'ISIC_0026275', 'ISIC_0024573', 'ISIC_0031272', 'ISIC_0024572', 'ISIC_0027851', 'ISIC_0028858', 'ISIC_0026324', 'ISIC_0025700', 'ISIC_0030010', 'ISIC_0026831', 'ISIC_0032482', 'ISIC_0029201', 'ISIC_0026439', 'ISIC_0029779', 'ISIC_0029669', 'ISIC_0031169', 'ISIC_0030349', 'ISIC_0026091', 'ISIC_0034160', 'ISIC_0026453', 'ISIC_0031489', 'ISIC_0027297', 'ISIC_0028980', 'ISIC_0032660', 'ISIC_0033504', 'ISIC_0024885', 'ISIC_0027058', 'ISIC_0030114', 'ISIC_0029020', 'ISIC_0032959', 'ISIC_0034306', 'ISIC_0032799', 'ISIC_0033020', 'ISIC_0032768', 'ISIC_0033205', 'ISIC_0033271', 'ISIC_0033575', 'ISIC_0032894', 'ISIC_0033720', 'ISIC_0034255', 'ISIC_0032834', 'ISIC_0034058', 'ISIC_0033001', 'ISIC_0033354', 'ISIC_0032857', 'ISIC_0032906', 'ISIC_0027786', 'ISIC_0033579', 'ISIC_0034095', 'ISIC_0034143', 'ISIC_0032652', 'ISIC_0033551', 'ISIC_0033571', 'ISIC_0033666', 'ISIC_0033218', 'ISIC_0033054', 'ISIC_0033257', 'ISIC_0034276', 'ISIC_0034119', 'ISIC_0034047', 'ISIC_0034299', 'ISIC_0032808', 'ISIC_0033483', 'ISIC_0032536', 'ISIC_0034161', 'ISIC_0033747', 'ISIC_0025644', 'ISIC_0030314', 'ISIC_0033012', 'ISIC_0033468', 'ISIC_0033609', 'ISIC_0032777', 'ISIC_0033019', 'ISIC_0033203', 'ISIC_0033366', 'ISIC_0032816', 'ISIC_0024666', 'ISIC_0028890', 'ISIC_0025752', 'ISIC_0034015', 'ISIC_0034223', 'ISIC_0032611', 'ISIC_0033499', 'ISIC_0033372', 'ISIC_0034066', 'ISIC_0034123', 'ISIC_0034026', 'ISIC_0032741', 'ISIC_0033301', 'ISIC_0034155', 'ISIC_0033146', 'ISIC_0029192', 'ISIC_0033248', 'ISIC_0025102', 'ISIC_0032850', 'ISIC_0030712', 'ISIC_0032727', 'ISIC_0032991', 'ISIC_0033979', 'ISIC_0031836', 'ISIC_0027090', 'ISIC_0026350', 'ISIC_0031569', 'ISIC_0026528', 'ISIC_0029564', 'ISIC_0027814', 'ISIC_0024515', 'ISIC_0031225', 'ISIC_0031450', 'ISIC_0031026', 'ISIC_0032146', 'ISIC_0024848', 'ISIC_0030233', 'ISIC_0028688', 'ISIC_0028677', 'ISIC_0028818', 'ISIC_0028059', 'ISIC_0025576', 'ISIC_0029331', 'ISIC_0029546', 'ISIC_0029392', 'ISIC_0027601', 'ISIC_0031698', 'ISIC_0031245', 'ISIC_0027631', 'ISIC_0028316', 'ISIC_0028570', 'ISIC_0031351', 'ISIC_0026988', 'ISIC_0031413', 'ISIC_0032497', 'ISIC_0025144', 'ISIC_0029278', 'ISIC_0024632', 'ISIC_0026668', 'ISIC_0025301', 'ISIC_0031643', 'ISIC_0026192', 'ISIC_0030644', 'ISIC_0025417', 'ISIC_0028035', 'ISIC_0028486', 'ISIC_0027371', 'ISIC_0026213', 'ISIC_0026442', 'ISIC_0026716', 'ISIC_0025971', 'ISIC_0030737', 'ISIC_0025650', 'ISIC_0029083', 'ISIC_0028765', 'ISIC_0027531', 'ISIC_0024331', 'ISIC_0026952', 'ISIC_0031384', 'ISIC_0025299', 'ISIC_0028739', 'ISIC_0031712', 'ISIC_0029391', 'ISIC_0030403', 'ISIC_0024595', 'ISIC_0025046', 'ISIC_0024665', 'ISIC_0024332', 'ISIC_0029129', 'ISIC_0029805', 'ISIC_0026496', 'ISIC_0024454', 'ISIC_0025433', 'ISIC_0027704', 'ISIC_0029412', 'ISIC_0028583', 'ISIC_0024403', 'ISIC_0030528', 'ISIC_0030511', 'ISIC_0030594', 'ISIC_0026855', 'ISIC_0026968', 'ISIC_0024634', 'ISIC_0025975', 'ISIC_0031236', 'ISIC_0030813', 'ISIC_0026074', 'ISIC_0027846', 'ISIC_0032174', 'ISIC_0025940', 'ISIC_0026056', 'ISIC_0026156', 'ISIC_0028113', 'ISIC_0029974', 'ISIC_0031597', 'ISIC_0026798', 'ISIC_0028107', 'ISIC_0027915', 'ISIC_0026337', 'ISIC_0026902', 'ISIC_0027189', 'ISIC_0026117', 'ISIC_0025266', 'ISIC_0032307', 'ISIC_0026978', 'ISIC_0026845', 'ISIC_0027966', 'ISIC_0024448', 'ISIC_0032022', 'ISIC_0024452', 'ISIC_0029539', 'ISIC_0031258', 'ISIC_0030197', 'ISIC_0024582', 'ISIC_0029655', 'ISIC_0028989', 'ISIC_0028556', 'ISIC_0024472', 'ISIC_0031175', 'ISIC_0030755', 'ISIC_0031976', 'ISIC_0031122', 'ISIC_0027825', 'ISIC_0025826', 'ISIC_0029856', 'ISIC_0024799', 'ISIC_0031007', 'ISIC_0030230', 'ISIC_0031728', 'ISIC_0031526', 'ISIC_0025711', 'ISIC_0028973', 'ISIC_0029082', 'ISIC_0024432', 'ISIC_0029035', 'ISIC_0025601', 'ISIC_0032461', 'ISIC_0030690', 'ISIC_0027473', 'ISIC_0025362', 'ISIC_0027093', 'ISIC_0030181', 'ISIC_0028329', 'ISIC_0030964', 'ISIC_0031009', 'ISIC_0024743', 'ISIC_0031925', 'ISIC_0024949', 'ISIC_0032246', 'ISIC_0026865', 'ISIC_0031057', 'ISIC_0027337', 'ISIC_0029263', 'ISIC_0026687', 'ISIC_0027229', 'ISIC_0027004', 'ISIC_0026433', 'ISIC_0029524', 'ISIC_0028050', 'ISIC_0031294', 'ISIC_0028719', 'ISIC_0027046', 'ISIC_0031154', 'ISIC_0028168', 'ISIC_0031056', 'ISIC_0026118', 'ISIC_0029820', 'ISIC_0027722', 'ISIC_0029644', 'ISIC_0031063', 'ISIC_0028877', 'ISIC_0032314', 'ISIC_0027425', 'ISIC_0029323', 'ISIC_0031520', 'ISIC_0031171', 'ISIC_0031552', 'ISIC_0028084', 'ISIC_0026970', 'ISIC_0028303', 'ISIC_0024461', 'ISIC_0030526', 'ISIC_0025530', 'ISIC_0027629', 'ISIC_0025630', 'ISIC_0029337', 'ISIC_0030096', 'ISIC_0028197', 'ISIC_0029831', 'ISIC_0030514', 'ISIC_0024345', 'ISIC_0028283', 'ISIC_0027175', 'ISIC_0031407', 'ISIC_0028652', 'ISIC_0027038', 'ISIC_0032030', 'ISIC_0031651', 'ISIC_0027525', 'ISIC_0024550', 'ISIC_0029919', 'ISIC_0028928', 'ISIC_0031378', 'ISIC_0024564', 'ISIC_0025322', 'ISIC_0027677', 'ISIC_0024833', 'ISIC_0027546', 'ISIC_0030868', 'ISIC_0026995', 'ISIC_0029123', 'ISIC_0029372', 'ISIC_0030782', 'ISIC_0030915', 'ISIC_0031318', 'ISIC_0031470', 'ISIC_0032092', 'ISIC_0024787', 'ISIC_0027281', 'ISIC_0027291', 'ISIC_0029602', 'ISIC_0028147', 'ISIC_0030954', 'ISIC_0031062', 'ISIC_0029053', 'ISIC_0024436', 'ISIC_0026940', 'ISIC_0029745', 'ISIC_0028419', 'ISIC_0025818', 'ISIC_0030746', 'ISIC_0031986', 'ISIC_0028350', 'ISIC_0028814', 'ISIC_0025509', 'ISIC_0024443', 'ISIC_0029342', 'ISIC_0028577', 'ISIC_0029680', 'ISIC_0030339', 'ISIC_0032132', 'ISIC_0029545', 'ISIC_0028568', 'ISIC_0031298', 'ISIC_0030249', 'ISIC_0032302', 'ISIC_0029352', 'ISIC_0028122', 'ISIC_0027595', 'ISIC_0026154', 'ISIC_0028687', 'ISIC_0027120', 'ISIC_0029501', 'ISIC_0030138', 'ISIC_0032185', 'ISIC_0032222', 'ISIC_0025019', 'ISIC_0027759', 'ISIC_0032429', 'ISIC_0029951', 'ISIC_0027675', 'ISIC_0024984', 'ISIC_0026090', 'ISIC_0025285', 'ISIC_0027920', 'ISIC_0027788', 'ISIC_0029857', 'ISIC_0028653', 'ISIC_0031263', 'ISIC_0024829', 'ISIC_0032164', 'ISIC_0025031', 'ISIC_0032316', 'ISIC_0024931', 'ISIC_0024411', 'ISIC_0028671', 'ISIC_0026957', 'ISIC_0025564', 'ISIC_0032318', 'ISIC_0030767', 'ISIC_0032061', 'ISIC_0031971', 'ISIC_0031721', 'ISIC_0028542', 'ISIC_0025260', 'ISIC_0031531', 'ISIC_0028978', 'ISIC_0028728', 'ISIC_0025775', 'ISIC_0028502', 'ISIC_0028239', 'ISIC_0031325', 'ISIC_0032115', 'ISIC_0025251', 'ISIC_0025843', 'ISIC_0031503', 'ISIC_0025384', 'ISIC_0032446', 'ISIC_0032285', 'ISIC_0027347', 'ISIC_0029979', 'ISIC_0029624', 'ISIC_0024415', 'ISIC_0026425', 'ISIC_0026555', 'ISIC_0031282', 'ISIC_0029961', 'ISIC_0026583', 'ISIC_0032226', 'ISIC_0031536', 'ISIC_0026681', 'ISIC_0026780', 'ISIC_0026211', 'ISIC_0025457', 'ISIC_0029594', 'ISIC_0031575', 'ISIC_0028266', 'ISIC_0032060', 'ISIC_0029303', 'ISIC_0026054', 'ISIC_0029347', 'ISIC_0028727', 'ISIC_0027315', 'ISIC_0028455', 'ISIC_0024535', 'ISIC_0026824', 'ISIC_0024968', 'ISIC_0025320', 'ISIC_0024828', 'ISIC_0027725', 'ISIC_0028298', 'ISIC_0024364', 'ISIC_0031269', 'ISIC_0025398', 'ISIC_0030035', 'ISIC_0031403', 'ISIC_0026011', 'ISIC_0026518', 'ISIC_0030993', 'ISIC_0027479', 'ISIC_0031068', 'ISIC_0025338', 'ISIC_0030791', 'ISIC_0031463', 'ISIC_0027944', 'ISIC_0031974', 'ISIC_0024896', 'ISIC_0029153', 'ISIC_0028480', 'ISIC_0031455', 'ISIC_0026768', 'ISIC_0029569', 'ISIC_0029351', 'ISIC_0024376', 'ISIC_0030102', 'ISIC_0031486', 'ISIC_0029526', 'ISIC_0028446', 'ISIC_0031895', 'ISIC_0030072', 'ISIC_0030820', 'ISIC_0031845', 'ISIC_0027278', 'ISIC_0028090', 'ISIC_0028879', 'ISIC_0030148', 'ISIC_0029540', 'ISIC_0028924', 'ISIC_0032016', 'ISIC_0032048', 'ISIC_0026255', 'ISIC_0030013', 'ISIC_0031371', 'ISIC_0025585', 'ISIC_0030523', 'ISIC_0031100', 'ISIC_0029637', 'ISIC_0024979', 'ISIC_0024462', 'ISIC_0025415', 'ISIC_0027974', 'ISIC_0031207', 'ISIC_0025143', 'ISIC_0030918', 'ISIC_0025161', 'ISIC_0031926', 'ISIC_0027324', 'ISIC_0031652', 'ISIC_0030846', 'ISIC_0029829', 'ISIC_0025407', 'ISIC_0031297', 'ISIC_0029149', 'ISIC_0032169', 'ISIC_0024584', 'ISIC_0029870', 'ISIC_0028164', 'ISIC_0025528', 'ISIC_0027221', 'ISIC_0031833', 'ISIC_0028289', 'ISIC_0031164', 'ISIC_0029998', 'ISIC_0031579', 'ISIC_0027810', 'ISIC_0032317', 'ISIC_0029997', 'ISIC_0030338', 'ISIC_0030907', 'ISIC_0030428', 'ISIC_0029373', 'ISIC_0025692', 'ISIC_0030421', 'ISIC_0029911', 'ISIC_0030682', 'ISIC_0027634', 'ISIC_0024357', 'ISIC_0026755', 'ISIC_0027784', 'ISIC_0028359', 'ISIC_0031332', 'ISIC_0031966', 'ISIC_0027268', 'ISIC_0026246', 'ISIC_0028889', 'ISIC_0032501', 'ISIC_0025095', 'ISIC_0027585', 'ISIC_0028302', 'ISIC_0026038', 'ISIC_0028917', 'ISIC_0029888', 'ISIC_0024861', 'ISIC_0032087', 'ISIC_0032387', 'ISIC_0031604', 'ISIC_0027808', 'ISIC_0025593', 'ISIC_0025487', 'ISIC_0029273', 'ISIC_0025206', 'ISIC_0027854', 'ISIC_0025416', 'ISIC_0030617', 'ISIC_0029496', 'ISIC_0024327', 'ISIC_0028339', 'ISIC_0031331', 'ISIC_0026557', 'ISIC_0031997', 'ISIC_0030669', 'ISIC_0032490', 'ISIC_0030642', 'ISIC_0025364', 'ISIC_0027703', 'ISIC_0030050', 'ISIC_0025934', 'ISIC_0025675', 'ISIC_0030573', 'ISIC_0029293', 'ISIC_0025325', 'ISIC_0027717', 'ISIC_0029966', 'ISIC_0025636', 'ISIC_0026036', 'ISIC_0024945', 'ISIC_0028932', 'ISIC_0027732', 'ISIC_0031106', 'ISIC_0026214', 'ISIC_0025142', 'ISIC_0024407', 'ISIC_0032434', 'ISIC_0030016', 'ISIC_0026806', 'ISIC_0025365', 'ISIC_0027160', 'ISIC_0028395', 'ISIC_0028515', 'ISIC_0030287', 'ISIC_0027316', 'ISIC_0026621', 'ISIC_0029239', 'ISIC_0027426', 'ISIC_0025914', 'ISIC_0030888', 'ISIC_0025501', 'ISIC_0030599', 'ISIC_0032153', 'ISIC_0025201', 'ISIC_0029523', 'ISIC_0030541', 'ISIC_0032211', 'ISIC_0026565', 'ISIC_0027195', 'ISIC_0028682', 'ISIC_0029112', 'ISIC_0026399', 'ISIC_0029290', 'ISIC_0025749', 'ISIC_0029258', 'ISIC_0025224', 'ISIC_0031388', 'ISIC_0028034', 'ISIC_0029336', 'ISIC_0027429', 'ISIC_0028690', 'ISIC_0026585', 'ISIC_0025353', 'ISIC_0026914', 'ISIC_0024980', 'ISIC_0031653', 'ISIC_0032100', 'ISIC_0026169', 'ISIC_0031632', 'ISIC_0025813', 'ISIC_0031453', 'ISIC_0026242', 'ISIC_0030214', 'ISIC_0027422', 'ISIC_0025722', 'ISIC_0031099', 'ISIC_0028282', 'ISIC_0028639', 'ISIC_0028136', 'ISIC_0026435', 'ISIC_0026476', 'ISIC_0031773', 'ISIC_0031881', 'ISIC_0026283', 'ISIC_0029892', 'ISIC_0027912', 'ISIC_0029943', 'ISIC_0029561', 'ISIC_0026682', 'ISIC_0027416', 'ISIC_0028848', 'ISIC_0028862', 'ISIC_0029044', 'ISIC_0028054', 'ISIC_0030550', 'ISIC_0031704', 'ISIC_0024580', 'ISIC_0025930', 'ISIC_0031701', 'ISIC_0031185', 'ISIC_0024369', 'ISIC_0029463', 'ISIC_0028196', 'ISIC_0029008', 'ISIC_0024636', 'ISIC_0032025', 'ISIC_0031157', 'ISIC_0031234', 'ISIC_0031907', 'ISIC_0025922', 'ISIC_0032254', 'ISIC_0024544', 'ISIC_0030903', 'ISIC_0025994', 'ISIC_0028962', 'ISIC_0030292', 'ISIC_0029015', 'ISIC_0025205', 'ISIC_0028668', 'ISIC_0031730', 'ISIC_0030469', 'ISIC_0030170', 'ISIC_0026232', 'ISIC_0030322', 'ISIC_0030885', 'ISIC_0031638', 'ISIC_0026562', 'ISIC_0027576', 'ISIC_0027389', 'ISIC_0031330', 'ISIC_0024433', 'ISIC_0032011', 'ISIC_0030540', 'ISIC_0024593', 'ISIC_0029184', 'ISIC_0030308', 'ISIC_0030470', 'ISIC_0027124', 'ISIC_0032366', 'ISIC_0027816', 'ISIC_0025366', 'ISIC_0030936', 'ISIC_0030168', 'ISIC_0031229', 'ISIC_0031777', 'ISIC_0025558', 'ISIC_0026520', 'ISIC_0024692', 'ISIC_0030729', 'ISIC_0030457', 'ISIC_0029729', 'ISIC_0028768', 'ISIC_0026383', 'ISIC_0025794', 'ISIC_0028888', 'ISIC_0028137', 'ISIC_0027691', 'ISIC_0024473', 'ISIC_0024791', 'ISIC_0028805', 'ISIC_0025255', 'ISIC_0026778', 'ISIC_0028462', 'ISIC_0028812', 'ISIC_0031606', 'ISIC_0031422', 'ISIC_0032453', 'ISIC_0029784', 'ISIC_0029633', 'ISIC_0027136', 'ISIC_0028546', 'ISIC_0028111', 'ISIC_0030880', 'ISIC_0025041', 'ISIC_0027763', 'ISIC_0026700', 'ISIC_0031174', 'ISIC_0028025', 'ISIC_0027572', 'ISIC_0030376', 'ISIC_0029822', 'ISIC_0027886', 'ISIC_0031776', 'ISIC_0027932', 'ISIC_0029385', 'ISIC_0024464', 'ISIC_0027301', 'ISIC_0026836', 'ISIC_0028864', 'ISIC_0029918', 'ISIC_0028694', 'ISIC_0025044', 'ISIC_0025635', 'ISIC_0031237', 'ISIC_0026613', 'ISIC_0025508', 'ISIC_0029876', 'ISIC_0024788', 'ISIC_0028975', 'ISIC_0029701', 'ISIC_0027843', 'ISIC_0029118', 'ISIC_0026185', 'ISIC_0026137', 'ISIC_0028523', 'ISIC_0030536', 'ISIC_0030902', 'ISIC_0024493', 'ISIC_0026891', 'ISIC_0028260', 'ISIC_0024863', 'ISIC_0031837', 'ISIC_0030774', 'ISIC_0030041', 'ISIC_0025615', 'ISIC_0029317', 'ISIC_0025900', 'ISIC_0030797', 'ISIC_0031690', 'ISIC_0026594', 'ISIC_0026936', 'ISIC_0026075', 'ISIC_0024512', 'ISIC_0027164', 'ISIC_0029619', 'ISIC_0024637', 'ISIC_0027276', 'ISIC_0024879', 'ISIC_0030906', 'ISIC_0025120', 'ISIC_0031291', 'ISIC_0031947', 'ISIC_0030904', 'ISIC_0024868', 'ISIC_0024884', 'ISIC_0031938', 'ISIC_0027290', 'ISIC_0029386', 'ISIC_0027220', 'ISIC_0029675', 'ISIC_0029751', 'ISIC_0030293', 'ISIC_0031035', 'ISIC_0029604', 'ISIC_0028967', 'ISIC_0031771', 'ISIC_0028044', 'ISIC_0031572', 'ISIC_0030411', 'ISIC_0030315', 'ISIC_0030269', 'ISIC_0028597', 'ISIC_0031571', 'ISIC_0032059', 'ISIC_0031069', 'ISIC_0024348', 'ISIC_0027919', 'ISIC_0031219', 'ISIC_0031781', 'ISIC_0024690', 'ISIC_0025175', 'ISIC_0028175', 'ISIC_0025444', 'ISIC_0025274', 'ISIC_0030120', 'ISIC_0026057', 'ISIC_0025878', 'ISIC_0027375', 'ISIC_0031534', 'ISIC_0025613', 'ISIC_0027564', 'ISIC_0027145', 'ISIC_0025256', 'ISIC_0026465', 'ISIC_0026256', 'ISIC_0031477', 'ISIC_0026366', 'ISIC_0025192', 'ISIC_0027251', 'ISIC_0031995', 'ISIC_0028572', 'ISIC_0026168', 'ISIC_0029469', 'ISIC_0030289', 'ISIC_0028933', 'ISIC_0027356', 'ISIC_0030836', 'ISIC_0029618', 'ISIC_0030204', 'ISIC_0028242', 'ISIC_0028699', 'ISIC_0030003', 'ISIC_0032321', 'ISIC_0030658', 'ISIC_0025298', 'ISIC_0030566', 'ISIC_0028142', 'ISIC_0028613', 'ISIC_0028466', 'ISIC_0027591', 'ISIC_0030400', 'ISIC_0030282', 'ISIC_0028935', 'ISIC_0024985', 'ISIC_0025514', 'ISIC_0026136', 'ISIC_0024856', 'ISIC_0028921', 'ISIC_0024598', 'ISIC_0025054', 'ISIC_0029703', 'ISIC_0031699', 'ISIC_0031213', 'ISIC_0031038', 'ISIC_0032337', 'ISIC_0029211', 'ISIC_0027467', 'ISIC_0031102', 'ISIC_0026659', 'ISIC_0032231', 'ISIC_0028869', 'ISIC_0028705', 'ISIC_0028775', 'ISIC_0025080', 'ISIC_0029950', 'ISIC_0025910', 'ISIC_0030761', 'ISIC_0031402', 'ISIC_0031461', 'ISIC_0030862', 'ISIC_0030049', 'ISIC_0025536', 'ISIC_0027318', 'ISIC_0032162', 'ISIC_0025979', 'ISIC_0026021', 'ISIC_0025375', 'ISIC_0026079', 'ISIC_0030957', 'ISIC_0025833', 'ISIC_0030547', 'ISIC_0031288', 'ISIC_0027106', 'ISIC_0031392', 'ISIC_0025947', 'ISIC_0031909', 'ISIC_0026822', 'ISIC_0025559', 'ISIC_0030787', 'ISIC_0030000', 'ISIC_0028819', 'ISIC_0028426', 'ISIC_0031199', 'ISIC_0029023', 'ISIC_0027764', 'ISIC_0026817', 'ISIC_0029274', 'ISIC_0027165', 'ISIC_0031250', 'ISIC_0025084', 'ISIC_0028337', 'ISIC_0031438', 'ISIC_0028077', 'ISIC_0029132', 'ISIC_0029972', 'ISIC_0030519', 'ISIC_0028428', 'ISIC_0026225', 'ISIC_0028861', 'ISIC_0031021', 'ISIC_0028319', 'ISIC_0024309', 'ISIC_0031469', 'ISIC_0032073', 'ISIC_0027554', 'ISIC_0027166', 'ISIC_0024556', 'ISIC_0026733', 'ISIC_0030871', 'ISIC_0031582', 'ISIC_0025328', 'ISIC_0024901', 'ISIC_0025544', 'ISIC_0028836', 'ISIC_0029699', 'ISIC_0025861', 'ISIC_0032228', 'ISIC_0027157', 'ISIC_0028660', 'ISIC_0032201', 'ISIC_0032066', 'ISIC_0025116', 'ISIC_0028443', 'ISIC_0030955', 'ISIC_0024738', 'ISIC_0030804', 'ISIC_0029628', 'ISIC_0027472', 'ISIC_0026858', 'ISIC_0032288', 'ISIC_0025952', 'ISIC_0025868', 'ISIC_0024649', 'ISIC_0031051', 'ISIC_0027331', 'ISIC_0027657', 'ISIC_0027485', 'ISIC_0031437', 'ISIC_0027333', 'ISIC_0026620', 'ISIC_0024944', 'ISIC_0025482', 'ISIC_0027227', 'ISIC_0024534', 'ISIC_0031313', 'ISIC_0030569', 'ISIC_0028048', 'ISIC_0024374', 'ISIC_0031661', 'ISIC_0027597', 'ISIC_0027482', 'ISIC_0026689', 'ISIC_0027646', 'ISIC_0026051', 'ISIC_0028184', 'ISIC_0026862', 'ISIC_0028299', 'ISIC_0026320', 'ISIC_0032419', 'ISIC_0031797', 'ISIC_0025057', 'ISIC_0030943', 'ISIC_0029848', 'ISIC_0024803', 'ISIC_0025024', 'ISIC_0030736', 'ISIC_0031685', 'ISIC_0026792', 'ISIC_0025815', 'ISIC_0029426', 'ISIC_0025664', 'ISIC_0028833', 'ISIC_0029335', 'ISIC_0030875', 'ISIC_0024964', 'ISIC_0026087', 'ISIC_0031647', 'ISIC_0030351', 'ISIC_0025104', 'ISIC_0025634', 'ISIC_0029883', 'ISIC_0026994', 'ISIC_0029266', 'ISIC_0024523', 'ISIC_0028789', 'ISIC_0029111', 'ISIC_0026540', 'ISIC_0027061', 'ISIC_0025607', 'ISIC_0027938', 'ISIC_0030206', 'ISIC_0030274', 'ISIC_0025678', 'ISIC_0028349', 'ISIC_0032133', 'ISIC_0031256', 'ISIC_0028062', 'ISIC_0024976', 'ISIC_0024815', 'ISIC_0024492', 'ISIC_0026269', 'ISIC_0028939', 'ISIC_0027935', 'ISIC_0030734', 'ISIC_0025146', 'ISIC_0027156', 'ISIC_0026361', 'ISIC_0027600', 'ISIC_0024838', 'ISIC_0032367', 'ISIC_0028102', 'ISIC_0028721', 'ISIC_0025461', 'ISIC_0028160', 'ISIC_0028821', 'ISIC_0032202', 'ISIC_0024804', 'ISIC_0027868', 'ISIC_0030332', 'ISIC_0026651', 'ISIC_0029697', 'ISIC_0031364', 'ISIC_0026875', 'ISIC_0027440', 'ISIC_0027456', 'ISIC_0025747', 'ISIC_0027758', 'ISIC_0027869', 'ISIC_0031963', 'ISIC_0031625', 'ISIC_0029300', 'ISIC_0032002', 'ISIC_0031800', 'ISIC_0030743', 'ISIC_0024548', 'ISIC_0030374', 'ISIC_0027575', 'ISIC_0024465', 'ISIC_0031398', 'ISIC_0029984', 'ISIC_0032039', 'ISIC_0030306', 'ISIC_0025849', 'ISIC_0025028', 'ISIC_0024687', 'ISIC_0027881', 'ISIC_0030911', 'ISIC_0027621', 'ISIC_0032166', 'ISIC_0032266', 'ISIC_0028375', 'ISIC_0031682', 'ISIC_0025150', 'ISIC_0029471', 'ISIC_0025406', 'ISIC_0031173', 'ISIC_0026415', 'ISIC_0025738', 'ISIC_0026201', 'ISIC_0030570', 'ISIC_0026243', 'ISIC_0026470', 'ISIC_0025359', 'ISIC_0025246', 'ISIC_0028377', 'ISIC_0025090', 'ISIC_0030524', 'ISIC_0030538', 'ISIC_0029085', 'ISIC_0031637', 'ISIC_0027111', 'ISIC_0030092', 'ISIC_0031544', 'ISIC_0030814', 'ISIC_0030193', 'ISIC_0030448', 'ISIC_0031504', 'ISIC_0026032', 'ISIC_0025318', 'ISIC_0026710', 'ISIC_0026128', 'ISIC_0031523', 'ISIC_0030679', 'ISIC_0028712', 'ISIC_0026112', 'ISIC_0026830', 'ISIC_0032336', 'ISIC_0030477', 'ISIC_0027384', 'ISIC_0024379', 'ISIC_0031882', 'ISIC_0026302', 'ISIC_0028817', 'ISIC_0027605', 'ISIC_0031390', 'ISIC_0027215', 'ISIC_0030878', 'ISIC_0032467', 'ISIC_0027307', 'ISIC_0025390', 'ISIC_0029490', 'ISIC_0032005', 'ISIC_0026241', 'ISIC_0026731', 'ISIC_0031086', 'ISIC_0024555', 'ISIC_0030660', 'ISIC_0030461', 'ISIC_0025931', 'ISIC_0030239', 'ISIC_0028058', 'ISIC_0026915', 'ISIC_0025981', 'ISIC_0030237', 'ISIC_0032091', 'ISIC_0025213', 'ISIC_0030174', 'ISIC_0024765', 'ISIC_0030099', 'ISIC_0024776', 'ISIC_0027019', 'ISIC_0026144', 'ISIC_0032263', 'ISIC_0027055', 'ISIC_0027108', 'ISIC_0032241', 'ISIC_0029388', 'ISIC_0031367', 'ISIC_0030596', 'ISIC_0026208', 'ISIC_0028177', 'ISIC_0030502', 'ISIC_0030974', 'ISIC_0031231', 'ISIC_0027765', 'ISIC_0025093', 'ISIC_0030337', 'ISIC_0028105', 'ISIC_0028554', 'ISIC_0031636', 'ISIC_0026718', 'ISIC_0024661', 'ISIC_0025474', 'ISIC_0030481', 'ISIC_0025397', 'ISIC_0025756', 'ISIC_0032088', 'ISIC_0029367', 'ISIC_0026449', 'ISIC_0028609', 'ISIC_0031355', 'ISIC_0025866', 'ISIC_0025877', 'ISIC_0030509', 'ISIC_0024641', 'ISIC_0026854', 'ISIC_0024860', 'ISIC_0025806', 'ISIC_0026364', 'ISIC_0026267', 'ISIC_0030407', 'ISIC_0032188', 'ISIC_0025822', 'ISIC_0030490', 'ISIC_0027736', 'ISIC_0027610', 'ISIC_0028403', 'ISIC_0029689', 'ISIC_0028798', 'ISIC_0030748', 'ISIC_0024816', 'ISIC_0027405', 'ISIC_0024346', 'ISIC_0028912', 'ISIC_0029436', 'ISIC_0028770', 'ISIC_0029150', 'ISIC_0026920', 'ISIC_0032411', 'ISIC_0025929', 'ISIC_0029999', 'ISIC_0030711', 'ISIC_0031978', 'ISIC_0032108', 'ISIC_0030971', 'ISIC_0027541', 'ISIC_0027283', 'ISIC_0024744', 'ISIC_0024563', 'ISIC_0027892', 'ISIC_0026173', 'ISIC_0026227', 'ISIC_0026696', 'ISIC_0027400', 'ISIC_0031357', 'ISIC_0024585', 'ISIC_0026533', 'ISIC_0032507', 'ISIC_0024404', 'ISIC_0031156', 'ISIC_0030186', 'ISIC_0025740', 'ISIC_0026355', 'ISIC_0024663', 'ISIC_0027971', 'ISIC_0027309', 'ISIC_0029940', 'ISIC_0028786', 'ISIC_0031097', 'ISIC_0026814', 'ISIC_0032056', 'ISIC_0024392', 'ISIC_0028906', 'ISIC_0029004', 'ISIC_0030518', 'ISIC_0031715', 'ISIC_0026145', 'ISIC_0025527', 'ISIC_0024822', 'ISIC_0028936', 'ISIC_0025109', 'ISIC_0027110', 'ISIC_0029508', 'ISIC_0024474', 'ISIC_0032454', 'ISIC_0030484', 'ISIC_0027579', 'ISIC_0031167', 'ISIC_0027082', 'ISIC_0025082', 'ISIC_0030418', 'ISIC_0026515', 'ISIC_0027539', 'ISIC_0028647', 'ISIC_0031581', 'ISIC_0030262', 'ISIC_0032399', 'ISIC_0029706', 'ISIC_0029550', 'ISIC_0025493', 'ISIC_0028745', 'ISIC_0029639', 'ISIC_0026368', 'ISIC_0025481', 'ISIC_0026308', 'ISIC_0027712', 'ISIC_0026253', 'ISIC_0026000', 'ISIC_0026397', 'ISIC_0030560', 'ISIC_0030414', 'ISIC_0026908', 'ISIC_0026448', 'ISIC_0032143', 'ISIC_0029167', 'ISIC_0030141', 'ISIC_0027813', 'ISIC_0029536', 'ISIC_0028208', 'ISIC_0025087', 'ISIC_0026233', 'ISIC_0029117', 'ISIC_0026385', 'ISIC_0027317', 'ISIC_0030413', 'ISIC_0026510', 'ISIC_0027009', 'ISIC_0028397', 'ISIC_0028021', 'ISIC_0029312', 'ISIC_0030545', 'ISIC_0026570', 'ISIC_0028088', 'ISIC_0030921', 'ISIC_0026832', 'ISIC_0027553', 'ISIC_0026884', 'ISIC_0025944', 'ISIC_0027022', 'ISIC_0027723', 'ISIC_0026628', 'ISIC_0027357', 'ISIC_0031656', 'ISIC_0026093', 'ISIC_0030441', 'ISIC_0025072', 'ISIC_0029871', 'ISIC_0027951', 'ISIC_0028769', 'ISIC_0025164', 'ISIC_0031532', 'ISIC_0030913', 'ISIC_0027080', 'ISIC_0031434', 'ISIC_0027438', 'ISIC_0025007', 'ISIC_0027775', 'ISIC_0024656', 'ISIC_0024807', 'ISIC_0028083', 'ISIC_0029688', 'ISIC_0031320', 'ISIC_0030896', 'ISIC_0032080', 'ISIC_0029456', 'ISIC_0025894', 'ISIC_0028279', 'ISIC_0026688', 'ISIC_0028908', 'ISIC_0024395', 'ISIC_0026791', 'ISIC_0026170', 'ISIC_0029088', 'ISIC_0032352', 'ISIC_0026317', 'ISIC_0031273', 'ISIC_0027299', 'ISIC_0024736', 'ISIC_0024778', 'ISIC_0029748', 'ISIC_0028979', 'ISIC_0025437', 'ISIC_0029148', 'ISIC_0027206', 'ISIC_0028474', 'ISIC_0030752', 'ISIC_0031508', 'ISIC_0025379', 'ISIC_0032339', 'ISIC_0031490', 'ISIC_0031675', 'ISIC_0028318', 'ISIC_0030866', 'ISIC_0031998', 'ISIC_0028133', 'ISIC_0027637', 'ISIC_0029484', 'ISIC_0026436', 'ISIC_0028771', 'ISIC_0029128', 'ISIC_0031693', 'ISIC_0031540', 'ISIC_0029264', 'ISIC_0027617', 'ISIC_0027653', 'ISIC_0027457', 'ISIC_0029980', 'ISIC_0026624', 'ISIC_0031033', 'ISIC_0029087', 'ISIC_0029711', 'ISIC_0025126', 'ISIC_0026649', 'ISIC_0025792', 'ISIC_0025162', 'ISIC_0025639', 'ISIC_0031104', 'ISIC_0026407', 'ISIC_0026064', 'ISIC_0029695', 'ISIC_0031165', 'ISIC_0030291', 'ISIC_0027638', 'ISIC_0026503', 'ISIC_0026677', 'ISIC_0031785', 'ISIC_0024796', 'ISIC_0027056', 'ISIC_0027636', 'ISIC_0027994', 'ISIC_0030402', 'ISIC_0025720', 'ISIC_0029844', 'ISIC_0027941', 'ISIC_0025438', 'ISIC_0030265', 'ISIC_0024974', 'ISIC_0030505', 'ISIC_0026900', 'ISIC_0027936', 'ISIC_0032500', 'ISIC_0025119', 'ISIC_0025976', 'ISIC_0026474', 'ISIC_0027230', 'ISIC_0030248', 'ISIC_0026691', 'ISIC_0031144', 'ISIC_0028535', 'ISIC_0025293', 'ISIC_0025580', 'ISIC_0028246', 'ISIC_0028392', 'ISIC_0025965', 'ISIC_0024570', 'ISIC_0031724', 'ISIC_0028552', 'ISIC_0026322', 'ISIC_0029226', 'ISIC_0024859', 'ISIC_0027799', 'ISIC_0027695', 'ISIC_0029440', 'ISIC_0025614', 'ISIC_0026727', 'ISIC_0028934', 'ISIC_0026945', 'ISIC_0031004', 'ISIC_0024393', 'ISIC_0024960', 'ISIC_0025404', 'ISIC_0025854', 'ISIC_0032183', 'ISIC_0024321', 'ISIC_0031240', 'ISIC_0024308', 'ISIC_0030037', 'ISIC_0025549', 'ISIC_0029449', 'ISIC_0026906', 'ISIC_0032272', 'ISIC_0032320', 'ISIC_0026200', 'ISIC_0028221', 'ISIC_0026252', 'ISIC_0028427', 'ISIC_0025236', 'ISIC_0026224', 'ISIC_0025714', 'ISIC_0032239', 'ISIC_0026261', 'ISIC_0024919', 'ISIC_0030781', 'ISIC_0026859', 'ISIC_0028683', 'ISIC_0027214', 'ISIC_0025997', 'ISIC_0025844', 'ISIC_0028422', 'ISIC_0030450', 'ISIC_0028612', 'ISIC_0031969', 'ISIC_0026109', 'ISIC_0029795', 'ISIC_0031383', 'ISIC_0029721', 'ISIC_0028383', 'ISIC_0027927', 'ISIC_0024362', 'ISIC_0025377', 'ISIC_0030614', 'ISIC_0029992', 'ISIC_0031116', 'ISIC_0031535', 'ISIC_0028902', 'ISIC_0026244', 'ISIC_0024307', 'ISIC_0027393', 'ISIC_0030513', 'ISIC_0030562', 'ISIC_0027119', 'ISIC_0027542', 'ISIC_0032198', 'ISIC_0026678', 'ISIC_0026527', 'ISIC_0025183', 'ISIC_0028731', 'ISIC_0030643', 'ISIC_0027353', 'ISIC_0026701', 'ISIC_0031162', 'ISIC_0030916', 'ISIC_0028301', 'ISIC_0028616', 'ISIC_0027225', 'ISIC_0032413', 'ISIC_0026828', 'ISIC_0030154', 'ISIC_0027589', 'ISIC_0024611', 'ISIC_0029125', 'ISIC_0032180', 'ISIC_0024794', 'ISIC_0032083', 'ISIC_0024660', 'ISIC_0028772', 'ISIC_0028284', 'ISIC_0029906', 'ISIC_0026708', 'ISIC_0027304', 'ISIC_0029168', 'ISIC_0027257', 'ISIC_0024820', 'ISIC_0025649', 'ISIC_0028603', 'ISIC_0025701', 'ISIC_0025685', 'ISIC_0031275', 'ISIC_0032120', 'ISIC_0025736', 'ISIC_0026537', 'ISIC_0031343', 'ISIC_0031964', 'ISIC_0030989', 'ISIC_0030131', 'ISIC_0027962', 'ISIC_0026965', 'ISIC_0030409', 'ISIC_0026734', 'ISIC_0025167', 'ISIC_0029307', 'ISIC_0027325', 'ISIC_0030196', 'ISIC_0026983', 'ISIC_0029423', 'ISIC_0027417', 'ISIC_0028514', 'ISIC_0030385', 'ISIC_0030166', 'ISIC_0031296', 'ISIC_0024456', 'ISIC_0025137', 'ISIC_0025890', 'ISIC_0025648', 'ISIC_0024488', 'ISIC_0032049', 'ISIC_0027217', 'ISIC_0027048', 'ISIC_0025272', 'ISIC_0028193', 'ISIC_0027895', 'ISIC_0024685', 'ISIC_0024306', 'ISIC_0027148', 'ISIC_0027534', 'ISIC_0027232', 'ISIC_0027259', 'ISIC_0027409', 'ISIC_0029377', 'ISIC_0031775', 'ISIC_0031120', 'ISIC_0025626', 'ISIC_0026683', 'ISIC_0029009', 'ISIC_0029267', 'ISIC_0030613', 'ISIC_0025698', 'ISIC_0026896', 'ISIC_0029864', 'ISIC_0031141', 'ISIC_0026505', 'ISIC_0025448', 'ISIC_0028071', 'ISIC_0029246', 'ISIC_0031230', 'ISIC_0027016', 'ISIC_0026300', 'ISIC_0031032', 'ISIC_0030554', 'ISIC_0027378', 'ISIC_0031679', 'ISIC_0031373', 'ISIC_0031854', 'ISIC_0025135', 'ISIC_0026119', 'ISIC_0028674', 'ISIC_0029714', 'ISIC_0030073', 'ISIC_0029517', 'ISIC_0025290', 'ISIC_0027474', 'ISIC_0024920', 'ISIC_0024469', 'ISIC_0028345', 'ISIC_0024720', 'ISIC_0028741', 'ISIC_0028911', 'ISIC_0028853', 'ISIC_0025917', 'ISIC_0027740', 'ISIC_0027981', 'ISIC_0032499', 'ISIC_0027570', 'ISIC_0025951', 'ISIC_0031635', 'ISIC_0030042', 'ISIC_0030764', 'ISIC_0025875', 'ISIC_0031260', 'ISIC_0025060', 'ISIC_0030897', 'ISIC_0030837', 'ISIC_0030068', 'ISIC_0026972', 'ISIC_0030947', 'ISIC_0028192', 'ISIC_0029364', 'ISIC_0025241', 'ISIC_0024621', 'ISIC_0026699', 'ISIC_0028927', 'ISIC_0028241', 'ISIC_0026747', 'ISIC_0024858', 'ISIC_0029006', 'ISIC_0025561', 'ISIC_0024588', 'ISIC_0025658', 'ISIC_0029806', 'ISIC_0030863', 'ISIC_0029324', 'ISIC_0028277', 'ISIC_0031864', 'ISIC_0029106', 'ISIC_0025817', 'ISIC_0031423', 'ISIC_0025361', 'ISIC_0029050', 'ISIC_0031816', 'ISIC_0029722', 'ISIC_0027682', 'ISIC_0024671', 'ISIC_0030975', 'ISIC_0030101', 'ISIC_0024731', 'ISIC_0031763', 'ISIC_0030295', 'ISIC_0030342', 'ISIC_0024427', 'ISIC_0029542', 'ISIC_0027247', 'ISIC_0029485', 'ISIC_0026946', 'ISIC_0031801', 'ISIC_0026966', 'ISIC_0025884', 'ISIC_0032479', 'ISIC_0031471', 'ISIC_0031030', 'ISIC_0031525', 'ISIC_0028667', 'ISIC_0027191', 'ISIC_0027032', 'ISIC_0026191', 'ISIC_0029595', 'ISIC_0024990', 'ISIC_0030867', 'ISIC_0030928', 'ISIC_0026536', 'ISIC_0031954', 'ISIC_0031764', 'ISIC_0029419', 'ISIC_0024849', 'ISIC_0026065', 'ISIC_0025754', 'ISIC_0028595', 'ISIC_0026413', 'ISIC_0028157', 'ISIC_0026597', 'ISIC_0024311', 'ISIC_0026259', 'ISIC_0026838', 'ISIC_0029074', 'ISIC_0029016', 'ISIC_0030927', 'ISIC_0031348', 'ISIC_0025717', 'ISIC_0029944', 'ISIC_0031128', 'ISIC_0029968', 'ISIC_0024826', 'ISIC_0028207', 'ISIC_0029084', 'ISIC_0030529', 'ISIC_0028322', 'ISIC_0030984', 'ISIC_0029874', 'ISIC_0028250', 'ISIC_0029378', 'ISIC_0025200', 'ISIC_0026695', 'ISIC_0027439', 'ISIC_0029225', 'ISIC_0026904', 'ISIC_0026461', 'ISIC_0026184', 'ISIC_0031870', 'ISIC_0025281', 'ISIC_0024455', 'ISIC_0024874', 'ISIC_0028501', 'ISIC_0031782', 'ISIC_0026975', 'ISIC_0027720', 'ISIC_0026564', 'ISIC_0029684', 'ISIC_0025343', 'ISIC_0024780', 'ISIC_0032276', 'ISIC_0029816', 'ISIC_0028896', 'ISIC_0031112', 'ISIC_0026412', 'ISIC_0026299', 'ISIC_0031391', 'ISIC_0027500', 'ISIC_0026762', 'ISIC_0025332', 'ISIC_0024414', 'ISIC_0028976', 'ISIC_0027228', 'ISIC_0025560', 'ISIC_0027885', 'ISIC_0028248', 'ISIC_0028997', 'ISIC_0030855', 'ISIC_0026469', 'ISIC_0027785', 'ISIC_0024342', 'ISIC_0028081', 'ISIC_0024950', 'ISIC_0028991', 'ISIC_0030495', 'ISIC_0026999', 'ISIC_0027496', 'ISIC_0029762', 'ISIC_0031787', 'ISIC_0026002', 'ISIC_0025632', 'ISIC_0027434', 'ISIC_0028850', 'ISIC_0024625', 'ISIC_0026550', 'ISIC_0031244', 'ISIC_0029103', 'ISIC_0027476', 'ISIC_0031467', 'ISIC_0032196', 'ISIC_0026143', 'ISIC_0024939', 'ISIC_0024583', 'ISIC_0031891', 'ISIC_0027205', 'ISIC_0028729', 'ISIC_0029483', 'ISIC_0024601', 'ISIC_0027696', 'ISIC_0025059', 'ISIC_0027660', 'ISIC_0029024', 'ISIC_0026165', 'ISIC_0024589', 'ISIC_0031655', 'ISIC_0032106', 'ISIC_0030368', 'ISIC_0026779', 'ISIC_0029071', 'ISIC_0027349', 'ISIC_0028313', 'ISIC_0029383', 'ISIC_0031793', 'ISIC_0028324', 'ISIC_0027366', 'ISIC_0025629', 'ISIC_0024755', 'ISIC_0024405', 'ISIC_0025591', 'ISIC_0029532', 'ISIC_0029723', 'ISIC_0027376', 'ISIC_0024500', 'ISIC_0029621', 'ISIC_0029503', 'ISIC_0029458', 'ISIC_0032121', 'ISIC_0029090', 'ISIC_0025071', 'ISIC_0029866', 'ISIC_0029921', 'ISIC_0024388', 'ISIC_0032469', 'ISIC_0030087', 'ISIC_0026638', 'ISIC_0027833', 'ISIC_0026499', 'ISIC_0028249', 'ISIC_0029858', 'ISIC_0029925', 'ISIC_0025773', 'ISIC_0032137', 'ISIC_0031082', 'ISIC_0031492', 'ISIC_0027035', 'ISIC_0028875', 'ISIC_0027132', 'ISIC_0025998', 'ISIC_0024719', 'ISIC_0026484', 'ISIC_0031939', 'ISIC_0027173', 'ISIC_0027943', 'ISIC_0028778', 'ISIC_0029156', 'ISIC_0024648', 'ISIC_0029399', 'ISIC_0030294', 'ISIC_0031861', 'ISIC_0030701', 'ISIC_0028839', 'ISIC_0028907', 'ISIC_0028245', 'ISIC_0026748', 'ISIC_0029663', 'ISIC_0027518', 'ISIC_0031747', 'ISIC_0025258', 'ISIC_0032117', 'ISIC_0026648', 'ISIC_0025107', 'ISIC_0027686', 'ISIC_0030163', 'ISIC_0028954', 'ISIC_0031723', 'ISIC_0030999', 'ISIC_0027592', 'ISIC_0025408', 'ISIC_0026312', 'ISIC_0030022', 'ISIC_0026821', 'ISIC_0027081', 'ISIC_0031884', 'ISIC_0024775', 'ISIC_0028492', 'ISIC_0028409', 'ISIC_0027460', 'ISIC_0030799', 'ISIC_0031928', 'ISIC_0030286', 'ISIC_0031634', 'ISIC_0031664', 'ISIC_0028796', 'ISIC_0030215', 'ISIC_0026860', 'ISIC_0028340', 'ISIC_0031669', 'ISIC_0026507', 'ISIC_0030861', 'ISIC_0029073', 'ISIC_0024659', 'ISIC_0025949', 'ISIC_0029757', 'ISIC_0029521', 'ISIC_0024735', 'ISIC_0026486', 'ISIC_0026025', 'ISIC_0027092', 'ISIC_0032053', 'ISIC_0030327', 'ISIC_0025307', 'ISIC_0025369', 'ISIC_0024542', 'ISIC_0030256', 'ISIC_0029767', 'ISIC_0030379', 'ISIC_0029414', 'ISIC_0032216', 'ISIC_0030213', 'ISIC_0028782', 'ISIC_0025733', 'ISIC_0026357', 'ISIC_0025827', 'ISIC_0031729', 'ISIC_0027185', 'ISIC_0026686', 'ISIC_0026155', 'ISIC_0032093', 'ISIC_0024737', 'ISIC_0025923', 'ISIC_0032449', 'ISIC_0031665', 'ISIC_0025058', 'ISIC_0024616', 'ISIC_0031135', 'ISIC_0025011', 'ISIC_0028407', 'ISIC_0027193', 'ISIC_0025935', 'ISIC_0029605', 'ISIC_0025174', 'ISIC_0025348', 'ISIC_0024956', 'ISIC_0027274', 'ISIC_0031767', 'ISIC_0029467', 'ISIC_0031110', 'ISIC_0026257', 'ISIC_0030103', 'ISIC_0031370', 'ISIC_0025067', 'ISIC_0029649', 'ISIC_0028661', 'ISIC_0031990', 'ISIC_0027245', 'ISIC_0031914', 'ISIC_0031382', 'ISIC_0027272', 'ISIC_0032252', 'ISIC_0031739', 'ISIC_0024532', 'ISIC_0026162', 'ISIC_0027028', 'ISIC_0026344', 'ISIC_0028855', 'ISIC_0031227', 'ISIC_0026380', 'ISIC_0029497', 'ISIC_0031855', 'ISIC_0029398', 'ISIC_0027380', 'ISIC_0028986', 'ISIC_0028187', 'ISIC_0024398', 'ISIC_0032038', 'ISIC_0032171', 'ISIC_0030250', 'ISIC_0027655', 'ISIC_0024895', 'ISIC_0030330', 'ISIC_0029852', 'ISIC_0027372', 'ISIC_0026750', 'ISIC_0030869', 'ISIC_0030395', 'ISIC_0025852', 'ISIC_0032403', 'ISIC_0029949', 'ISIC_0025190', 'ISIC_0030222', 'ISIC_0031553', 'ISIC_0028942', 'ISIC_0028748', 'ISIC_0025920', 'ISIC_0031235', 'ISIC_0028391', 'ISIC_0029768', 'ISIC_0029261', 'ISIC_0026228', 'ISIC_0028036', 'ISIC_0031878', 'ISIC_0029047', 'ISIC_0029086', 'ISIC_0027182', 'ISIC_0027543', 'ISIC_0030987', 'ISIC_0030359', 'ISIC_0024460', 'ISIC_0026535', 'ISIC_0024399', 'ISIC_0026602', 'ISIC_0029338', 'ISIC_0029205', 'ISIC_0025608', 'ISIC_0029122', 'ISIC_0026338', 'ISIC_0032298', 'ISIC_0029732', 'ISIC_0024603', 'ISIC_0026387', 'ISIC_0027641', 'ISIC_0025429', 'ISIC_0031687', 'ISIC_0027134', 'ISIC_0026635', 'ISIC_0026771', 'ISIC_0027647', 'ISIC_0031810', 'ISIC_0028895', 'ISIC_0029626', 'ISIC_0032416', 'ISIC_0029175', 'ISIC_0025480', 'ISIC_0029622', 'ISIC_0024536', 'ISIC_0030763', 'ISIC_0029587', 'ISIC_0031846', 'ISIC_0026685', 'ISIC_0025896', 'ISIC_0029478', 'ISIC_0028204', 'ISIC_0026724', 'ISIC_0032386', 'ISIC_0026392', 'ISIC_0028398', 'ISIC_0032275', 'ISIC_0030823', 'ISIC_0029941', 'ISIC_0025503', 'ISIC_0029691', 'ISIC_0028394', 'ISIC_0027687', 'ISIC_0031551', 'ISIC_0025728', 'ISIC_0024508', 'ISIC_0029882', 'ISIC_0030924', 'ISIC_0026066', 'ISIC_0024769', 'ISIC_0027955', 'ISIC_0031862', 'ISIC_0029611', 'ISIC_0027289', 'ISIC_0024645', 'ISIC_0030178', 'ISIC_0028742', 'ISIC_0029058', 'ISIC_0026918', 'ISIC_0031608', 'ISIC_0025913', 'ISIC_0026642', 'ISIC_0026331', 'ISIC_0027362', 'ISIC_0030475', 'ISIC_0024689', 'ISIC_0032464', 'ISIC_0028046', 'ISIC_0028382', 'ISIC_0025333', 'ISIC_0028691', 'ISIC_0026082', 'ISIC_0029379', 'ISIC_0032483', 'ISIC_0027508', 'ISIC_0032032', 'ISIC_0030624', 'ISIC_0024953', 'ISIC_0025023', 'ISIC_0029446', 'ISIC_0029380', 'ISIC_0029593', 'ISIC_0030703', 'ISIC_0030467', 'ISIC_0025462', 'ISIC_0028432', 'ISIC_0028491', 'ISIC_0024320', 'ISIC_0032503', 'ISIC_0025211', 'ISIC_0029948', 'ISIC_0028824', 'ISIC_0028541', 'ISIC_0028521', 'ISIC_0025762', 'ISIC_0029433', 'ISIC_0028470', 'ISIC_0025586', 'ISIC_0025114', 'ISIC_0025721', 'ISIC_0029042', 'ISIC_0026418', 'ISIC_0030386', 'ISIC_0032401', 'ISIC_0030252', 'ISIC_0024528', 'ISIC_0026102', 'ISIC_0024699', 'ISIC_0029240', 'ISIC_0025204', 'ISIC_0028000', 'ISIC_0027934', 'ISIC_0030713', 'ISIC_0028634', 'ISIC_0028506', 'ISIC_0028256', 'ISIC_0025858', 'ISIC_0024844', 'ISIC_0027824', 'ISIC_0031262', 'ISIC_0024551', 'ISIC_0027611', 'ISIC_0027993', 'ISIC_0027599', 'ISIC_0024613', 'ISIC_0031574', 'ISIC_0032473', 'ISIC_0031834', 'ISIC_0025624', 'ISIC_0027161', 'ISIC_0026667', 'ISIC_0028070', 'ISIC_0030309', 'ISIC_0030895', 'ISIC_0031336', 'ISIC_0032010', 'ISIC_0027391', 'ISIC_0025770', 'ISIC_0032224', 'ISIC_0031264', 'ISIC_0026639', 'ISIC_0031979', 'ISIC_0031680', 'ISIC_0026917', 'ISIC_0025207', 'ISIC_0029738', 'ISIC_0031627', 'ISIC_0027804', 'ISIC_0025395', 'ISIC_0030304', 'ISIC_0030982', 'ISIC_0025445', 'ISIC_0024509', 'ISIC_0031419', 'ISIC_0031949', 'ISIC_0028996', 'ISIC_0029586', 'ISIC_0027059', 'ISIC_0028405', 'ISIC_0031840', 'ISIC_0032041', 'ISIC_0028740', 'ISIC_0024629', 'ISIC_0025189', 'ISIC_0032160', 'ISIC_0028788', 'ISIC_0029625', 'ISIC_0030169', 'ISIC_0025845', 'ISIC_0031444', 'ISIC_0032452', 'ISIC_0030779', 'ISIC_0029681', 'ISIC_0028485', 'ISIC_0027656', 'ISIC_0027014', 'ISIC_0027459', 'ISIC_0027913', 'ISIC_0028374', 'ISIC_0024785', 'ISIC_0024614', 'ISIC_0027705', 'ISIC_0028134', 'ISIC_0024783', 'ISIC_0028259', 'ISIC_0026187', 'ISIC_0025962', 'ISIC_0024347', 'ISIC_0029631', 'ISIC_0029754', 'ISIC_0028176', 'ISIC_0031736', 'ISIC_0028806', 'ISIC_0028416', 'ISIC_0024607', 'ISIC_0025382', 'ISIC_0029692', 'ISIC_0028717', 'ISIC_0024499', 'ISIC_0028181', 'ISIC_0028203', 'ISIC_0025853', 'ISIC_0025077', 'ISIC_0032167', 'ISIC_0030084', 'ISIC_0029158', 'ISIC_0025306', 'ISIC_0024903', 'ISIC_0031514', 'ISIC_0024413', 'ISIC_0024724', 'ISIC_0031058', 'ISIC_0026428', 'ISIC_0029114', 'ISIC_0030577', 'ISIC_0026356', 'ISIC_0027555', 'ISIC_0031538', 'ISIC_0028886', 'ISIC_0025420', 'ISIC_0026204', 'ISIC_0030288', 'ISIC_0028753', 'ISIC_0025495', 'ISIC_0032351', 'ISIC_0027521', 'ISIC_0025423', 'ISIC_0029144', 'ISIC_0024442', 'ISIC_0027619', 'ISIC_0027746', 'ISIC_0030438', 'ISIC_0031155', 'ISIC_0030939', 'ISIC_0024847', 'ISIC_0030212', 'ISIC_0026612', 'ISIC_0031129', 'ISIC_0029451', 'ISIC_0029990', 'ISIC_0029648', 'ISIC_0030671', 'ISIC_0026662', 'ISIC_0026088', 'ISIC_0030667', 'ISIC_0024742', 'ISIC_0032127', 'ISIC_0029136', 'ISIC_0024622', 'ISIC_0024905', 'ISIC_0025203', 'ISIC_0030686', 'ISIC_0026627', 'ISIC_0029375', 'ISIC_0029487', 'ISIC_0025185', 'ISIC_0029935', 'ISIC_0028781', 'ISIC_0030506', 'ISIC_0028093', 'ISIC_0032122', 'ISIC_0029186', 'ISIC_0026509', 'ISIC_0029131', 'ISIC_0031210', 'ISIC_0027618', 'ISIC_0024677', 'ISIC_0029304', 'ISIC_0032286', 'ISIC_0024591', 'ISIC_0030392', 'ISIC_0029228', 'ISIC_0025821', 'ISIC_0029237', 'ISIC_0028274', 'ISIC_0027449', 'ISIC_0025886', 'ISIC_0028269', 'ISIC_0031075', 'ISIC_0030631', 'ISIC_0026160', 'ISIC_0029960', 'ISIC_0024506', 'ISIC_0030716', 'ISIC_0024764', 'ISIC_0027330', 'ISIC_0027243', 'ISIC_0031067', 'ISIC_0026047', 'ISIC_0031549', 'ISIC_0027743', 'ISIC_0024558', 'ISIC_0026985', 'ISIC_0028096', 'ISIC_0031214', 'ISIC_0025111', 'ISIC_0030482', 'ISIC_0024670', 'ISIC_0025829', 'ISIC_0031902', 'ISIC_0024633', 'ISIC_0024766', 'ISIC_0031842', 'ISIC_0029853', 'ISIC_0027015', 'ISIC_0030834', 'ISIC_0026463', 'ISIC_0031856', 'ISIC_0027923', 'ISIC_0029283', 'ISIC_0026721', 'ISIC_0026405', 'ISIC_0024889', 'ISIC_0028672', 'ISIC_0026078', 'ISIC_0030071', 'ISIC_0025502', 'ISIC_0025163', 'ISIC_0026997', 'ISIC_0025280', 'ISIC_0026164', 'ISIC_0030471', 'ISIC_0030132', 'ISIC_0029321', 'ISIC_0029709', 'ISIC_0032105', 'ISIC_0030419', 'ISIC_0030474', 'ISIC_0031280', 'ISIC_0026508', 'ISIC_0028244', 'ISIC_0032259', 'ISIC_0025666', 'ISIC_0027794', 'ISIC_0024438', 'ISIC_0026077', 'ISIC_0031274', 'ISIC_0025796', 'ISIC_0030745', 'ISIC_0031300', 'ISIC_0029769', 'ISIC_0026434', 'ISIC_0031758', 'ISIC_0031780', 'ISIC_0025110', 'ISIC_0025895', 'ISIC_0029766', 'ISIC_0027694', 'ISIC_0029616', 'ISIC_0030994', 'ISIC_0031028', 'ISIC_0026899', 'ISIC_0027692', 'ISIC_0029494', 'ISIC_0030201', 'ISIC_0029421', 'ISIC_0025496', 'ISIC_0030149', 'ISIC_0028125', 'ISIC_0028892', 'ISIC_0028725', 'ISIC_0025216', 'ISIC_0027050', 'ISIC_0031843', 'ISIC_0028469', 'ISIC_0031252', 'ISIC_0030750', 'ISIC_0031516', 'ISIC_0025570', 'ISIC_0029934', 'ISIC_0025270', 'ISIC_0029506', 'ISIC_0030788', 'ISIC_0028606', 'ISIC_0026309', 'ISIC_0026680', 'ISIC_0028708', 'ISIC_0027524', 'ISIC_0031003', 'ISIC_0029262', 'ISIC_0027399', 'ISIC_0028794', 'ISIC_0026278', 'ISIC_0025291', 'ISIC_0027511', 'ISIC_0029690', 'ISIC_0029981', 'ISIC_0026198', 'ISIC_0030267', 'ISIC_0028811', 'ISIC_0027001', 'ISIC_0025015', 'ISIC_0027342', 'ISIC_0026919', 'ISIC_0025802', 'ISIC_0030864', 'ISIC_0032295', 'ISIC_0027594', 'ISIC_0030012', 'ISIC_0027761', 'ISIC_0029969', 'ISIC_0029361', 'ISIC_0027450', 'ISIC_0024810', 'ISIC_0024339', 'ISIC_0025552', 'ISIC_0024627', 'ISIC_0024513', 'ISIC_0029284', 'ISIC_0028867', 'ISIC_0030381', 'ISIC_0027586', 'ISIC_0031607', 'ISIC_0026183', 'ISIC_0026616', 'ISIC_0026459', 'ISIC_0031124', 'ISIC_0029234', 'ISIC_0031683', 'ISIC_0028002', 'ISIC_0025282', 'ISIC_0029275', 'ISIC_0026287', 'ISIC_0024530', 'ISIC_0026483', 'ISIC_0027748', 'ISIC_0027481', 'ISIC_0027880', 'ISIC_0027906', 'ISIC_0029718', 'ISIC_0025857', 'ISIC_0027489', 'ISIC_0024878', 'ISIC_0029076', 'ISIC_0030017', 'ISIC_0027484', 'ISIC_0025202', 'ISIC_0030216', 'ISIC_0028893', 'ISIC_0024954', 'ISIC_0030808', 'ISIC_0030648', 'ISIC_0030489', 'ISIC_0026944', 'ISIC_0024326', 'ISIC_0030879', 'ISIC_0024600', 'ISIC_0025283', 'ISIC_0030345', 'ISIC_0027676', 'ISIC_0026063', 'ISIC_0028321', 'ISIC_0024316', 'ISIC_0030601', 'ISIC_0028434', 'ISIC_0027386', 'ISIC_0032085', 'ISIC_0028703', 'ISIC_0025435', 'ISIC_0024966', 'ISIC_0031096', 'ISIC_0031873', 'ISIC_0029629', 'ISIC_0027441', 'ISIC_0030254', 'ISIC_0028549', 'ISIC_0031251', 'ISIC_0029957', 'ISIC_0027699', 'ISIC_0028273', 'ISIC_0032438', 'ISIC_0030153', 'ISIC_0030551', 'ISIC_0029765', 'ISIC_0027383', 'ISIC_0029552', 'ISIC_0027292', 'ISIC_0025010', 'ISIC_0025468', 'ISIC_0028657', 'ISIC_0028569', 'ISIC_0031788', 'ISIC_0026354', 'ISIC_0031397', 'ISIC_0025848', 'ISIC_0031342', 'ISIC_0030325', 'ISIC_0028268', 'ISIC_0031548', 'ISIC_0028171', 'ISIC_0031628', 'ISIC_0031859', 'ISIC_0028333', 'ISIC_0027078', 'ISIC_0029535', 'ISIC_0032000', 'ISIC_0026410', 'ISIC_0024485', 'ISIC_0029078', 'ISIC_0027841', 'ISIC_0027443', 'ISIC_0025176', 'ISIC_0031983', 'ISIC_0026534', 'ISIC_0027396', 'ISIC_0028040', 'ISIC_0026450', 'ISIC_0025479', 'ISIC_0027980', 'ISIC_0024451', 'ISIC_0028638', 'ISIC_0029989', 'ISIC_0027430', 'ISIC_0031425', 'ISIC_0029154', 'ISIC_0029734', 'ISIC_0030217', 'ISIC_0027039', 'ISIC_0031109', 'ISIC_0026938', 'ISIC_0028119', 'ISIC_0024390', 'ISIC_0031307', 'ISIC_0030992', 'ISIC_0030638', 'ISIC_0025686', 'ISIC_0026598', 'ISIC_0030983', 'ISIC_0026482', 'ISIC_0026035', 'ISIC_0026379', 'ISIC_0024912', 'ISIC_0032431', 'ISIC_0029173', 'ISIC_0030647', 'ISIC_0026146', 'ISIC_0025014', 'ISIC_0031772', 'ISIC_0029964', 'ISIC_0029151', 'ISIC_0029842', 'ISIC_0029807', 'ISIC_0024691', 'ISIC_0029444', 'ISIC_0030415', 'ISIC_0029178', 'ISIC_0031020', 'ISIC_0025572', 'ISIC_0025535', 'ISIC_0031641', 'ISIC_0024417', 'ISIC_0025037', 'ISIC_0024541', 'ISIC_0025371', 'ISIC_0031255', 'ISIC_0027823', 'ISIC_0030516', 'ISIC_0031696', 'ISIC_0031205', 'ISIC_0025646', 'ISIC_0027835', 'ISIC_0032488', 'ISIC_0028138', 'ISIC_0027977', 'ISIC_0030634', 'ISIC_0029165', 'ISIC_0029787', 'ISIC_0025538', 'ISIC_0026193', 'ISIC_0027809', 'ISIC_0030200', 'ISIC_0028312', 'ISIC_0025233', 'ISIC_0029607', 'ISIC_0030696', 'ISIC_0027095', 'ISIC_0024353', 'ISIC_0030727', 'ISIC_0030719', 'ISIC_0025026', 'ISIC_0026472', 'ISIC_0030030', 'ISIC_0028153', 'ISIC_0025933', 'ISIC_0027965', 'ISIC_0032493', 'ISIC_0026197', 'ISIC_0032012', 'ISIC_0030751', 'ISIC_0029442', 'ISIC_0026004', 'ISIC_0027972', 'ISIC_0025694', 'ISIC_0024391', 'ISIC_0028801', 'ISIC_0029923', 'ISIC_0032208', 'ISIC_0024750', 'ISIC_0031480', 'ISIC_0024557', 'ISIC_0031487', 'ISIC_0025232', 'ISIC_0025012', 'ISIC_0026307', 'ISIC_0025342', 'ISIC_0025772', 'ISIC_0025401', 'ISIC_0026579', 'ISIC_0031568', 'ISIC_0029551', 'ISIC_0028713', 'ISIC_0029620', 'ISIC_0030917', 'ISIC_0024483', 'ISIC_0029477', 'ISIC_0030637', 'ISIC_0027845', 'ISIC_0025999', 'ISIC_0032297', 'ISIC_0027313', 'ISIC_0026926', 'ISIC_0024978', 'ISIC_0032177', 'ISIC_0027683', 'ISIC_0027992', 'ISIC_0025725', 'ISIC_0031830', 'ISIC_0025889', 'ISIC_0028471', 'ISIC_0031098', 'ISIC_0028251', 'ISIC_0026462', 'ISIC_0030887', 'ISIC_0028369', 'ISIC_0028940', 'ISIC_0027075', 'ISIC_0032390', 'ISIC_0026879', 'ISIC_0028799', 'ISIC_0028601', 'ISIC_0031246', 'ISIC_0031899', 'ISIC_0026542', 'ISIC_0025490', 'ISIC_0031530', 'ISIC_0030320', 'ISIC_0029063', 'ISIC_0025459', 'ISIC_0031765', 'ISIC_0030098', 'ISIC_0024325', 'ISIC_0028458', 'ISIC_0031283', 'ISIC_0025715', 'ISIC_0029987', 'ISIC_0029256', 'ISIC_0030331', 'ISIC_0031415', 'ISIC_0024527', 'ISIC_0025464', 'ISIC_0024651', 'ISIC_0029124', 'ISIC_0031265', 'ISIC_0029011', 'ISIC_0030500', 'ISIC_0030009', 'ISIC_0031936', 'ISIC_0030563', 'ISIC_0025344', 'ISIC_0026951', 'ISIC_0031047', 'ISIC_0027701', 'ISIC_0029244', 'ISIC_0027448', 'ISIC_0025595', 'ISIC_0027424', 'ISIC_0026041', 'ISIC_0030040', 'ISIC_0025660', 'ISIC_0030576', 'ISIC_0029134', 'ISIC_0027532', 'ISIC_0027070', 'ISIC_0026732', 'ISIC_0032147', 'ISIC_0030290', 'ISIC_0030234', 'ISIC_0029285', 'ISIC_0026495', 'ISIC_0031885', 'ISIC_0031312', 'ISIC_0032323', 'ISIC_0025159', 'ISIC_0026925', 'ISIC_0025574', 'ISIC_0026304', 'ISIC_0027635', 'ISIC_0026464', 'ISIC_0029280', 'ISIC_0024521', 'ISIC_0028883', 'ISIC_0032472', 'ISIC_0025460', 'ISIC_0026939', 'ISIC_0028564', 'ISIC_0027340', 'ISIC_0026937', 'ISIC_0025921', 'ISIC_0030811', 'ISIC_0030062', 'ISIC_0029942', 'ISIC_0028604', 'ISIC_0028433', 'ISIC_0030680', 'ISIC_0032229', 'ISIC_0032406', 'ISIC_0030439', 'ISIC_0027787', 'ISIC_0026793', 'ISIC_0031341', 'ISIC_0025841', 'ISIC_0025797', 'ISIC_0028320', 'ISIC_0025590', 'ISIC_0028949', 'ISIC_0027891', 'ISIC_0030762', 'ISIC_0029896', 'ISIC_0032369', 'ISIC_0026863', 'ISIC_0027726', 'ISIC_0031755', 'ISIC_0026703', 'ISIC_0025098', 'ISIC_0030052', 'ISIC_0026850', 'ISIC_0030685', 'ISIC_0032293', 'ISIC_0029116', 'ISIC_0025334', 'ISIC_0027329', 'ISIC_0026931', 'ISIC_0030433', 'ISIC_0025820', 'ISIC_0028199', 'ISIC_0030678', 'ISIC_0030343', 'ISIC_0025091', 'ISIC_0025679', 'ISIC_0026019', 'ISIC_0030055', 'ISIC_0029097', 'ISIC_0031328', 'ISIC_0026851', 'ISIC_0031182', 'ISIC_0027818', 'ISIC_0026894', 'ISIC_0031737', 'ISIC_0026238', 'ISIC_0029646', 'ISIC_0026617', 'ISIC_0027817', 'ISIC_0025315', 'ISIC_0027180', 'ISIC_0031533', 'ISIC_0024727', 'ISIC_0024751', 'ISIC_0025765', 'ISIC_0028162', 'ISIC_0030749', 'ISIC_0025864', 'ISIC_0026903', 'ISIC_0026033', 'ISIC_0032319', 'ISIC_0028663', 'ISIC_0029800', 'ISIC_0027381', 'ISIC_0026587', 'ISIC_0025688', 'ISIC_0031509', 'ISIC_0030948', 'ISIC_0027413', 'ISIC_0025405', 'ISIC_0028802', 'ISIC_0026294', 'ISIC_0025022', 'ISIC_0028018', 'ISIC_0029327', 'ISIC_0024819', 'ISIC_0028617', 'ISIC_0025764', 'ISIC_0028019', 'ISIC_0030029', 'ISIC_0025645', 'ISIC_0029712', 'ISIC_0030691', 'ISIC_0029796', 'ISIC_0026640', 'ISIC_0024533', 'ISIC_0024628', 'ISIC_0031768', 'ISIC_0025004', 'ISIC_0028522', 'ISIC_0024430', 'ISIC_0030097', 'ISIC_0030393', 'ISIC_0025880', 'ISIC_0028620', 'ISIC_0028144', 'ISIC_0032332', 'ISIC_0030558', 'ISIC_0026808', 'ISIC_0025705', 'ISIC_0027985', 'ISIC_0026609', 'ISIC_0030028', 'ISIC_0025441', 'ISIC_0026130', 'ISIC_0024487', 'ISIC_0030004', 'ISIC_0025788', 'ISIC_0026189', 'ISIC_0027551', 'ISIC_0027128', 'ISIC_0029887', 'ISIC_0027583', 'ISIC_0031316', 'ISIC_0031445', 'ISIC_0025273', 'ISIC_0031458', 'ISIC_0030633', 'ISIC_0029623', 'ISIC_0028112', 'ISIC_0025690', 'ISIC_0031962', 'ISIC_0032299', 'ISIC_0027581', 'ISIC_0026815', 'ISIC_0024638', 'ISIC_0030018', 'ISIC_0029005', 'ISIC_0028641', 'ISIC_0028733', 'ISIC_0025050', 'ISIC_0024840', 'ISIC_0031305', 'ISIC_0031414', 'ISIC_0029292', 'ISIC_0027914', 'ISIC_0030650', 'ISIC_0026394', 'ISIC_0032130', 'ISIC_0028676', 'ISIC_0029890', 'ISIC_0032393', 'ISIC_0026636', 'ISIC_0026521', 'ISIC_0024373', 'ISIC_0026801', 'ISIC_0030259', 'ISIC_0030715', 'ISIC_0031850', 'ISIC_0032033', 'ISIC_0031137', 'ISIC_0025995', 'ISIC_0030720', 'ISIC_0024681', 'ISIC_0026345', 'ISIC_0024444', 'ISIC_0029707', 'ISIC_0031027', 'ISIC_0030363', 'ISIC_0025602', 'ISIC_0024385', 'ISIC_0027096', 'ISIC_0031500', 'ISIC_0030949', 'ISIC_0028296', 'ISIC_0028240', 'ISIC_0030872', 'ISIC_0026325', 'ISIC_0029314', 'ISIC_0027286', 'ISIC_0026543', 'ISIC_0027465', 'ISIC_0025977', 'ISIC_0026880', 'ISIC_0029584', 'ISIC_0032440', 'ISIC_0031054', 'ISIC_0029817', 'ISIC_0031826', 'ISIC_0024341', 'ISIC_0027079', 'ISIC_0032448', 'ISIC_0024678', 'ISIC_0030530', 'ISIC_0029965', 'ISIC_0025475', 'ISIC_0028402', 'ISIC_0028838', 'ISIC_0024606', 'ISIC_0029245', 'ISIC_0031912', 'ISIC_0030946', 'ISIC_0031722', 'ISIC_0028028', 'ISIC_0028038', 'ISIC_0028421', 'ISIC_0029468', 'ISIC_0029445', 'ISIC_0031315', 'ISIC_0032432', 'ISIC_0029376', 'ISIC_0029952', 'ISIC_0030641', 'ISIC_0031224', 'ISIC_0025916', 'ISIC_0031248', 'ISIC_0030317', 'ISIC_0024667', 'ISIC_0026375', 'ISIC_0024631', 'ISIC_0031393', 'ISIC_0026161', 'ISIC_0025859', 'ISIC_0025497', 'ISIC_0029672', 'ISIC_0030515', 'ISIC_0029939', 'ISIC_0028006', 'ISIC_0030111', 'ISIC_0028626', 'ISIC_0024565', 'ISIC_0026005', 'ISIC_0025403', 'ISIC_0029461', 'ISIC_0028311', 'ISIC_0027336', 'ISIC_0028776', 'ISIC_0028575', 'ISIC_0029971', 'ISIC_0026001', 'ISIC_0032097', 'ISIC_0028089', 'ISIC_0032458', 'ISIC_0031562', 'ISIC_0025727', 'ISIC_0024467', 'ISIC_0026447', 'ISIC_0025006', 'ISIC_0026373', 'ISIC_0027280', 'ISIC_0030662', 'ISIC_0029643', 'ISIC_0030195', 'ISIC_0029429', 'ISIC_0030531', 'ISIC_0029326', 'ISIC_0025151', 'ISIC_0026485', 'ISIC_0026924', 'ISIC_0025801', 'ISIC_0030735', 'ISIC_0026837', 'ISIC_0031083', 'ISIC_0031478', 'ISIC_0031952', 'ISIC_0032172', 'ISIC_0029673', 'ISIC_0031052', 'ISIC_0028974', 'ISIC_0030424', 'ISIC_0031441', 'ISIC_0026568', 'ISIC_0031804', 'ISIC_0030860', 'ISIC_0030776', 'ISIC_0026264', 'ISIC_0025284', 'ISIC_0032480', 'ISIC_0025385', 'ISIC_0032357', 'ISIC_0030025', 'ISIC_0026050', 'ISIC_0027267', 'ISIC_0030997', 'ISIC_0029850', 'ISIC_0027322', 'ISIC_0027664', 'ISIC_0029295', 'ISIC_0028379', 'ISIC_0025294', 'ISIC_0028762', 'ISIC_0026289', 'ISIC_0026971', 'ISIC_0028948', 'ISIC_0030161', 'ISIC_0030218', 'ISIC_0026026', 'ISIC_0031877', 'ISIC_0025042', 'ISIC_0031187', 'ISIC_0029529', 'ISIC_0032394', 'ISIC_0030958', 'ISIC_0030848', 'ISIC_0027803', 'ISIC_0024852', 'ISIC_0031860', 'ISIC_0028039', 'ISIC_0028852', 'ISIC_0028064', 'ISIC_0032256', 'ISIC_0026342', 'ISIC_0032104', 'ISIC_0027252', 'ISIC_0028669', 'ISIC_0031010', 'ISIC_0024401', 'ISIC_0028835', 'ISIC_0030044', 'ISIC_0025357', 'ISIC_0026010', 'ISIC_0032131', 'ISIC_0029424', 'ISIC_0024567', 'ISIC_0027288', 'ISIC_0027196', 'ISIC_0032101', 'ISIC_0030412', 'ISIC_0028047', 'ISIC_0030298', 'ISIC_0029198', 'ISIC_0029253', 'ISIC_0025288', 'ISIC_0028396', 'ISIC_0031946', 'ISIC_0026271', 'ISIC_0031732', 'ISIC_0030048', 'ISIC_0029936', 'ISIC_0024754', 'ISIC_0027168', 'ISIC_0025498', 'ISIC_0029797', 'ISIC_0028257', 'ISIC_0025486', 'ISIC_0024759', 'ISIC_0029834', 'ISIC_0025070', 'ISIC_0027877', 'ISIC_0031626', 'ISIC_0030850', 'ISIC_0029954', 'ISIC_0027624', 'ISIC_0025673', 'ISIC_0029737', 'ISIC_0026669', 'ISIC_0029110', 'ISIC_0030628', 'ISIC_0026990', 'ISIC_0027395', 'ISIC_0027207', 'ISIC_0025643', 'ISIC_0027377', 'ISIC_0025215', 'ISIC_0026250', 'ISIC_0028366', 'ISIC_0029700', 'ISIC_0025279', 'ISIC_0030405', 'ISIC_0029229', 'ISIC_0027870', 'ISIC_0025212', 'ISIC_0026310', 'ISIC_0026767', 'ISIC_0027882', 'ISIC_0028536', 'ISIC_0025440', 'ISIC_0027104', 'ISIC_0027404', 'ISIC_0030651', 'ISIC_0027516', 'ISIC_0024350', 'ISIC_0031241', 'ISIC_0024526', 'ISIC_0029908', 'ISIC_0031968', 'ISIC_0029873', 'ISIC_0030389', 'ISIC_0029743', 'ISIC_0031760', 'ISIC_0024605', 'ISIC_0024389', 'ISIC_0029658', 'ISIC_0027995', 'ISIC_0031375', 'ISIC_0031751', 'ISIC_0026719', 'ISIC_0030590', 'ISIC_0026595', 'ISIC_0032346', 'ISIC_0025609', 'ISIC_0026353', 'ISIC_0029988', 'ISIC_0030676', 'ISIC_0029635', 'ISIC_0030548', 'ISIC_0028024', 'ISIC_0026758', 'ISIC_0030437', 'ISIC_0029037', 'ISIC_0025393', 'ISIC_0028011', 'ISIC_0028475', 'ISIC_0031790', 'ISIC_0031786', 'ISIC_0032491', 'ISIC_0031835', 'ISIC_0028629', 'ISIC_0031193', 'ISIC_0028351', 'ISIC_0026363', 'ISIC_0029832', 'ISIC_0026723', 'ISIC_0031868', 'ISIC_0032326', 'ISIC_0026776', 'ISIC_0032383', 'ISIC_0026013', 'ISIC_0031333', 'ISIC_0028078', 'ISIC_0031916', 'ISIC_0030934', 'ISIC_0028530', 'ISIC_0032289', 'ISIC_0027177', 'ISIC_0025055', 'ISIC_0026799', 'ISIC_0028959', 'ISIC_0031387', 'ISIC_0028754', 'ISIC_0028267', 'ISIC_0032353', 'ISIC_0030090', 'ISIC_0027728', 'ISIC_0027176', 'ISIC_0026116', 'ISIC_0029579', 'ISIC_0024812', 'ISIC_0027750', 'ISIC_0027773', 'ISIC_0026059', 'ISIC_0031072', 'ISIC_0028037', 'ISIC_0027894', 'ISIC_0030805', 'ISIC_0030780', 'ISIC_0030832', 'ISIC_0028169', 'ISIC_0025787', 'ISIC_0031183', 'ISIC_0030587', 'ISIC_0028844', 'ISIC_0029096', 'ISIC_0030162', 'ISIC_0028286', 'ISIC_0027975', 'ISIC_0030886', 'ISIC_0028738', 'ISIC_0024888', 'ISIC_0030969', 'ISIC_0031911', 'ISIC_0026882', 'ISIC_0024440', 'ISIC_0030699', 'ISIC_0031484', 'ISIC_0024610', 'ISIC_0025354', 'ISIC_0027464', 'ISIC_0025478', 'ISIC_0026134', 'ISIC_0027241', 'ISIC_0029065', 'ISIC_0027520', 'ISIC_0027926', 'ISIC_0030224', 'ISIC_0025220', 'ISIC_0024894', 'ISIC_0028049', 'ISIC_0032360', 'ISIC_0030136', 'ISIC_0030112', 'ISIC_0028783', 'ISIC_0031610', 'ISIC_0025706', 'ISIC_0028726', 'ISIC_0031267', 'ISIC_0029403', 'ISIC_0031566', 'ISIC_0031006', 'ISIC_0029727', 'ISIC_0026408', 'ISIC_0025839', 'ISIC_0029416', 'ISIC_0025483', 'ISIC_0027842', 'ISIC_0028630', 'ISIC_0029159', 'ISIC_0026605', 'ISIC_0030889', 'ISIC_0027866', 'ISIC_0029777', 'ISIC_0030045', 'ISIC_0030496', 'ISIC_0029164', 'ISIC_0031084', 'ISIC_0024423', 'ISIC_0026800', 'ISIC_0027733', 'ISIC_0030430', 'ISIC_0027968', 'ISIC_0028953', 'ISIC_0028832', 'ISIC_0026833', 'ISIC_0028590', 'ISIC_0030670', 'ISIC_0031161', 'ISIC_0027314', 'ISIC_0031433', 'ISIC_0025737', 'ISIC_0024486', 'ISIC_0028001', 'ISIC_0027716', 'ISIC_0031576', 'ISIC_0026856', 'ISIC_0029507', 'ISIC_0032495', 'ISIC_0029255', 'ISIC_0026725', 'ISIC_0030347', 'ISIC_0029400', 'ISIC_0030190', 'ISIC_0028300', 'ISIC_0030571', 'ISIC_0032418', 'ISIC_0027625', 'ISIC_0025760', 'ISIC_0032324', 'ISIC_0028172', 'ISIC_0025862', 'ISIC_0024419', 'ISIC_0031139', 'ISIC_0025741', 'ISIC_0028149', 'ISIC_0030431', 'ISIC_0029813', 'ISIC_0026757', 'ISIC_0027587', 'ISIC_0025426', 'ISIC_0028704', 'ISIC_0032506', 'ISIC_0030503', 'ISIC_0028533', 'ISIC_0029996', 'ISIC_0029916', 'ISIC_0024639', 'ISIC_0024569', 'ISIC_0028348', 'ISIC_0028919', 'ISIC_0025569', 'ISIC_0032261', 'ISIC_0024359', 'ISIC_0030051', 'ISIC_0031420', 'ISIC_0030656', 'ISIC_0028435', 'ISIC_0028526', 'ISIC_0029907', 'ISIC_0026390', 'ISIC_0028295', 'ISIC_0032142', 'ISIC_0028099', 'ISIC_0026982', 'ISIC_0032354', 'ISIC_0026785', 'ISIC_0025399', 'ISIC_0025229', 'ISIC_0028956', 'ISIC_0026288', 'ISIC_0026121', 'ISIC_0028073', 'ISIC_0026756', 'ISIC_0024728', 'ISIC_0026943', 'ISIC_0029077', 'ISIC_0028614', 'ISIC_0030739', 'ISIC_0025418', 'ISIC_0030611', 'ISIC_0027414', 'ISIC_0027778', 'ISIC_0027123', 'ISIC_0030619', 'ISIC_0030453', 'ISIC_0029677', 'ISIC_0027860', 'ISIC_0028845', 'ISIC_0026199', 'ISIC_0029601', 'ISIC_0025002', 'ISIC_0032477', 'ISIC_0028654', 'ISIC_0031869', 'ISIC_0025380', 'ISIC_0027088', 'ISIC_0027158', 'ISIC_0032350', 'ISIC_0024502', 'ISIC_0027199', 'ISIC_0027929', 'ISIC_0030753', 'ISIC_0027494', 'ISIC_0025124', 'ISIC_0027029', 'ISIC_0028053', 'ISIC_0026315', 'ISIC_0028700', 'ISIC_0026807', 'ISIC_0029066', 'ISIC_0027074', 'ISIC_0025025', 'ISIC_0028955', 'ISIC_0024873', 'ISIC_0029481', 'ISIC_0030952', 'ISIC_0029356', 'ISIC_0030600', 'ISIC_0029763', 'ISIC_0025263', 'ISIC_0029670', 'ISIC_0026646', 'ISIC_0025455', 'ISIC_0028129', 'ISIC_0031507', 'ISIC_0030157', 'ISIC_0026176', 'ISIC_0030497', 'ISIC_0028946', 'ISIC_0029447', 'ISIC_0026878', 'ISIC_0028292', 'ISIC_0031497', 'ISIC_0031673', 'ISIC_0028005', 'ISIC_0032118', 'ISIC_0031448', 'ISIC_0025912', 'ISIC_0028031', 'ISIC_0025191', 'ISIC_0027986', 'ISIC_0029069', 'ISIC_0024655', 'ISIC_0028334', 'ISIC_0027952', 'ISIC_0025625', 'ISIC_0031152', 'ISIC_0027054', 'ISIC_0030257', 'ISIC_0028574', 'ISIC_0028716', 'ISIC_0030075', 'ISIC_0032282', 'ISIC_0027547', 'ISIC_0029750', 'ISIC_0031347', 'ISIC_0030908', 'ISIC_0026684', 'ISIC_0030725', 'ISIC_0028061', 'ISIC_0031805', 'ISIC_0031688', 'ISIC_0029739', 'ISIC_0024797', 'ISIC_0025347', 'ISIC_0030807', 'ISIC_0027946', 'ISIC_0032485', 'ISIC_0028342', 'ISIC_0032119', 'ISIC_0030301', 'ISIC_0029804', 'ISIC_0027493', 'ISIC_0031731', 'ISIC_0024531', 'ISIC_0024368', 'ISIC_0024397', 'ISIC_0031327', 'ISIC_0029415', 'ISIC_0026285', 'ISIC_0029200', 'ISIC_0029224', 'ISIC_0029509', 'ISIC_0029799', 'ISIC_0031815', 'ISIC_0025356', 'ISIC_0031744', 'ISIC_0028178', 'ISIC_0028828', 'ISIC_0028437', 'ISIC_0029785', 'ISIC_0026736', 'ISIC_0028444', 'ISIC_0026772', 'ISIC_0027633', 'ISIC_0029120', 'ISIC_0026673', 'ISIC_0032161', 'ISIC_0025522', 'ISIC_0028068', 'ISIC_0030054', 'ISIC_0025139', 'ISIC_0027628', 'ISIC_0026180', 'ISIC_0026003', 'ISIC_0026932', 'ISIC_0031361', 'ISIC_0031195', 'ISIC_0027690', 'ISIC_0030985', 'ISIC_0027630', 'ISIC_0027222', 'ISIC_0029333', 'ISIC_0031658', 'ISIC_0026274', 'ISIC_0025828', 'ISIC_0030499', 'ISIC_0026578', 'ISIC_0031921', 'ISIC_0031472', 'ISIC_0030726', 'ISIC_0032301', 'ISIC_0026619', 'ISIC_0028452', 'ISIC_0031365', 'ISIC_0025349', 'ISIC_0027169', 'ISIC_0029155', 'ISIC_0025230', 'ISIC_0025048', 'ISIC_0031452', 'ISIC_0029511', 'ISIC_0029411', 'ISIC_0025888', 'ISIC_0025682', 'ISIC_0029105', 'ISIC_0028341', 'ISIC_0027899', 'ISIC_0025893', 'ISIC_0028440', 'ISIC_0024983', 'ISIC_0025745', 'ISIC_0028456', 'ISIC_0028950', 'ISIC_0031807', 'ISIC_0026813', 'ISIC_0024988', 'ISIC_0029310', 'ISIC_0027515', 'ISIC_0030205', 'ISIC_0029350', 'ISIC_0028315', 'ISIC_0030449', 'ISIC_0031456', 'ISIC_0024942', 'ISIC_0029395', 'ISIC_0026061', 'ISIC_0026840', 'ISIC_0029520', 'ISIC_0030738', 'ISIC_0025761', 'ISIC_0029236', 'ISIC_0030146', 'ISIC_0032262', 'ISIC_0026517', 'ISIC_0026426', 'ISIC_0031426', 'ISIC_0026110', 'ISIC_0026707', 'ISIC_0030831', 'ISIC_0029294', 'ISIC_0028910', 'ISIC_0028234', 'ISIC_0031416', 'ISIC_0026582', 'ISIC_0031689', 'ISIC_0029821', 'ISIC_0031906', 'ISIC_0029686', 'ISIC_0027782', 'ISIC_0026334', 'ISIC_0027632', 'ISIC_0027674', 'ISIC_0030865', 'ISIC_0025034', 'ISIC_0028152', 'ISIC_0031254', 'ISIC_0030905', 'ISIC_0026630', 'ISIC_0030109', 'ISIC_0031136', 'ISIC_0025092', 'ISIC_0028439', 'ISIC_0025360', 'ISIC_0028012', 'ISIC_0030108', 'ISIC_0028253', 'ISIC_0030278', 'ISIC_0025194', 'ISIC_0031446', 'ISIC_0028566', 'ISIC_0025604', 'ISIC_0024717', 'ISIC_0025669', 'ISIC_0032457', 'ISIC_0030618', 'ISIC_0024484', 'ISIC_0029774', 'ISIC_0027791', 'ISIC_0027368', 'ISIC_0028004', 'ISIC_0030777', 'ISIC_0029875', 'ISIC_0029886', 'ISIC_0031892', 'ISIC_0028904', 'ISIC_0031409', 'ISIC_0028732', 'ISIC_0024491', 'ISIC_0031695', 'ISIC_0030478', 'ISIC_0032217', 'ISIC_0028724', 'ISIC_0030891', 'ISIC_0027186', 'ISIC_0029717', 'ISIC_0032205', 'ISIC_0030838', 'ISIC_0026589', 'ISIC_0026632', 'ISIC_0032267', 'ISIC_0032069', 'ISIC_0029007', 'ISIC_0029657', 'ISIC_0028914', 'ISIC_0026020', 'ISIC_0025177', 'ISIC_0027530', 'ISIC_0029049', 'ISIC_0029018', 'ISIC_0026934', 'ISIC_0026346', 'ISIC_0032475', 'ISIC_0032294', 'ISIC_0029214', 'ISIC_0027112', 'ISIC_0028247', 'ISIC_0028988', 'ISIC_0027757', 'ISIC_0026819', 'ISIC_0028791', 'ISIC_0027501', 'ISIC_0029190', 'ISIC_0027855', 'ISIC_0026730', 'ISIC_0026890', 'ISIC_0026519', 'ISIC_0030672', 'ISIC_0028755', 'ISIC_0027062', 'ISIC_0032363', 'ISIC_0025638', 'ISIC_0030980', 'ISIC_0024597', 'ISIC_0030629', 'ISIC_0031178', 'ISIC_0029534', 'ISIC_0030640', 'ISIC_0026367', 'ISIC_0028423', 'ISIC_0025621', 'ISIC_0024594', 'ISIC_0029845', 'ISIC_0027444', 'ISIC_0025702', 'ISIC_0031617', 'ISIC_0025173', 'ISIC_0027644', 'ISIC_0032376', 'ISIC_0031091', 'ISIC_0028576', 'ISIC_0029790', 'ISIC_0027898', 'ISIC_0026726', 'ISIC_0032023', 'ISIC_0031247', 'ISIC_0027305', 'ISIC_0027718', 'ISIC_0028918', 'ISIC_0030697', 'ISIC_0028293', 'ISIC_0029093', 'ISIC_0032428', 'ISIC_0032342', 'ISIC_0027264', 'ISIC_0028413', 'ISIC_0026012', 'ISIC_0029752', 'ISIC_0027198', 'ISIC_0025779', 'ISIC_0026140', 'ISIC_0032086', 'ISIC_0026251', 'ISIC_0029072', 'ISIC_0027839', 'ISIC_0027640', 'ISIC_0024842', 'ISIC_0028803', 'ISIC_0027406', 'ISIC_0030273', 'ISIC_0027249', 'ISIC_0031563', 'ISIC_0029653', 'ISIC_0029374', 'ISIC_0032209', 'ISIC_0028194', 'ISIC_0031404', 'ISIC_0026569', 'ISIC_0027848', 'ISIC_0028971', 'ISIC_0031145', 'ISIC_0028430', 'ISIC_0024642', 'ISIC_0025959', 'ISIC_0032985', 'ISIC_0028633', 'ISIC_0024798', 'ISIC_0025152', 'ISIC_0027235', 'ISIC_0027152', 'ISIC_0029045', 'ISIC_0031160', 'ISIC_0029735', 'ISIC_0028010', 'ISIC_0026666', 'ISIC_0026552', 'ISIC_0029985', 'ISIC_0024891', 'ISIC_0024934', 'ISIC_0025442', 'ISIC_0028461', 'ISIC_0031474', 'ISIC_0029719', 'ISIC_0027684', 'ISIC_0032158', 'ISIC_0031678', 'ISIC_0028453', 'ISIC_0028154', 'ISIC_0025672', 'ISIC_0030664', 'ISIC_0031733', 'ISIC_0027240', 'ISIC_0028332', 'ISIC_0032334', 'ISIC_0030858', 'ISIC_0030609', 'ISIC_0027987', 'ISIC_0032257', 'ISIC_0024314', 'ISIC_0026722', 'ISIC_0031663', 'ISIC_0031883', 'ISIC_0025943', 'ISIC_0025568', 'ISIC_0026887', 'ISIC_0027077', 'ISIC_0032096', 'ISIC_0029366', 'ISIC_0032378', 'ISIC_0027679', 'ISIC_0024604', 'ISIC_0027358', 'ISIC_0030247', 'ISIC_0030426', 'ISIC_0027734', 'ISIC_0030786', 'ISIC_0027662', 'ISIC_0029104', 'ISIC_0030520', 'ISIC_0032341', 'ISIC_0029756', 'ISIC_0030874', 'ISIC_0031629', 'ISIC_0027284', 'ISIC_0024697', 'ISIC_0027537', 'ISIC_0027002', 'ISIC_0026223', 'ISIC_0029389', 'ISIC_0024789', 'ISIC_0030312', 'ISIC_0026080', 'ISIC_0029430', 'ISIC_0027312', 'ISIC_0031143', 'ISIC_0031863', 'ISIC_0031515', 'ISIC_0029854', 'ISIC_0031418', 'ISIC_0027911', 'ISIC_0026874', 'ISIC_0031705', 'ISIC_0031435', 'ISIC_0029615', 'ISIC_0030432', 'ISIC_0027427', 'ISIC_0026389', 'ISIC_0025428', 'ISIC_0031618', 'ISIC_0025847', 'ISIC_0025958', 'ISIC_0028385', 'ISIC_0027403', 'ISIC_0031142', 'ISIC_0024618', 'ISIC_0031059', 'ISIC_0030355', 'ISIC_0024906', 'ISIC_0025073', 'ISIC_0027031', 'ISIC_0024813', 'ISIC_0028401', 'ISIC_0030371', 'ISIC_0028367', 'ISIC_0030741', 'ISIC_0024986', 'ISIC_0031555', 'ISIC_0027462', 'ISIC_0025254', 'ISIC_0031660', 'ISIC_0024824', 'ISIC_0030666', 'ISIC_0031293', 'ISIC_0026376', 'ISIC_0031560', 'ISIC_0025809', 'ISIC_0025108', 'ISIC_0029296', 'ISIC_0031646', 'ISIC_0031385', 'ISIC_0027878', 'ISIC_0032055', 'ISIC_0027738', 'ISIC_0031518', 'ISIC_0027497', 'ISIC_0028255', 'ISIC_0028371', 'ISIC_0030063', 'ISIC_0029475', 'ISIC_0029894', 'ISIC_0024378', 'ISIC_0029986', 'ISIC_0027010', 'ISIC_0026501', 'ISIC_0026006', 'ISIC_0030064', 'ISIC_0027861', 'ISIC_0031817', 'ISIC_0032421', 'ISIC_0029409', 'ISIC_0032364', 'ISIC_0026541', 'ISIC_0031281', 'ISIC_0030829', 'ISIC_0025367', 'ISIC_0025335', 'ISIC_0025869', 'ISIC_0025588', 'ISIC_0027772', 'ISIC_0030688', 'ISIC_0029825', 'ISIC_0028373', 'ISIC_0024714', 'ISIC_0028636', 'ISIC_0025687', 'ISIC_0024855', 'ISIC_0026497', 'ISIC_0031959', 'ISIC_0032078', 'ISIC_0027812', 'ISIC_0026561', 'ISIC_0025129', 'ISIC_0027049', 'ISIC_0027209', 'ISIC_0028966', 'ISIC_0032443', 'ISIC_0028851', 'ISIC_0027408', 'ISIC_0030460', 'ISIC_0030793', 'ISIC_0031221', 'ISIC_0027768', 'ISIC_0027410', 'ISIC_0030194', 'ISIC_0027103', 'ISIC_0028527', 'ISIC_0027244', 'ISIC_0027907', 'ISIC_0025870', 'ISIC_0031380', 'ISIC_0029543', 'ISIC_0029254', 'ISIC_0029223', 'ISIC_0030930', 'ISIC_0028488', 'ISIC_0025863', 'ISIC_0024387', 'ISIC_0028528', 'ISIC_0029945', 'ISIC_0026148', 'ISIC_0028810', 'ISIC_0024869', 'ISIC_0024723', 'ISIC_0031720', 'ISIC_0026382', 'ISIC_0029720', 'ISIC_0032150', 'ISIC_0029725', 'ISIC_0024924', 'ISIC_0031094', 'ISIC_0032345', 'ISIC_0031676', 'ISIC_0032151', 'ISIC_0031615', 'ISIC_0031592', 'ISIC_0029488', 'ISIC_0027099', 'ISIC_0025458', 'ISIC_0024664', 'ISIC_0026303', 'ISIC_0030125', 'ISIC_0025008', 'ISIC_0025735', 'ISIC_0028804', 'ISIC_0032191', 'ISIC_0026911', 'ISIC_0030464', 'ISIC_0028015', 'ISIC_0026781', 'ISIC_0026777', 'ISIC_0031268', 'ISIC_0025327', 'ISIC_0026839', 'ISIC_0029402', 'ISIC_0027571', 'ISIC_0025812', 'ISIC_0029357', 'ISIC_0032309', 'ISIC_0028759', 'ISIC_0029846', 'ISIC_0029194', 'ISIC_0024340', 'ISIC_0027361', 'ISIC_0025823', 'ISIC_0027458', 'ISIC_0027034', 'ISIC_0031887', 'ISIC_0025094', 'ISIC_0026421', 'ISIC_0026215', 'ISIC_0032029', 'ISIC_0028534', 'ISIC_0030139', 'ISIC_0031713', 'ISIC_0032027', 'ISIC_0029976', 'ISIC_0031001', 'ISIC_0030406', 'ISIC_0026633', 'ISIC_0027421', 'ISIC_0028222', 'ISIC_0027086', 'ISIC_0025689', 'ISIC_0026055', 'ISIC_0027645', 'ISIC_0030979', 'ISIC_0028145', 'ISIC_0027709', 'ISIC_0031674', 'ISIC_0025834', 'ISIC_0029982', 'ISIC_0031622', 'ISIC_0028368', 'ISIC_0028843', 'ISIC_0026237', 'ISIC_0025547', 'ISIC_0027548', 'ISIC_0026826', 'ISIC_0028961', 'ISIC_0031080', 'ISIC_0025909', 'ISIC_0028831', 'ISIC_0028045', 'ISIC_0030053', 'ISIC_0026743', 'ISIC_0028793', 'ISIC_0025671', 'ISIC_0026341', 'ISIC_0027697', 'ISIC_0025789', 'ISIC_0028509', 'ISIC_0029435', 'ISIC_0026608', 'ISIC_0030334', 'ISIC_0028235', 'ISIC_0025850', 'ISIC_0029187', 'ISIC_0025905', 'ISIC_0030184', 'ISIC_0028098', 'ISIC_0025631', 'ISIC_0031337', 'ISIC_0025907', 'ISIC_0027113', 'ISIC_0030859', 'ISIC_0030350', 'ISIC_0024831', 'ISIC_0026869', 'ISIC_0026186', 'ISIC_0025156', 'ISIC_0027852', 'ISIC_0031975', 'ISIC_0028195', 'ISIC_0025300', 'ISIC_0028823', 'ISIC_0031501', 'ISIC_0032910', 'ISIC_0025610', 'ISIC_0024615', 'ISIC_0029354', 'ISIC_0031748', 'ISIC_0025555', 'ISIC_0032242', 'ISIC_0024317', 'ISIC_0028751', 'ISIC_0027024', 'ISIC_0025402', 'ISIC_0033745', 'ISIC_0033112', 'ISIC_0033380', 'ISIC_0030326', 'ISIC_0025598', 'ISIC_0033356', 'ISIC_0033998', 'ISIC_0030303', 'ISIC_0026544', 'ISIC_0032470', 'ISIC_0029826', 'ISIC_0025352', 'ISIC_0029179', 'ISIC_0025158', 'ISIC_0025336', 'ISIC_0028977', 'ISIC_0026403', 'ISIC_0029491', 'ISIC_0025641', 'ISIC_0025228', 'ISIC_0031158', 'ISIC_0029728', 'ISIC_0032181', 'ISIC_0033859', 'ISIC_0031546', 'ISIC_0025049', 'ISIC_0028287', 'ISIC_0026423', 'ISIC_0026432', 'ISIC_0033423', 'ISIC_0033846', 'ISIC_0033315', 'ISIC_0032691', 'ISIC_0032540', 'ISIC_0032573', 'ISIC_0032633', 'ISIC_0032007', 'ISIC_0034298', 'ISIC_0033686', 'ISIC_0033251', 'ISIC_0033402', 'ISIC_0034204', 'ISIC_0030462', 'ISIC_0033971', 'ISIC_0032527', 'ISIC_0032964', 'ISIC_0033347', 'ISIC_0032668', 'ISIC_0032891', 'ISIC_0033555', 'ISIC_0033963', 'ISIC_0033793', 'ISIC_0033363', 'ISIC_0033058', 'ISIC_0032924', 'ISIC_0033712', 'ISIC_0032771', 'ISIC_0033297', 'ISIC_0030845', 'ISIC_0032555', 'ISIC_0034254', 'ISIC_0033852', 'ISIC_0033775', 'ISIC_0033561', 'ISIC_0034225', 'ISIC_0032916', 'ISIC_0033756', 'ISIC_0025619', 'ISIC_0033823', 'ISIC_0032954', 'ISIC_0033371', 'ISIC_0033348', 'ISIC_0033048', 'ISIC_0033870', 'ISIC_0033032', 'ISIC_0034227', 'ISIC_0033563', 'ISIC_0031613', 'ISIC_0029953', 'ISIC_0033276', 'ISIC_0034083', 'ISIC_0033316', 'ISIC_0026618', 'ISIC_0026670', 'ISIC_0025456', 'ISIC_0034079', 'ISIC_0033327', 'ISIC_0032871', 'ISIC_0034290', 'ISIC_0033165', 'ISIC_0033430', 'ISIC_0027643', 'ISIC_0027087', 'ISIC_0030851', 'ISIC_0033227', 'ISIC_0033365', 'ISIC_0033767', 'ISIC_0033755', 'ISIC_0033625', 'ISIC_0032362', 'ISIC_0032739', 'ISIC_0032874', 'ISIC_0032590', 'ISIC_0033549', 'ISIC_0033921', 'ISIC_0033959', 'ISIC_0032914', 'ISIC_0033309', 'ISIC_0034267', 'ISIC_0033137', 'ISIC_0032953', 'ISIC_0026584', 'ISIC_0034110', 'ISIC_0025160', 'ISIC_0033389', 'ISIC_0031904', 'ISIC_0025239', 'ISIC_0034234', 'ISIC_0033308', 'ISIC_0034274', 'ISIC_0033331', 'ISIC_0034192', 'ISIC_0033689', 'ISIC_0030546', 'ISIC_0033989', 'ISIC_0032977', 'ISIC_0033664', 'ISIC_0033759', 'ISIC_0034144', 'ISIC_0032992', 'ISIC_0026979', 'ISIC_0032950', 'ISIC_0034156', 'ISIC_0025713', 'ISIC_0034136', 'ISIC_0033386', 'ISIC_0033003', 'ISIC_0033253', 'ISIC_0033974', 'ISIC_0033941', 'ISIC_0033919', 'ISIC_0033640', 'ISIC_0033927', 'ISIC_0032664', 'ISIC_0033461', 'ISIC_0033511', 'ISIC_0025990', 'ISIC_0025778', 'ISIC_0027250', 'ISIC_0025309', 'ISIC_0031466', 'ISIC_0031048', 'ISIC_0031694', 'ISIC_0025978', 'ISIC_0027432', 'ISIC_0024907', 'ISIC_0028214', 'ISIC_0025453', 'ISIC_0026883', 'ISIC_0031412', 'ISIC_0025261', 'ISIC_0027654', 'ISIC_0029656', 'ISIC_0025421', 'ISIC_0025786', 'ISIC_0025525', 'ISIC_0027847', 'ISIC_0030709', 'ISIC_0024730', 'ISIC_0030765', 'ISIC_0028780', 'ISIC_0029902', 'ISIC_0025871', 'ISIC_0031988', 'ISIC_0026502', 'ISIC_0032082', 'ISIC_0027072', 'ISIC_0030378', 'ISIC_0024344', 'ISIC_0025836', 'ISIC_0026384', 'ISIC_0028436', 'ISIC_0029662', 'ISIC_0030582', 'ISIC_0025001', 'ISIC_0028800', 'ISIC_0029636', 'ISIC_0027931', 'ISIC_0028500', 'ISIC_0032374', 'ISIC_0025855', 'ISIC_0026084', 'ISIC_0025262', 'ISIC_0030085', 'ISIC_0029348', 'ISIC_0031202', 'ISIC_0030892', 'ISIC_0030429', 'ISIC_0028159', 'ISIC_0030899', 'ISIC_0031757', 'ISIC_0025541', 'ISIC_0025117', 'ISIC_0032009', 'ISIC_0032641', 'ISIC_0033345', 'ISIC_0032711', 'ISIC_0033207', 'ISIC_0032558', 'ISIC_0034146', 'ISIC_0033964', 'ISIC_0032951', 'ISIC_0033652', 'ISIC_0033944', 'ISIC_0032717', 'ISIC_0032651', 'ISIC_0033699', 'ISIC_0033915', 'ISIC_0032784', 'ISIC_0033459', 'ISIC_0032710', 'ISIC_0032767', 'ISIC_0033503', 'ISIC_0033795', 'ISIC_0032679', 'ISIC_0032529', 'ISIC_0033119', 'ISIC_0033850', 'ISIC_0032671', 'ISIC_0032566', 'ISIC_0033059', 'ISIC_0033113', 'ISIC_0033547', 'ISIC_0033172', 'ISIC_0033326', 'ISIC_0032743', 'ISIC_0033292', 'ISIC_0033610', 'ISIC_0033100', 'ISIC_0033388', 'ISIC_0033009', 'ISIC_0032928', 'ISIC_0032666', 'ISIC_0033157', 'ISIC_0032811', 'ISIC_0034131', 'ISIC_0032901', 'ISIC_0033370', 'ISIC_0033521', 'ISIC_0032623', 'ISIC_0032821', 'ISIC_0032783', 'ISIC_0034139', 'ISIC_0034133', 'ISIC_0034042', 'ISIC_0032595', 'ISIC_0034281', 'ISIC_0034152', 'ISIC_0033739', 'ISIC_0034020', 'ISIC_0033727', 'ISIC_0033827', 'ISIC_0033497', 'ISIC_0034308', 'ISIC_0032957', 'ISIC_0033334', 'ISIC_0034273', 'ISIC_0032805', 'ISIC_0032753', 'ISIC_0033706', 'ISIC_0033097', 'ISIC_0034014', 'ISIC_0034320', 'ISIC_0032549', 'ISIC_0033633', 'ISIC_0034199', 'ISIC_0032998', 'ISIC_0032902', 'ISIC_0032948', 'ISIC_0034264', 'ISIC_0033657', 'ISIC_0034038', 'ISIC_0033070', 'ISIC_0033837', 'ISIC_0032612', 'ISIC_0034039', 'ISIC_0032785', 'ISIC_0032563', 'ISIC_0033071', 'ISIC_0034086', 'ISIC_0032577', 'ISIC_0033753', 'ISIC_0033242', 'ISIC_0032619', 'ISIC_0032742', 'ISIC_0032961', 'ISIC_0034112', 'ISIC_0033296', 'ISIC_0033838', 'ISIC_0033409', 'ISIC_0033990', 'ISIC_0032937', 'ISIC_0032585', 'ISIC_0032899', 'ISIC_0034157', 'ISIC_0033231', 'ISIC_0033035', 'ISIC_0032525', 'ISIC_0033233', 'ISIC_0032770', 'ISIC_0034184', 'ISIC_0033385', 'ISIC_0033471', 'ISIC_0032831', 'ISIC_0032780', 'ISIC_0033849', 'ISIC_0032861', 'ISIC_0033984', 'ISIC_0032640', 'ISIC_0032568', 'ISIC_0033126', 'ISIC_0034099', 'ISIC_0032599', 'ISIC_0033472', 'ISIC_0032667', 'ISIC_0033648', 'ISIC_0032825', 'ISIC_0032803', 'ISIC_0033798', 'ISIC_0033014', 'ISIC_0032516', 'ISIC_0032520', 'ISIC_0032832', 'ISIC_0033917', 'ISIC_0032815', 'ISIC_0033094', 'ISIC_0033162', 'ISIC_0033475', 'ISIC_0033210', 'ISIC_0033219', 'ISIC_0032885', 'ISIC_0033291', 'ISIC_0034102', 'ISIC_0033988', 'ISIC_0032859', 'ISIC_0032795', 'ISIC_0034105', 'ISIC_0033138', 'ISIC_0032728', 'ISIC_0034319', 'ISIC_0033748', 'ISIC_0034044', 'ISIC_0032864', 'ISIC_0033763', 'ISIC_0033650', 'ISIC_0033992', 'ISIC_0033715', 'ISIC_0033920', 'ISIC_0033825', 'ISIC_0033857', 'ISIC_0032731', 'ISIC_0033069', 'ISIC_0032735', 'ISIC_0033840', 'ISIC_0033632', 'ISIC_0034025', 'ISIC_0033182', 'ISIC_0034257', 'ISIC_0032999', 'ISIC_0032669', 'ISIC_0033236', 'ISIC_0032802', 'ISIC_0032551', 'ISIC_0033544', 'ISIC_0032749', 'ISIC_0034091', 'ISIC_0033738', 'ISIC_0033510', 'ISIC_0033222', 'ISIC_0032546', 'ISIC_0032521', 'ISIC_0032674', 'ISIC_0033958', 'ISIC_0032989', 'ISIC_0033618', 'ISIC_0033016', 'ISIC_0033906', 'ISIC_0033298', 'ISIC_0034210', 'ISIC_0026810', 'ISIC_0033351', 'ISIC_0033131', 'ISIC_0033090', 'ISIC_0033832', 'ISIC_0032893', 'ISIC_0032683', 'ISIC_0034111', 'ISIC_0032676', 'ISIC_0034077', 'ISIC_0033641', 'ISIC_0033527', 'ISIC_0032895', 'ISIC_0033091', 'ISIC_0034138', 'ISIC_0032971', 'ISIC_0032781', 'ISIC_0033237', 'ISIC_0032747', 'ISIC_0034286', 'ISIC_0033373', 'ISIC_0033170', 'ISIC_0032680', 'ISIC_0033674', 'ISIC_0032542', 'ISIC_0034224', 'ISIC_0033411', 'ISIC_0034096', 'ISIC_0033382', 'ISIC_0034288', 'ISIC_0033420', 'ISIC_0032661', 'ISIC_0032587', 'ISIC_0033824', 'ISIC_0033830', 'ISIC_0032838', 'ISIC_0034230', 'ISIC_0033057', 'ISIC_0034300', 'ISIC_0033155', 'ISIC_0032609', 'ISIC_0033729', 'ISIC_0034307', 'ISIC_0034137', 'ISIC_0032761', 'ISIC_0033160', 'ISIC_0033930', 'ISIC_0033096', 'ISIC_0033972', 'ISIC_0033367', 'ISIC_0033904', 'ISIC_0033342', 'ISIC_0033265', 'ISIC_0032704', 'ISIC_0033289', 'ISIC_0032822', 'ISIC_0033283', 'ISIC_0033359', 'ISIC_0032905', 'ISIC_0034001', 'ISIC_0032560', 'ISIC_0033427', 'ISIC_0033948', 'ISIC_0033680', 'ISIC_0033085', 'ISIC_0033976', 'ISIC_0034030', 'ISIC_0034179', 'ISIC_0034206', 'ISIC_0032980', 'ISIC_0034314', 'ISIC_0034174', 'ISIC_0028684', 'ISIC_0033983', 'ISIC_0025372', 'ISIC_0033018', 'ISIC_0032541', 'ISIC_0032515', 'ISIC_0025009', 'ISIC_0033492', 'ISIC_0032548', 'ISIC_0033106', 'ISIC_0033506', 'ISIC_0033600', 'ISIC_0033714', 'ISIC_0034190', 'ISIC_0033605', 'ISIC_0033961', 'ISIC_0033702', 'ISIC_0033318', 'ISIC_0032615', 'ISIC_0033862', 'ISIC_0032942', 'ISIC_0025587', 'ISIC_0032628', 'ISIC_0033110', 'ISIC_0032701', 'ISIC_0034153', 'ISIC_0034017', 'ISIC_0034215', 'ISIC_0033743', 'ISIC_0033833', 'ISIC_0032512', 'ISIC_0034149', 'ISIC_0033800', 'ISIC_0033163', 'ISIC_0033887', 'ISIC_0033145', 'ISIC_0033799', 'ISIC_0032646', 'ISIC_0033627', 'ISIC_0033803', 'ISIC_0032860', 'ISIC_0034292', 'ISIC_0034207', 'ISIC_0033408', 'ISIC_0033621', 'ISIC_0034116', 'ISIC_0034073', 'ISIC_0032702', 'ISIC_0033667', 'ISIC_0033107', 'ISIC_0032882', 'ISIC_0034078', 'ISIC_0032818', 'ISIC_0034060', 'ISIC_0033002', 'ISIC_0033683', 'ISIC_0032524', 'ISIC_0033376', 'ISIC_0033796', 'ISIC_0033121', 'ISIC_0034158', 'ISIC_0033213', 'ISIC_0033897', 'ISIC_0033694', 'ISIC_0034013', 'ISIC_0032705', 'ISIC_0034198', 'ISIC_0033658', 'ISIC_0033046', 'ISIC_0032689', 'ISIC_0034088', 'ISIC_0034268', 'ISIC_0032908', 'ISIC_0034203', 'ISIC_0033311', 'ISIC_0032700', 'ISIC_0032608', 'ISIC_0032746', 'ISIC_0033266', 'ISIC_0033188', 'ISIC_0033067', 'ISIC_0032787', 'ISIC_0033936', 'ISIC_0034121', 'ISIC_0034232', 'ISIC_0034282', 'ISIC_0033357', 'ISIC_0034178', 'ISIC_0033517', 'ISIC_0033513', 'ISIC_0033649', 'ISIC_0033404', 'ISIC_0033478', 'ISIC_0032707', 'ISIC_0034311', 'ISIC_0032786', 'ISIC_0033788', 'ISIC_0033150', 'ISIC_0033698', 'ISIC_0034240', 'ISIC_0033220', 'ISIC_0032817', 'ISIC_0032820', 'ISIC_0032853', 'ISIC_0034148', 'ISIC_0034241', 'ISIC_0033665', 'ISIC_0032813', 'ISIC_0033558', 'ISIC_0033590', 'ISIC_0033303', 'ISIC_0032584', 'ISIC_0033731', 'ISIC_0032644', 'ISIC_0033637', 'ISIC_0033566', 'ISIC_0033263', 'ISIC_0033815', 'ISIC_0034194', 'ISIC_0032969', 'ISIC_0033894', 'ISIC_0033933', 'ISIC_0033447', 'ISIC_0033639', 'ISIC_0033282', 'ISIC_0032729', 'ISIC_0033076', 'ISIC_0033194', 'ISIC_0034258', 'ISIC_0034023', 'ISIC_0033243', 'ISIC_0032648', 'ISIC_0032620', 'ISIC_0030420', 'ISIC_0033671', 'ISIC_0033711', 'ISIC_0034084', 'ISIC_0033273', 'ISIC_0034176', 'ISIC_0033104', 'ISIC_0032579', 'ISIC_0033189', 'ISIC_0032693', 'ISIC_0032734', 'ISIC_0032659', 'ISIC_0032478', 'ISIC_0032765', 'ISIC_0033128', 'ISIC_0033115', 'ISIC_0032625', 'ISIC_0033867', 'ISIC_0033202', 'ISIC_0032794', 'ISIC_0032801', 'ISIC_0032974', 'ISIC_0033746', 'ISIC_0033384', 'ISIC_0032830', 'ISIC_0028863', 'ISIC_0030126', 'ISIC_0032530', 'ISIC_0033249', 'ISIC_0032650', 'ISIC_0034182', 'ISIC_0034213', 'ISIC_0032561', 'ISIC_0033839', 'ISIC_0032858', 'ISIC_0033965', 'ISIC_0026279', 'ISIC_0031814', 'ISIC_0032601', 'ISIC_0032878', 'ISIC_0033093', 'ISIC_0033501', 'ISIC_0032677', 'ISIC_0032769', 'ISIC_0033922', 'ISIC_0033108', 'ISIC_0033940', 'ISIC_0033818', 'ISIC_0034029', 'ISIC_0032649', 'ISIC_0034109', 'ISIC_0033439', 'ISIC_0033214', 'ISIC_0033255', 'ISIC_0033229', 'ISIC_0026429', 'ISIC_0025769', 'ISIC_0032909', 'ISIC_0033134', 'ISIC_0034301', 'ISIC_0033914', 'ISIC_0033978', 'ISIC_0033718', 'ISIC_0034237', 'ISIC_0034032', 'ISIC_0033075', 'ISIC_0033406', 'ISIC_0033493', 'ISIC_0033007', 'ISIC_0034010', 'ISIC_0032819', 'ISIC_0033451', 'ISIC_0033552', 'ISIC_0034310', 'ISIC_0032995', 'ISIC_0032754', 'ISIC_0032714', 'ISIC_0033083', 'ISIC_0033133', 'ISIC_0033352', 'ISIC_0032574', 'ISIC_0033398', 'ISIC_0033244', 'ISIC_0032582', 'ISIC_0033052', 'ISIC_0032990', 'ISIC_0033181', 'ISIC_0033661', 'ISIC_0034004', 'ISIC_0033645', 'ISIC_0028829', 'ISIC_0033530', 'ISIC_0032994', 'ISIC_0033604', 'ISIC_0033634', 'ISIC_0034226', 'ISIC_0033116', 'ISIC_0033136', 'ISIC_0033215', 'ISIC_0033412', 'ISIC_0033514', 'ISIC_0033876', 'ISIC_0032737', 'ISIC_0033339', 'ISIC_0031482', 'ISIC_0032944', 'ISIC_0033516', 'ISIC_0032639', 'ISIC_0033525', 'ISIC_0033519', 'ISIC_0032851', 'ISIC_0033080', 'ISIC_0034129', 'ISIC_0033010', 'ISIC_0034293', 'ISIC_0033350', 'ISIC_0033943', 'ISIC_0033434', 'ISIC_0033688', 'ISIC_0033557', 'ISIC_0033013', 'ISIC_0032809', 'ISIC_0032621', 'ISIC_0033328', 'ISIC_0033768', 'ISIC_0025257', 'ISIC_0033006', 'ISIC_0032518', 'ISIC_0033548', 'ISIC_0033433', 'ISIC_0032934', 'ISIC_0033742', 'ISIC_0034127', 'ISIC_0033111', 'ISIC_0033142', 'ISIC_0032703', 'ISIC_0033168', 'ISIC_0033077', 'ISIC_0033951', 'ISIC_0033149', 'ISIC_0033343', 'ISIC_0033502', 'ISIC_0034285', 'ISIC_0033966', 'ISIC_0034244', 'ISIC_0032855', 'ISIC_0032792', 'ISIC_0034187', 'ISIC_0027837', 'ISIC_0033179', 'ISIC_0034251', 'ISIC_0033721', 'ISIC_0034295', 'ISIC_0033929', 'ISIC_0033044', 'ISIC_0033787', 'ISIC_0033599', 'ISIC_0033764', 'ISIC_0033934', 'ISIC_0032565', 'ISIC_0033512', 'ISIC_0032788', 'ISIC_0033221', 'ISIC_0033340', 'ISIC_0032920', 'ISIC_0033673', 'ISIC_0033737', 'ISIC_0033932', 'ISIC_0033062', 'ISIC_0034261', 'ISIC_0032758', 'ISIC_0033939', 'ISIC_0032772', 'ISIC_0034041', 'ISIC_0033598', 'ISIC_0034021', 'ISIC_0034220', 'ISIC_0032973', 'ISIC_0033425', 'ISIC_0033443', 'ISIC_0032593', 'ISIC_0033935', 'ISIC_0033288', 'ISIC_0033087', 'ISIC_0033669', 'ISIC_0033789', 'ISIC_0033419', 'ISIC_0032338', 'ISIC_0034067', 'ISIC_0031290', 'ISIC_0033224', 'ISIC_0033360', 'ISIC_0033294', 'ISIC_0033030', 'ISIC_0032657', 'ISIC_0032605', 'ISIC_0032779', 'ISIC_0033950', 'ISIC_0032886', 'ISIC_0032581', 'ISIC_0032865', 'ISIC_0033726', 'ISIC_0033167', 'ISIC_0033937', 'ISIC_0033703', 'ISIC_0034245', 'ISIC_0032708', 'ISIC_0033574', 'ISIC_0032846', 'ISIC_0033816', 'ISIC_0033672', 'ISIC_0033435', 'ISIC_0034016', 'ISIC_0033960', 'ISIC_0033259', 'ISIC_0033403', 'ISIC_0033954', 'ISIC_0033771', 'ISIC_0034035', 'ISIC_0033880', 'ISIC_0033994', 'ISIC_0032755', 'ISIC_0033724', 'ISIC_0033786', 'ISIC_0034278', 'ISIC_0033102', 'ISIC_0032494', 'ISIC_0032760', 'ISIC_0034128', 'ISIC_0034271', 'ISIC_0033564', 'ISIC_0032627', 'ISIC_0033845', 'ISIC_0032884', 'ISIC_0033532', 'ISIC_0032713', 'ISIC_0033541', 'ISIC_0032670', 'ISIC_0033441', 'ISIC_0034009', 'ISIC_0034305', 'ISIC_0034097', 'ISIC_0033707', 'ISIC_0033912', 'ISIC_0032380', 'ISIC_0025447', 'ISIC_0028591', 'ISIC_0024524', 'ISIC_0032663', 'ISIC_0032962', 'ISIC_0034272', 'ISIC_0032911', 'ISIC_0033792', 'ISIC_0030492', 'ISIC_0033926', 'ISIC_0033021', 'ISIC_0033835', 'ISIC_0034122', 'ISIC_0033281', 'ISIC_0033285', 'ISIC_0033781', 'ISIC_0034247', 'ISIC_0033455', 'ISIC_0034056', 'ISIC_0034069', 'ISIC_0032673', 'ISIC_0033684', 'ISIC_0033148', 'ISIC_0033109', 'ISIC_0032986', 'ISIC_0033909', 'ISIC_0033293', 'ISIC_0033026', 'ISIC_0033774', 'ISIC_0034191', 'ISIC_0033719', 'ISIC_0033442', 'ISIC_0032943', 'ISIC_0033723', 'ISIC_0033396', 'ISIC_0034231', 'ISIC_0034033', 'ISIC_0032752', 'ISIC_0033794', 'ISIC_0033462', 'ISIC_0033191', 'ISIC_0033508', 'ISIC_0033875', 'ISIC_0034200', 'ISIC_0032539', 'ISIC_0032686', 'ISIC_0034249', 'ISIC_0032881', 'ISIC_0033329', 'ISIC_0034181', 'ISIC_0033197', 'ISIC_0032824', 'ISIC_0034209', 'ISIC_0034297', 'ISIC_0034171', 'ISIC_0033996', 'ISIC_0033448', 'ISIC_0034304', 'ISIC_0033036', 'ISIC_0033015', 'ISIC_0033928', 'ISIC_0034124', 'ISIC_0033861', 'ISIC_0033955', 'ISIC_0033822', 'ISIC_0032762', 'ISIC_0032594', 'ISIC_0033147', 'ISIC_0033407', 'ISIC_0033734', 'ISIC_0033923', 'ISIC_0033769', 'ISIC_0032904', 'ISIC_0025970', 'ISIC_0030447', 'ISIC_0027397', 'ISIC_0034108', 'ISIC_0033740', 'ISIC_0032519', 'ISIC_0034090', 'ISIC_0032896', 'ISIC_0034166', 'ISIC_0034217', 'ISIC_0032952', 'ISIC_0033851', 'ISIC_0032966', 'ISIC_0033864', 'ISIC_0034008', 'ISIC_0033250', 'ISIC_0033177', 'ISIC_0033086', 'ISIC_0032720', 'ISIC_0032946', 'ISIC_0033153', 'ISIC_0033314', 'ISIC_0033580', 'ISIC_0033993', 'ISIC_0032926', 'ISIC_0033049', 'ISIC_0033463', 'ISIC_0033757', 'ISIC_0032933', 'ISIC_0034063', 'ISIC_0033045', 'ISIC_0033873', 'ISIC_0032588', 'ISIC_0032510', 'ISIC_0032798', 'ISIC_0032848', 'ISIC_0033697', 'ISIC_0033656', 'ISIC_0034164', 'ISIC_0033228', 'ISIC_0033033', 'ISIC_0033390', 'ISIC_0033836', 'ISIC_0033585', 'ISIC_0033319', 'ISIC_0029393', 'ISIC_0029306', 'ISIC_0024854', 'ISIC_0030537', 'ISIC_0026348', 'ISIC_0028280', 'ISIC_0029654', 'ISIC_0030023', 'ISIC_0029531', 'ISIC_0030961', 'ISIC_0030626', 'ISIC_0031163', 'ISIC_0025210', 'ISIC_0026372', 'ISIC_0026761', 'ISIC_0032322', 'ISIC_0031053', 'ISIC_0032496', 'ISIC_0029775', 'ISIC_0024424', 'ISIC_0028290', 'ISIC_0027246', 'ISIC_0030156', 'ISIC_0031411', 'ISIC_0031848', 'ISIC_0027755', 'ISIC_0025795', 'ISIC_0026498', 'ISIC_0025972', 'ISIC_0031970', 'ISIC_0028060', 'ISIC_0027582', 'ISIC_0028429', 'ISIC_0032375', 'ISIC_0030362', 'ISIC_0031460', 'ISIC_0025695', 'ISIC_0026427', 'ISIC_0031948', 'ISIC_0025045', 'ISIC_0030543', 'ISIC_0031867', 'ISIC_0025988', 'ISIC_0024608', 'ISIC_0025267', 'ISIC_0029581', 'ISIC_0029814', 'ISIC_0031481', 'ISIC_0025887', 'ISIC_0028540', 'ISIC_0029809', 'ISIC_0030771', 'ISIC_0026049', 'ISIC_0028734', 'ISIC_0026125', 'ISIC_0026370', 'ISIC_0030284', 'ISIC_0025620', 'ISIC_0029730', 'ISIC_0028425', 'ISIC_0024668', 'ISIC_0028538', 'ISIC_0025726', 'ISIC_0026210', 'ISIC_0025100', 'ISIC_0031206', 'ISIC_0030361', 'ISIC_0031796', 'ISIC_0026402', 'ISIC_0031923', 'ISIC_0028487', 'ISIC_0029222', 'ISIC_0028573', 'ISIC_0024458', 'ISIC_0027909', 'ISIC_0030305', 'ISIC_0030232', 'ISIC_0030243', 'ISIC_0032058', 'ISIC_0024653', 'ISIC_0026141', 'ISIC_0028625', 'ISIC_0030504', 'ISIC_0030841', 'ISIC_0031654', 'ISIC_0027348', 'ISIC_0027623', 'ISIC_0026328', 'ISIC_0029334', 'ISIC_0030074', 'ISIC_0025226', 'ISIC_0027933', 'ISIC_0028513', 'ISIC_0024361', 'ISIC_0031703', 'ISIC_0026705', 'ISIC_0031645', 'ISIC_0031726', 'ISIC_0027248', 'ISIC_0027567', 'ISIC_0026913', 'ISIC_0026424', 'ISIC_0025734', 'ISIC_0027670', 'ISIC_0027097', 'ISIC_0030455', 'ISIC_0028581', 'ISIC_0029431', 'ISIC_0026886', 'ISIC_0027942', 'ISIC_0027003', 'ISIC_0030264', 'ISIC_0030717', 'ISIC_0026067', 'ISIC_0028868', 'ISIC_0026419', 'ISIC_0027052', 'ISIC_0031521', 'ISIC_0028894', 'ISIC_0032021', 'ISIC_0030773', 'ISIC_0028692', 'ISIC_0032260', 'ISIC_0029664', 'ISIC_0024936', 'ISIC_0029276', 'ISIC_0025469', 'ISIC_0025133', 'ISIC_0030116', 'ISIC_0026270', 'ISIC_0025096', 'ISIC_0029572', 'ISIC_0030933', 'ISIC_0025043', 'ISIC_0025227', 'ISIC_0030268', 'ISIC_0024538', 'ISIC_0029499', 'ISIC_0025208', 'ISIC_0031956', 'ISIC_0032347', 'ISIC_0027398', 'ISIC_0032407', 'ISIC_0026272', 'ISIC_0024658', 'ISIC_0025381', 'ISIC_0027258', 'ISIC_0030840', 'ISIC_0032291', 'ISIC_0028957', 'ISIC_0027925', 'ISIC_0031917', 'ISIC_0024975', 'ISIC_0025782', 'ISIC_0031308', 'ISIC_0028981', 'ISIC_0031079', 'ISIC_0028524', 'ISIC_0027412', 'ISIC_0029257', 'ISIC_0030225', 'ISIC_0024846', 'ISIC_0029313', 'ISIC_0030508', 'ISIC_0026804', 'ISIC_0031194', 'ISIC_0025665', 'ISIC_0030597', 'ISIC_0026692', 'ISIC_0024503', 'ISIC_0029667', 'ISIC_0029566', 'ISIC_0027574', 'ISIC_0030058', 'ISIC_0027821', 'ISIC_0027715', 'ISIC_0027519', 'ISIC_0024753', 'ISIC_0030990', 'ISIC_0029359', 'ISIC_0029746', 'ISIC_0029188', 'ISIC_0027800', 'ISIC_0029450', 'ISIC_0027887', 'ISIC_0024928', 'ISIC_0026841', 'ISIC_0025945', 'ISIC_0031149', 'ISIC_0027902', 'ISIC_0027226', 'ISIC_0028263', 'ISIC_0028610', 'ISIC_0031360', 'ISIC_0028360', 'ISIC_0029861', 'ISIC_0024366', 'ISIC_0027208', 'ISIC_0032368', 'ISIC_0029504', 'ISIC_0032492', 'ISIC_0027853', 'ISIC_0028545', 'ISIC_0025078', 'ISIC_0025516', 'ISIC_0029835', 'ISIC_0028101', 'ISIC_0024941', 'ISIC_0026028', 'ISIC_0031447', 'ISIC_0024837', 'ISIC_0031667', 'ISIC_0026027', 'ISIC_0031839', 'ISIC_0026455', 'ISIC_0028265', 'ISIC_0028057', 'ISIC_0031502', 'ISIC_0025020', 'ISIC_0026106', 'ISIC_0031905', 'ISIC_0030367', 'ISIC_0032227', 'ISIC_0031657', 'ISIC_0030077', 'ISIC_0029865', 'ISIC_0025545', 'ISIC_0032003', 'ISIC_0025840', 'ISIC_0030466', 'ISIC_0024529', 'ISIC_0025662', 'ISIC_0027510', 'ISIC_0027338', 'ISIC_0025534', 'ISIC_0030135', 'ISIC_0024355', 'ISIC_0030941', 'ISIC_0029938', 'ISIC_0024777', 'ISIC_0029196', 'ISIC_0024394', 'ISIC_0029516', 'ISIC_0030066', 'ISIC_0028944', 'ISIC_0027827', 'ISIC_0025491', 'ISIC_0031631', 'ISIC_0027150', 'ISIC_0030588', 'ISIC_0025511', 'ISIC_0029640', 'ISIC_0029724', 'ISIC_0027707', 'ISIC_0027423', 'ISIC_0030057', 'ISIC_0028737', 'ISIC_0032165', 'ISIC_0024718', 'ISIC_0024834', 'ISIC_0024587', 'ISIC_0029666', 'ISIC_0027698', 'ISIC_0025412', 'ISIC_0025785', 'ISIC_0028494', 'ISIC_0031541', 'ISIC_0027596', 'ISIC_0028960', 'ISIC_0025240', 'ISIC_0026933', 'ISIC_0024349', 'ISIC_0026126', 'ISIC_0028271', 'ISIC_0026305', 'ISIC_0028454', 'ISIC_0030852', 'ISIC_0030652', 'ISIC_0031204', 'ISIC_0030179', 'ISIC_0029215', 'ISIC_0028362', 'ISIC_0030894', 'ISIC_0027658', 'ISIC_0028678', 'ISIC_0030610', 'ISIC_0024694', 'ISIC_0027122', 'ISIC_0031340', 'ISIC_0024793', 'ISIC_0024938', 'ISIC_0030065', 'ISIC_0025231', 'ISIC_0029382', 'ISIC_0030093', 'ISIC_0028645', 'ISIC_0031857', 'ISIC_0028621', 'ISIC_0025683', 'ISIC_0031621', 'ISIC_0031822', 'ISIC_0030654', 'ISIC_0025170', 'ISIC_0031811', 'ISIC_0024520', 'ISIC_0031984', 'ISIC_0026487', 'ISIC_0030945', 'ISIC_0024721', 'ISIC_0027020', 'ISIC_0028390', 'ISIC_0029199', 'ISIC_0026611', 'ISIC_0029609', 'ISIC_0029661', 'ISIC_0029269', 'ISIC_0024518', 'ISIC_0031623', 'ISIC_0025047', 'ISIC_0028706', 'ISIC_0027364', 'ISIC_0029493', 'ISIC_0024328', 'ISIC_0028115', 'ISIC_0029482', 'ISIC_0025386', 'ISIC_0028518', 'ISIC_0026764', 'ISIC_0032305', 'ISIC_0028510', 'ISIC_0024870', 'ISIC_0031756', 'ISIC_0028999', 'ISIC_0024406', 'ISIC_0028723', 'ISIC_0027751', 'ISIC_0028030', 'ISIC_0025942', 'ISIC_0025039', 'ISIC_0030127', 'ISIC_0025969', 'ISIC_0031725', 'ISIC_0027040', 'ISIC_0026030', 'ISIC_0030397', 'ISIC_0027129', 'ISIC_0032427', 'ISIC_0032355', 'ISIC_0024428', 'ISIC_0027897', 'ISIC_0031092', 'ISIC_0027390', 'ISIC_0028450', 'ISIC_0028758', 'ISIC_0028167', 'ISIC_0027147', 'ISIC_0029339', 'ISIC_0032184', 'ISIC_0031399', 'ISIC_0025149', 'ISIC_0025938', 'ISIC_0029277', 'ISIC_0028117', 'ISIC_0028216', 'ISIC_0030621', 'ISIC_0026209', 'ISIC_0031727', 'ISIC_0031483', 'ISIC_0027323', 'ISIC_0032274', 'ISIC_0032436', 'ISIC_0025518', 'ISIC_0026101', 'ISIC_0028825', 'ISIC_0025181', 'ISIC_0031603', 'ISIC_0029867', 'ISIC_0031070', 'ISIC_0024996', 'ISIC_0028092', 'ISIC_0027978', 'ISIC_0027213', 'ISIC_0032176', 'ISIC_0029589', 'ISIC_0027224', 'ISIC_0029641', 'ISIC_0026784', 'ISIC_0025633', 'ISIC_0031564', 'ISIC_0027236', 'ISIC_0025742', 'ISIC_0032141', 'ISIC_0031798', 'ISIC_0031015', 'ISIC_0028484', 'ISIC_0031354', 'ISIC_0027293', 'ISIC_0026454', 'ISIC_0030842', 'ISIC_0025562', 'ISIC_0028598', 'ISIC_0026759', 'ISIC_0026147', 'ISIC_0027874', 'ISIC_0025340', 'ISIC_0030967', 'ISIC_0030675', 'ISIC_0032474', 'ISIC_0030819', 'ISIC_0025657', 'ISIC_0032015', 'ISIC_0031285', 'ISIC_0030532', 'ISIC_0026615', 'ISIC_0024862', 'ISIC_0029459', 'ISIC_0029528', 'ISIC_0028135', 'ISIC_0026782', 'ISIC_0029438', 'ISIC_0028715', 'ISIC_0029994', 'ISIC_0029926', 'ISIC_0031934', 'ISIC_0026400', 'ISIC_0027495', 'ISIC_0029583', 'ISIC_0028212', 'ISIC_0030399', 'ISIC_0024937', 'ISIC_0032136', 'ISIC_0031353', 'ISIC_0025960', 'ISIC_0029693', 'ISIC_0029162', 'ISIC_0027486', 'ISIC_0025410', 'ISIC_0026599', 'ISIC_0031932', 'ISIC_0030592', 'ISIC_0026987', 'ISIC_0027201', 'ISIC_0024841', 'ISIC_0029121', 'ISIC_0031302', 'ISIC_0029457', 'ISIC_0027237', 'ISIC_0030525', 'ISIC_0028679', 'ISIC_0029001', 'ISIC_0026739', 'ISIC_0025946', 'ISIC_0024899', 'ISIC_0027671', 'ISIC_0026546', 'ISIC_0030121', 'ISIC_0031126', 'ISIC_0029736', 'ISIC_0024343', 'ISIC_0031311', 'ISIC_0030816', 'ISIC_0025506', 'ISIC_0025013', 'ISIC_0027724', 'ISIC_0030796', 'ISIC_0026592', 'ISIC_0030790', 'ISIC_0030914', 'ISIC_0029169', 'ISIC_0029197', 'ISIC_0028408', 'ISIC_0028998', 'ISIC_0025118', 'ISIC_0026512', 'ISIC_0032300', 'ISIC_0026034', 'ISIC_0029183', 'ISIC_0028420', 'ISIC_0032126', 'ISIC_0026573', 'ISIC_0025563', 'ISIC_0026340', 'ISIC_0029298', 'ISIC_0028217', 'ISIC_0032067', 'ISIC_0028551', 'ISIC_0027988', 'ISIC_0027114', 'ISIC_0032489', 'ISIC_0030733', 'ISIC_0025597', 'ISIC_0025225', 'ISIC_0027569', 'ISIC_0026698', 'ISIC_0030544', 'ISIC_0030962', 'ISIC_0025305', 'ISIC_0029978', 'ISIC_0025926', 'ISIC_0029577', 'ISIC_0024560', 'ISIC_0029993', 'ISIC_0026741', 'ISIC_0026222', 'ISIC_0031117', 'ISIC_0027308', 'ISIC_0031046', 'ISIC_0029046', 'ISIC_0029138', 'ISIC_0029349', 'ISIC_0032047', 'ISIC_0027963', 'ISIC_0024425', 'ISIC_0028557', 'ISIC_0027471', 'ISIC_0026706', 'ISIC_0032243', 'ISIC_0029109', 'ISIC_0028675', 'ISIC_0030328', 'ISIC_0030117', 'ISIC_0031363', 'ISIC_0031220', 'ISIC_0026654', 'ISIC_0024808', 'ISIC_0028297', 'ISIC_0026921', 'ISIC_0027401', 'ISIC_0028637', 'ISIC_0031942', 'ISIC_0026226', 'ISIC_0028174', 'ISIC_0024566', 'ISIC_0029452', 'ISIC_0025112', 'ISIC_0028507', 'ISIC_0029773', 'ISIC_0029203', 'ISIC_0026712', 'ISIC_0032444', 'ISIC_0028305', 'ISIC_0026452', 'ISIC_0027007', 'ISIC_0029645', 'ISIC_0026398', 'ISIC_0026655', 'ISIC_0026672', 'ISIC_0028186', 'ISIC_0026099', 'ISIC_0024836', 'ISIC_0028983', 'ISIC_0030180', 'ISIC_0026043', 'ISIC_0031451', 'ISIC_0025074', 'ISIC_0028859', 'ISIC_0031612', 'ISIC_0028744', 'ISIC_0028529', 'ISIC_0026588', 'ISIC_0030115', 'ISIC_0029898', 'ISIC_0028364', 'ISIC_0024599', 'ISIC_0024352', 'ISIC_0026885', 'ISIC_0026293', 'ISIC_0029286', 'ISIC_0025784', 'ISIC_0032112', 'ISIC_0031306', 'ISIC_0025902', 'ISIC_0030704', 'ISIC_0028631', 'ISIC_0027490', 'ISIC_0029597', 'ISIC_0026601', 'ISIC_0024439', 'ISIC_0025492', 'ISIC_0030082', 'ISIC_0027568', 'ISIC_0029679', 'ISIC_0026053', 'ISIC_0025443', 'ISIC_0030006', 'ISIC_0028599', 'ISIC_0027917', 'ISIC_0026974', 'ISIC_0026097', 'ISIC_0028767', 'ISIC_0028378', 'ISIC_0026852', 'ISIC_0028589', 'ISIC_0029432', 'ISIC_0025846', 'ISIC_0027928', 'ISIC_0030079', 'ISIC_0024908', 'ISIC_0031596', 'ISIC_0029881', 'ISIC_0031115', 'ISIC_0031919', 'ISIC_0026491', 'ISIC_0030039', 'ISIC_0027883', 'ISIC_0030535', 'ISIC_0028808', 'ISIC_0026513', 'ISIC_0027540', 'ISIC_0031700', 'ISIC_0030209', 'ISIC_0027073', 'ISIC_0031019', 'ISIC_0029959', 'ISIC_0028202', 'ISIC_0028689', 'ISIC_0028151', 'ISIC_0028857', 'ISIC_0025341', 'ISIC_0028993', 'ISIC_0029696', 'ISIC_0027466', 'ISIC_0029975', 'ISIC_0031042', 'ISIC_0031049', 'ISIC_0030219', 'ISIC_0030981', 'ISIC_0025899', 'ISIC_0031710', 'ISIC_0028923', 'ISIC_0029127', 'ISIC_0025476', 'ISIC_0025950', 'ISIC_0027382', 'ISIC_0026437', 'ISIC_0026414', 'ISIC_0024926', 'ISIC_0025424', 'ISIC_0027503', 'ISIC_0029160', 'ISIC_0026559', 'ISIC_0025396', 'ISIC_0031708', 'ISIC_0026795', 'ISIC_0027181', 'ISIC_0025983', 'ISIC_0032251', 'ISIC_0032253', 'ISIC_0029191', 'ISIC_0024356', 'ISIC_0024476', 'ISIC_0028307', 'ISIC_0026551', 'ISIC_0024596', 'ISIC_0030966', 'ISIC_0026560', 'ISIC_0025051', 'ISIC_0026103', 'ISIC_0029614', 'ISIC_0032189', 'ISIC_0032281', 'ISIC_0030425', 'ISIC_0026029', 'ISIC_0026610', 'ISIC_0028032', 'ISIC_0032145', 'ISIC_0028951', 'ISIC_0028600', 'ISIC_0027469', 'ISIC_0026359', 'ISIC_0030973', 'ISIC_0030444', 'ISIC_0024781', 'ISIC_0030645', 'ISIC_0032292', 'ISIC_0031076', 'ISIC_0028400', 'ISIC_0026998', 'ISIC_0032218', 'ISIC_0031838', 'ISIC_0032028', 'ISIC_0028648', 'ISIC_0030253', 'ISIC_0029733', 'ISIC_0025684', 'ISIC_0026329', 'ISIC_0028476', 'ISIC_0031832', 'ISIC_0027051', 'ISIC_0030340', 'ISIC_0031278', 'ISIC_0028580', 'ISIC_0025798', 'ISIC_0026922', 'ISIC_0028478', 'ISIC_0029054', 'ISIC_0028150', 'ISIC_0025214', 'ISIC_0030069', 'ISIC_0026133', 'ISIC_0026674', 'ISIC_0031924', 'ISIC_0028963', 'ISIC_0025088', 'ISIC_0026964', 'ISIC_0030167', 'ISIC_0032175', 'ISIC_0032327', 'ISIC_0026786', 'ISIC_0028578', 'ISIC_0024809', 'ISIC_0027461', 'ISIC_0025310', 'ISIC_0026752', 'ISIC_0027889', 'ISIC_0032423', 'ISIC_0030873', 'ISIC_0026076', 'ISIC_0024363', 'ISIC_0028355', 'ISIC_0025171', 'ISIC_0031014', 'ISIC_0024969', 'ISIC_0032936', 'ISIC_0030732', 'ISIC_0030802', 'ISIC_0025169', 'ISIC_0030742', 'ISIC_0028441', 'ISIC_0031374', 'ISIC_0030422', 'ISIC_0031681', 'ISIC_0027242', 'ISIC_0030313', 'ISIC_0025463', 'ISIC_0028179', 'ISIC_0030008', 'ISIC_0033232', 'ISIC_0032405', 'ISIC_0031933', 'ISIC_0025579', 'ISIC_0029905', 'ISIC_0027197', 'ISIC_0027627', 'ISIC_0031081', 'ISIC_0025542', 'ISIC_0024514', 'ISIC_0031662', 'ISIC_0031583', 'ISIC_0032109', 'ISIC_0031031', 'ISIC_0025533', 'ISIC_0031742', 'ISIC_0028183', 'ISIC_0026108', 'ISIC_0031113', 'ISIC_0030792', 'ISIC_0032459', 'ISIC_0025655', 'ISIC_0026658', 'ISIC_0025730', 'ISIC_0032195', 'ISIC_0031813', 'ISIC_0030354', 'ISIC_0031476', 'ISIC_0028166', 'ISIC_0026406', 'ISIC_0025000', 'ISIC_0031754', 'ISIC_0029803', 'ISIC_0027066', 'ISIC_0025106', 'ISIC_0026805', 'ISIC_0024680', 'ISIC_0029465', 'ISIC_0031894', 'ISIC_0027091', 'ISIC_0027271', 'ISIC_0024497', 'ISIC_0031594', 'ISIC_0029855', 'ISIC_0029530', 'ISIC_0025967', 'ISIC_0028091', 'ISIC_0028023', 'ISIC_0031960', 'ISIC_0027360', 'ISIC_0029554', 'ISIC_0024578', 'ISIC_0025759', 'ISIC_0031366', 'ISIC_0025640', 'ISIC_0031644', 'ISIC_0027036', 'ISIC_0026096', 'ISIC_0028139', 'ISIC_0031802', 'ISIC_0026825', 'ISIC_0026445', 'ISIC_0030625', 'ISIC_0029026', 'ISIC_0028310', 'ISIC_0028230', 'ISIC_0026023', 'ISIC_0028281', 'ISIC_0032233', 'ISIC_0028116', 'ISIC_0029174', 'ISIC_0028870', 'ISIC_0026330', 'ISIC_0032144', 'ISIC_0030598', 'ISIC_0030740', 'ISIC_0026600', 'ISIC_0028205', 'ISIC_0030772', 'ISIC_0029479', 'ISIC_0032278', 'ISIC_0026111', 'ISIC_0027255', 'ISIC_0028588', 'ISIC_0026581', 'ISIC_0025936', 'ISIC_0026231', 'ISIC_0025179', 'ISIC_0026216', 'ISIC_0027109', 'ISIC_0029095', 'ISIC_0030580', 'ISIC_0030620', 'ISIC_0028987', 'ISIC_0028874', 'ISIC_0028592', 'ISIC_0027005', 'ISIC_0031871', 'ISIC_0029075', 'ISIC_0028887', 'ISIC_0031567', 'ISIC_0028358', 'ISIC_0027766', 'ISIC_0030809', 'ISIC_0032311', 'ISIC_0030920', 'ISIC_0026401', 'ISIC_0030370', 'ISIC_0024441', 'ISIC_0030534', 'ISIC_0032284', 'ISIC_0031107', 'ISIC_0026022', 'ISIC_0026577', 'ISIC_0027639', 'ISIC_0031314', 'ISIC_0031249', 'ISIC_0031121', 'ISIC_0032034', 'ISIC_0030451', 'ISIC_0031301', 'ISIC_0031111', 'ISIC_0024882', 'ISIC_0025667', 'ISIC_0028982', 'ISIC_0028602', 'ISIC_0027137', 'ISIC_0030833', 'ISIC_0032140', 'ISIC_0026956', 'ISIC_0031982', 'ISIC_0029833', 'ISIC_0031806', 'ISIC_0030635', 'ISIC_0028736', 'ISIC_0031991', 'ISIC_0030817', 'ISIC_0029470', 'ISIC_0030674', 'ISIC_0032065', 'ISIC_0027840', 'ISIC_0024447', 'ISIC_0024998', 'ISIC_0030922', 'ISIC_0026671', 'ISIC_0024933', 'ISIC_0031192', 'ISIC_0027498', 'ISIC_0028128', 'ISIC_0026488', 'ISIC_0026554', 'ISIC_0031074', 'ISIC_0031085', 'ISIC_0029221', 'ISIC_0027688', 'ISIC_0024704', 'ISIC_0030260', 'ISIC_0028643', 'ISIC_0024657', 'ISIC_0031981', 'ISIC_0032279', 'ISIC_0027922', 'ISIC_0025184', 'ISIC_0027298', 'ISIC_0024561', 'ISIC_0028261', 'ISIC_0030198', 'ISIC_0027535', 'ISIC_0027098', 'ISIC_0026071', 'ISIC_0027908', 'ISIC_0032186', 'ISIC_0030923', 'ISIC_0028243', 'ISIC_0025436', 'ISIC_0025989', 'ISIC_0026179', 'ISIC_0032340', 'ISIC_0024620', 'ISIC_0026217', 'ISIC_0028447', 'ISIC_0025027', 'ISIC_0032090', 'ISIC_0029079', 'ISIC_0025571', 'ISIC_0025776', 'ISIC_0025908', 'ISIC_0028945', 'ISIC_0030401', 'ISIC_0032035', 'ISIC_0032412', 'ISIC_0026048', 'ISIC_0031930', 'ISIC_0031131', 'ISIC_0031473', 'ISIC_0029671', 'ISIC_0027789', 'ISIC_0031011', 'ISIC_0028761', 'ISIC_0028873', 'ISIC_0028787', 'ISIC_0026008', 'ISIC_0026753', 'ISIC_0031134', 'ISIC_0028882', 'ISIC_0024466', 'ISIC_0025892', 'ISIC_0026866', 'ISIC_0027351', 'ISIC_0025488', 'ISIC_0027999', 'ISIC_0030061', 'ISIC_0030960', 'ISIC_0030311', 'ISIC_0025505', 'ISIC_0027346', 'ISIC_0031875', 'ISIC_0027997', 'ISIC_0024784', 'ISIC_0024922', 'ISIC_0029119', 'ISIC_0026151', 'ISIC_0027127', 'ISIC_0028849', 'ISIC_0027756', 'ISIC_0032125', 'ISIC_0025172', 'ISIC_0032471', 'ISIC_0027578', 'ISIC_0032148', 'ISIC_0031889', 'ISIC_0025517', 'ISIC_0030553', 'ISIC_0025295', 'ISIC_0025477', 'ISIC_0028571', 'ISIC_0031573', 'ISIC_0025123', 'ISIC_0028276', 'ISIC_0027183', 'ISIC_0031238', 'ISIC_0026374', 'ISIC_0026297', 'ISIC_0027379', 'ISIC_0027468', 'ISIC_0027203', 'ISIC_0029771', 'ISIC_0027475', 'ISIC_0031064', 'ISIC_0027538', 'ISIC_0026751', 'ISIC_0029332', 'ISIC_0024827', 'ISIC_0031304', 'ISIC_0030856', 'ISIC_0029476', 'ISIC_0028809', 'ISIC_0028016', 'ISIC_0030456', 'ISIC_0030942', 'ISIC_0031913', 'ISIC_0031880', 'ISIC_0029812', 'ISIC_0026347', 'ISIC_0030639', 'ISIC_0025165', 'ISIC_0028698', 'ISIC_0030694', 'ISIC_0028865', 'ISIC_0028464', 'ISIC_0025237', 'ISIC_0029390', 'ISIC_0029145', 'ISIC_0029441', 'ISIC_0024480', 'ISIC_0027798', 'ISIC_0028141', 'ISIC_0032310', 'ISIC_0026323', 'ISIC_0030663', 'ISIC_0028673', 'ISIC_0030151', 'ISIC_0030279', 'ISIC_0024380', 'ISIC_0027873', 'ISIC_0032344', 'ISIC_0031866', 'ISIC_0028344', 'ISIC_0025422', 'ISIC_0030033', 'ISIC_0027262', 'ISIC_0024916', 'ISIC_0031039', 'ISIC_0026665', 'ISIC_0031611', 'ISIC_0032074', 'ISIC_0028468', 'ISIC_0028608', 'ISIC_0030978', 'ISIC_0028649', 'ISIC_0024416', 'ISIC_0026166', 'ISIC_0028131', 'ISIC_0024377', 'ISIC_0027984', 'ISIC_0030810', 'ISIC_0025918', 'ISIC_0026124', 'ISIC_0026711', 'ISIC_0024876', 'ISIC_0030839', 'ISIC_0028504', 'ISIC_0029862', 'ISIC_0028118', 'ISIC_0030593', 'ISIC_0027959', 'ISIC_0031045', 'ISIC_0026809', 'ISIC_0030176', 'ISIC_0031379', 'ISIC_0027711', 'ISIC_0025763', 'ISIC_0028947', 'ISIC_0029252', 'ISIC_0026017', 'ISIC_0031599', 'ISIC_0028226', 'ISIC_0031965', 'ISIC_0025148', 'ISIC_0030140', 'ISIC_0027614', 'ISIC_0025243', 'ISIC_0024716', 'ISIC_0030159', 'ISIC_0027512', 'ISIC_0027945', 'ISIC_0032157', 'ISIC_0030434', 'ISIC_0032236', 'ISIC_0026580', 'ISIC_0030919', 'ISIC_0028498', 'ISIC_0025346', 'ISIC_0030210', 'ISIC_0028686', 'ISIC_0029560', 'ISIC_0027849', 'ISIC_0031809', 'ISIC_0025681', 'ISIC_0030912', 'ISIC_0024995', 'ISIC_0026260', 'ISIC_0027783', 'ISIC_0030940', 'ISIC_0029963', 'ISIC_0030937', 'ISIC_0025400', 'ISIC_0026991', 'ISIC_0029792', 'ISIC_0029208', 'ISIC_0028891', 'ISIC_0032018', 'ISIC_0025540', 'ISIC_0032333', 'ISIC_0028596', 'ISIC_0024902', 'ISIC_0027415', 'ISIC_0024519', 'ISIC_0026676', 'ISIC_0025166', 'ISIC_0028938', 'ISIC_0024479', 'ISIC_0032328', 'ISIC_0026358', 'ISIC_0025193', 'ISIC_0028884', 'ISIC_0028785', 'ISIC_0025141', 'ISIC_0026660', 'ISIC_0026218', 'ISIC_0028766', 'ISIC_0027211', 'ISIC_0030900', 'ISIC_0027549', 'ISIC_0025581', 'ISIC_0028384', 'ISIC_0030155', 'ISIC_0026451', 'ISIC_0032385', 'ISIC_0027523', 'ISIC_0028531', 'ISIC_0025065', 'ISIC_0027319', 'ISIC_0029247', 'ISIC_0024752', 'ISIC_0029328', 'ISIC_0030384', 'ISIC_0029498', 'ISIC_0026333', 'ISIC_0031829', 'ISIC_0027729', 'ISIC_0031036', 'ISIC_0026820', 'ISIC_0029650', 'ISIC_0029879', 'ISIC_0029838', 'ISIC_0025446', 'ISIC_0024712', 'ISIC_0028586', 'ISIC_0030182', 'ISIC_0026182', 'ISIC_0025061', 'ISIC_0028477', 'ISIC_0024577', 'ISIC_0028272', 'ISIC_0026603', 'ISIC_0025647', 'ISIC_0025323', 'ISIC_0026371', 'ISIC_0024857', 'ISIC_0026295', 'ISIC_0030019', 'ISIC_0028042', 'ISIC_0030229', 'ISIC_0027133', 'ISIC_0028756', 'ISIC_0030485', 'ISIC_0031803', 'ISIC_0025278', 'ISIC_0032312', 'ISIC_0029055', 'ISIC_0026834', 'ISIC_0026657', 'ISIC_0028067', 'ISIC_0030977', 'ISIC_0024762', 'ISIC_0024818', 'ISIC_0031595', 'ISIC_0031071', 'ISIC_0031475', 'ISIC_0031127', 'ISIC_0027558', 'ISIC_0029794', 'ISIC_0024821', 'ISIC_0027266', 'ISIC_0025271', 'ISIC_0027867', 'ISIC_0026788', 'ISIC_0029759', 'ISIC_0030348', 'ISIC_0032042', 'ISIC_0031602', 'ISIC_0024683', 'ISIC_0026122', 'ISIC_0026024', 'ISIC_0025168', 'ISIC_0024617', 'ISIC_0026816', 'ISIC_0028635', 'ISIC_0029231', 'ISIC_0030144', 'ISIC_0028909', 'ISIC_0028562', 'ISIC_0025553', 'ISIC_0029920', 'ISIC_0031188', 'ISIC_0030589', 'ISIC_0030091', 'ISIC_0028720', 'ISIC_0026318', 'ISIC_0026742', 'ISIC_0028665', 'ISIC_0026480', 'ISIC_0029668', 'ISIC_0026942', 'ISIC_0030410', 'ISIC_0031750', 'ISIC_0030710', 'ISIC_0027714', 'ISIC_0030585', 'ISIC_0030567', 'ISIC_0025729', 'ISIC_0029140', 'ISIC_0030557', 'ISIC_0025865', 'ISIC_0024935', 'ISIC_0029091', 'ISIC_0032026', 'ISIC_0026889', 'ISIC_0030963', 'ISIC_0030336', 'ISIC_0027970', 'ISIC_0027140', 'ISIC_0031322', 'ISIC_0031985', 'ISIC_0030890', 'ISIC_0030404', 'ISIC_0027311', 'ISIC_0031896', 'ISIC_0025355', 'ISIC_0032388', 'ISIC_0031973', 'ISIC_0025956', 'ISIC_0027607', 'ISIC_0025860', 'ISIC_0025473', 'ISIC_0025670', 'ISIC_0025898', 'ISIC_0029786', 'ISIC_0027642', 'ISIC_0024540', 'ISIC_0027948', 'ISIC_0032008', 'ISIC_0031317', 'ISIC_0024734', 'ISIC_0027012', 'ISIC_0029592', 'ISIC_0026037', 'ISIC_0025062', 'ISIC_0030299', 'ISIC_0028866', 'ISIC_0025253', 'ISIC_0027961', 'ISIC_0026749', 'ISIC_0029895', 'ISIC_0030059', 'ISIC_0028658', 'ISIC_0032020', 'ISIC_0024745', 'ISIC_0026190', 'ISIC_0025881', 'ISIC_0029970', 'ISIC_0025101', 'ISIC_0030358', 'ISIC_0028632', 'ISIC_0029537', 'ISIC_0031668', 'ISIC_0027431', 'ISIC_0030479', 'ISIC_0028834', 'ISIC_0030300', 'ISIC_0025252', 'ISIC_0027143', 'ISIC_0030086', 'ISIC_0034265', 'ISIC_0033011', 'ISIC_0032706', 'ISIC_0032697', 'ISIC_0032931', 'ISIC_0033140', 'ISIC_0033234', 'ISIC_0033765', 'ISIC_0033903', 'ISIC_0032939', 'ISIC_0033682', 'ISIC_0033105', 'ISIC_0032979', 'ISIC_0033890', 'ISIC_0033381', 'ISIC_0033474', 'ISIC_0032572', 'ISIC_0032912', 'ISIC_0029808', 'ISIC_0025897', 'ISIC_0028252', 'ISIC_0028170', 'ISIC_0031524', 'ISIC_0024507', 'ISIC_0029401', 'ISIC_0033484', 'ISIC_0033540', 'ISIC_0034279', 'ISIC_0033589', 'ISIC_0033888', 'ISIC_0033338', 'ISIC_0032880', 'ISIC_0032600', 'ISIC_0032791', 'ISIC_0032721', 'ISIC_0033537', 'ISIC_0032837', 'ISIC_0032682', 'ISIC_0033223', 'ISIC_0032764', 'ISIC_0032907', 'ISIC_0033760', 'ISIC_0033335', 'ISIC_0032616', 'ISIC_0033614', 'ISIC_0033436', 'ISIC_0033572', 'ISIC_0033596', 'ISIC_0034212', 'ISIC_0033489', 'ISIC_0033907', 'ISIC_0033139', 'ISIC_0033225', 'ISIC_0033615', 'ISIC_0033418', 'ISIC_0034054', 'ISIC_0033364', 'ISIC_0034163', 'ISIC_0034277', 'ISIC_0034147', 'ISIC_0033247', 'ISIC_0033918', 'ISIC_0032889', 'ISIC_0033132', 'ISIC_0033821', 'ISIC_0033457', 'ISIC_0033588', 'ISIC_0033144', 'ISIC_0033916', 'ISIC_0032554', 'ISIC_0033777', 'ISIC_0033078', 'ISIC_0034055', 'ISIC_0033997', 'ISIC_0032712', 'ISIC_0033164', 'ISIC_0033395', 'ISIC_0033355', 'ISIC_0033095', 'ISIC_0033082', 'ISIC_0034098', 'ISIC_0033040', 'ISIC_0034238', 'ISIC_0032543', 'ISIC_0033176', 'ISIC_0032658', 'ISIC_0032868', 'ISIC_0032631', 'ISIC_0032528', 'ISIC_0033879', 'ISIC_0033211', 'ISIC_0033617', 'ISIC_0033889', 'ISIC_0033495', 'ISIC_0033161', 'ISIC_0032796', 'ISIC_0033346', 'ISIC_0034219', 'ISIC_0033098', 'ISIC_0032607', 'ISIC_0033584', 'ISIC_0033118', 'ISIC_0032523', 'ISIC_0033159', 'ISIC_0033542', 'ISIC_0032748', 'ISIC_0034260', 'ISIC_0034027', 'ISIC_0032580', 'ISIC_0033692', 'ISIC_0032575', 'ISIC_0032793', 'ISIC_0033766', 'ISIC_0033008', 'ISIC_0033543', 'ISIC_0034185', 'ISIC_0033842', 'ISIC_0032923', 'ISIC_0032935', 'ISIC_0034229', 'ISIC_0028066', 'ISIC_0033464', 'ISIC_0033577', 'ISIC_0033895', 'ISIC_0032678', 'ISIC_0033970', 'ISIC_0033896', 'ISIC_0034250', 'ISIC_0033690', 'ISIC_0034193', 'ISIC_0032402', 'ISIC_0033898', 'ISIC_0033173', 'ISIC_0032647', 'ISIC_0024715', 'ISIC_0029152', 'ISIC_0032800', 'ISIC_0027689', 'ISIC_0032655', 'ISIC_0033290', 'ISIC_0034072', 'ISIC_0034177', 'ISIC_0033681', 'ISIC_0033341', 'ISIC_0032849', 'ISIC_0033043', 'ISIC_0032632', 'ISIC_0034302', 'ISIC_0032635', 'ISIC_0032562', 'ISIC_0033826', 'ISIC_0033421', 'ISIC_0033602', 'ISIC_0034248', 'ISIC_0033797', 'ISIC_0033772', 'ISIC_0033039', 'ISIC_0032996', 'ISIC_0032591', 'ISIC_0034228', 'ISIC_0033556', 'ISIC_0033892', 'ISIC_0032571', 'ISIC_0033623', 'ISIC_0034075', 'ISIC_0032606', 'ISIC_0033066', 'ISIC_0033383', 'ISIC_0033858', 'ISIC_0033072', 'ISIC_0032759', 'ISIC_0033647', 'ISIC_0032634', 'ISIC_0032956', 'ISIC_0033481', 'ISIC_0034082', 'ISIC_0033567', 'ISIC_0034312', 'ISIC_0033025', 'ISIC_0033053', 'ISIC_0033374', 'ISIC_0033877', 'ISIC_0033841', 'ISIC_0033882', 'ISIC_0033065', 'ISIC_0033628', 'ISIC_0033733', 'ISIC_0032738', 'ISIC_0033353', 'ISIC_0034019', 'ISIC_0032852', 'ISIC_0034080', 'ISIC_0034154', 'ISIC_0032789', 'ISIC_0033782', 'ISIC_0033332', 'ISIC_0034130', 'ISIC_0032945', 'ISIC_0034045', 'ISIC_0033028', 'ISIC_0033809', 'ISIC_0032814', 'ISIC_0033190', 'ISIC_0033535', 'ISIC_0033330', 'ISIC_0033064', 'ISIC_0033515', 'ISIC_0033735', 'ISIC_0033982', 'ISIC_0034195', 'ISIC_0033620', 'ISIC_0034040', 'ISIC_0029355', 'ISIC_0024725', 'ISIC_0031259', 'ISIC_0027138', 'ISIC_0024757', 'ISIC_0027492', 'ISIC_0027528', 'ISIC_0026391', 'ISIC_0025122', 'ISIC_0031216', 'ISIC_0031769', 'ISIC_0025816', 'ISIC_0031209', 'ISIC_0028014', 'ISIC_0025499', 'ISIC_0032379', 'ISIC_0029368', 'ISIC_0025653', 'ISIC_0027265', 'ISIC_0024437', 'ISIC_0031105', 'ISIC_0027418', 'ISIC_0029030', 'ISIC_0031359', 'ISIC_0031454', 'ISIC_0024955', 'ISIC_0030038', 'ISIC_0030909', 'ISIC_0031323', 'ISIC_0031791', 'ISIC_0028338', 'ISIC_0028618', 'ISIC_0031488', 'ISIC_0027345', 'ISIC_0031148', 'ISIC_0028008', 'ISIC_0026440', 'ISIC_0028399', 'ISIC_0029143', 'ISIC_0025652', 'ISIC_0028585', 'ISIC_0029038', 'ISIC_0031222', 'ISIC_0026326', 'ISIC_0032102', 'ISIC_0032273', 'ISIC_0031299', 'ISIC_0028438', 'ISIC_0024830', 'ISIC_0028380', 'ISIC_0027924', 'ISIC_0031547', 'ISIC_0032221', 'ISIC_0030693', 'ISIC_0031649', 'ISIC_0029417', 'ISIC_0029915', 'ISIC_0029360', 'ISIC_0026152', 'ISIC_0026575', 'ISIC_0030586', 'ISIC_0025178', 'ISIC_0028730', 'ISIC_0029041', 'ISIC_0031040', 'ISIC_0031929', 'ISIC_0032173', 'ISIC_0033456', 'ISIC_0030408', 'ISIC_0027795', 'ISIC_0024913', 'ISIC_0032329', 'ISIC_0031198', 'ISIC_0026872', 'ISIC_0031191', 'ISIC_0025948', 'ISIC_0030242', 'ISIC_0031119', 'ISIC_0024562', 'ISIC_0026362', 'ISIC_0030297', 'ISIC_0027084', 'ISIC_0030714', 'ISIC_0028158', 'ISIC_0028231', 'ISIC_0026411', 'ISIC_0029634', 'ISIC_0031918', 'ISIC_0030803', 'ISIC_0025831', 'ISIC_0027231', 'ISIC_0027719', 'ISIC_0024843', 'ISIC_0028381', 'ISIC_0031874', 'ISIC_0032437', 'ISIC_0025069', 'ISIC_0027700', 'ISIC_0025411', 'ISIC_0030076', 'ISIC_0028816', 'ISIC_0028232', 'ISIC_0029067', 'ISIC_0026927', 'ISIC_0025539', 'ISIC_0030191', 'ISIC_0031043', 'ISIC_0025331', 'ISIC_0025696', 'ISIC_0032455', 'ISIC_0031738', 'ISIC_0029930', 'ISIC_0026327', 'ISIC_0027678', 'ISIC_0032349', 'ISIC_0029362', 'ISIC_0028132', 'ISIC_0029541', 'ISIC_0027958', 'ISIC_0027896', 'ISIC_0030827', 'ISIC_0031940', 'ISIC_0029582', 'ISIC_0026729', 'ISIC_0028372', 'ISIC_0027506', 'ISIC_0026625', 'ISIC_0028854', 'ISIC_0031044', 'ISIC_0025712', 'ISIC_0025358', 'ISIC_0031852', 'ISIC_0031609', 'ISIC_0032422', 'ISIC_0030826', 'ISIC_0031012', 'ISIC_0029533', 'ISIC_0024372', 'ISIC_0024707', 'ISIC_0026992', 'ISIC_0029563', 'ISIC_0030491', 'ISIC_0029715', 'ISIC_0029860', 'ISIC_0027650', 'ISIC_0030341', 'ISIC_0024517', 'ISIC_0025825', 'ISIC_0027303', 'ISIC_0024710', 'ISIC_0029315', 'ISIC_0029811', 'ISIC_0024450', 'ISIC_0031743', 'ISIC_0026522', 'ISIC_0024771', 'ISIC_0027753', 'ISIC_0026492', 'ISIC_0026466', 'ISIC_0029932', 'ISIC_0030375', 'ISIC_0030175', 'ISIC_0024575', 'ISIC_0031335', 'ISIC_0031692', 'ISIC_0032203', 'ISIC_0025089', 'ISIC_0027178', 'ISIC_0028314', 'ISIC_0026138', 'ISIC_0029371', 'ISIC_0031659', 'ISIC_0024946', 'ISIC_0030707', 'ISIC_0031211', 'ISIC_0028872', 'ISIC_0030953', 'ISIC_0025196', 'ISIC_0030821', 'ISIC_0031292', 'ISIC_0026083', 'ISIC_0029059', 'ISIC_0025182', 'ISIC_0031570', 'ISIC_0024418', 'ISIC_0027343', 'ISIC_0027172', 'ISIC_0028644', 'ISIC_0032277', 'ISIC_0025953', 'ISIC_0026203', 'ISIC_0025811', 'ISIC_0033494', 'ISIC_0026212', 'ISIC_0026014', 'ISIC_0032371', 'ISIC_0029610', 'ISIC_0033413', 'ISIC_0030785', 'ISIC_0029840', 'ISIC_0027047', 'ISIC_0030143', 'ISIC_0029210', 'ISIC_0032154', 'ISIC_0026549', 'ISIC_0032356', 'ISIC_0026100', 'ISIC_0029567', 'ISIC_0024522', 'ISIC_0030387', 'ISIC_0031381', 'ISIC_0029851', 'ISIC_0029279', 'ISIC_0028558', 'ISIC_0027529', 'ISIC_0024463', 'ISIC_0028795', 'ISIC_0029573', 'ISIC_0031578', 'ISIC_0032397', 'ISIC_0030245', 'ISIC_0026720', 'ISIC_0030487', 'ISIC_0032238', 'ISIC_0031672', 'ISIC_0030986', 'ISIC_0031431', 'ISIC_0026149', 'ISIC_0025992', 'ISIC_0029268', 'ISIC_0029598', 'ISIC_0029002', 'ISIC_0029781', 'ISIC_0026525', 'ISIC_0026709', 'ISIC_0032897', 'ISIC_0026206', 'ISIC_0026319', 'ISIC_0025319', 'ISIC_0030730', 'ISIC_0025247', 'ISIC_0029043', 'ISIC_0026178', 'ISIC_0032014', 'ISIC_0027184', 'ISIC_0029462', 'ISIC_0028499', 'ISIC_0031421', 'ISIC_0027447', 'ISIC_0027536', 'ISIC_0025577', 'ISIC_0030591', 'ISIC_0024579', 'ISIC_0029638', 'ISIC_0025029', 'ISIC_0026388', 'ISIC_0026132', 'ISIC_0025790', 'ISIC_0024923', 'ISIC_0026626', 'ISIC_0028335', 'ISIC_0027580', 'ISIC_0025803', 'ISIC_0026981', 'ISIC_0031286', 'ISIC_0030158', 'ISIC_0029900', 'ISIC_0029549', 'ISIC_0026905', 'ISIC_0024470', 'ISIC_0024646', 'ISIC_0033000', 'ISIC_0033295', 'ISIC_0031228', 'ISIC_0024763', 'ISIC_0028076', 'ISIC_0030142', 'ISIC_0024468', 'ISIC_0025471', 'ISIC_0031823', 'ISIC_0028063', 'ISIC_0027930', 'ISIC_0027802', 'ISIC_0024329', 'ISIC_0024925', 'ISIC_0029460', 'ISIC_0030844', 'ISIC_0031993', 'ISIC_0029500', 'ISIC_0032404', 'ISIC_0025957', 'ISIC_0031927', 'ISIC_0025605', 'ISIC_0024800', 'ISIC_0030344', 'ISIC_0025264', 'ISIC_0026171', 'ISIC_0026457', 'ISIC_0026848', 'ISIC_0024539', 'ISIC_0028763', 'ISIC_0029133', 'ISIC_0027767', 'ISIC_0027294', 'ISIC_0027668', 'ISIC_0025427', 'ISIC_0032135', 'ISIC_0028941', 'ISIC_0030463', 'ISIC_0029827', 'ISIC_0026468', 'ISIC_0027452', 'ISIC_0026984', 'ISIC_0032206', 'ISIC_0032199', 'ISIC_0033869', 'ISIC_0026857', 'ISIC_0030825', 'ISIC_0029713', 'ISIC_0033866', 'ISIC_0030036', 'ISIC_0024654', 'ISIC_0028820', 'ISIC_0027829', 'ISIC_0031506', 'ISIC_0027254', 'ISIC_0025368', 'ISIC_0026194', 'ISIC_0024511', 'ISIC_0026040', 'ISIC_0029830', 'ISIC_0027884', 'ISIC_0028517', 'ISIC_0031108', 'ISIC_0027588', 'ISIC_0029025', 'ISIC_0030133', 'ISIC_0033811', 'ISIC_0026650', 'ISIC_0030877', 'ISIC_0027950', 'ISIC_0027615', 'ISIC_0028990', 'ISIC_0033358', 'ISIC_0030655', 'ISIC_0033151', 'ISIC_0031922', 'ISIC_0032947', 'ISIC_0029141', 'ISIC_0029309', 'ISIC_0028393', 'ISIC_0024948', 'ISIC_0028619', 'ISIC_0033705', 'ISIC_0031430', 'ISIC_0033084', 'ISIC_0033550', 'ISIC_0033536', 'ISIC_0032854', 'ISIC_0032258']\n"
          ]
        }
      ],
      "source": [
        "print(train_list)"
      ]
    },
    {
      "cell_type": "code",
      "execution_count": null,
      "metadata": {
        "colab": {
          "base_uri": "https://localhost:8080/",
          "height": 455
        },
        "id": "aj4ri9aVGXYg",
        "outputId": "9ea16a2a-d10e-427c-d4ae-51758880fee3"
      },
      "outputs": [
        {
          "data": {
            "text/html": [
              "\n",
              "  <div id=\"df-4110d179-d7df-4ff3-93eb-e988db5a1168\">\n",
              "    <div class=\"colab-df-container\">\n",
              "      <div>\n",
              "<style scoped>\n",
              "    .dataframe tbody tr th:only-of-type {\n",
              "        vertical-align: middle;\n",
              "    }\n",
              "\n",
              "    .dataframe tbody tr th {\n",
              "        vertical-align: top;\n",
              "    }\n",
              "\n",
              "    .dataframe thead th {\n",
              "        text-align: right;\n",
              "    }\n",
              "</style>\n",
              "<table border=\"1\" class=\"dataframe\">\n",
              "  <thead>\n",
              "    <tr style=\"text-align: right;\">\n",
              "      <th></th>\n",
              "      <th>lesion_id</th>\n",
              "      <th>dx</th>\n",
              "      <th>dx_type</th>\n",
              "      <th>age</th>\n",
              "      <th>sex</th>\n",
              "      <th>localization</th>\n",
              "      <th>is_duplicate</th>\n",
              "      <th>train_test_split</th>\n",
              "    </tr>\n",
              "    <tr>\n",
              "      <th>image_id</th>\n",
              "      <th></th>\n",
              "      <th></th>\n",
              "      <th></th>\n",
              "      <th></th>\n",
              "      <th></th>\n",
              "      <th></th>\n",
              "      <th></th>\n",
              "      <th></th>\n",
              "    </tr>\n",
              "  </thead>\n",
              "  <tbody>\n",
              "    <tr>\n",
              "      <th>ISIC_0027419</th>\n",
              "      <td>HAM_0000118</td>\n",
              "      <td>bkl</td>\n",
              "      <td>histo</td>\n",
              "      <td>80.0</td>\n",
              "      <td>male</td>\n",
              "      <td>scalp</td>\n",
              "      <td>duplicates</td>\n",
              "      <td>train</td>\n",
              "    </tr>\n",
              "    <tr>\n",
              "      <th>ISIC_0025030</th>\n",
              "      <td>HAM_0000118</td>\n",
              "      <td>bkl</td>\n",
              "      <td>histo</td>\n",
              "      <td>80.0</td>\n",
              "      <td>male</td>\n",
              "      <td>scalp</td>\n",
              "      <td>duplicates</td>\n",
              "      <td>train</td>\n",
              "    </tr>\n",
              "    <tr>\n",
              "      <th>ISIC_0026769</th>\n",
              "      <td>HAM_0002730</td>\n",
              "      <td>bkl</td>\n",
              "      <td>histo</td>\n",
              "      <td>80.0</td>\n",
              "      <td>male</td>\n",
              "      <td>scalp</td>\n",
              "      <td>duplicates</td>\n",
              "      <td>train</td>\n",
              "    </tr>\n",
              "    <tr>\n",
              "      <th>ISIC_0025661</th>\n",
              "      <td>HAM_0002730</td>\n",
              "      <td>bkl</td>\n",
              "      <td>histo</td>\n",
              "      <td>80.0</td>\n",
              "      <td>male</td>\n",
              "      <td>scalp</td>\n",
              "      <td>duplicates</td>\n",
              "      <td>train</td>\n",
              "    </tr>\n",
              "    <tr>\n",
              "      <th>ISIC_0031633</th>\n",
              "      <td>HAM_0001466</td>\n",
              "      <td>bkl</td>\n",
              "      <td>histo</td>\n",
              "      <td>75.0</td>\n",
              "      <td>male</td>\n",
              "      <td>ear</td>\n",
              "      <td>duplicates</td>\n",
              "      <td>train</td>\n",
              "    </tr>\n",
              "    <tr>\n",
              "      <th>...</th>\n",
              "      <td>...</td>\n",
              "      <td>...</td>\n",
              "      <td>...</td>\n",
              "      <td>...</td>\n",
              "      <td>...</td>\n",
              "      <td>...</td>\n",
              "      <td>...</td>\n",
              "      <td>...</td>\n",
              "    </tr>\n",
              "    <tr>\n",
              "      <th>ISIC_0033084</th>\n",
              "      <td>HAM_0002867</td>\n",
              "      <td>akiec</td>\n",
              "      <td>histo</td>\n",
              "      <td>40.0</td>\n",
              "      <td>male</td>\n",
              "      <td>abdomen</td>\n",
              "      <td>duplicates</td>\n",
              "      <td>train</td>\n",
              "    </tr>\n",
              "    <tr>\n",
              "      <th>ISIC_0033550</th>\n",
              "      <td>HAM_0002867</td>\n",
              "      <td>akiec</td>\n",
              "      <td>histo</td>\n",
              "      <td>40.0</td>\n",
              "      <td>male</td>\n",
              "      <td>abdomen</td>\n",
              "      <td>duplicates</td>\n",
              "      <td>train</td>\n",
              "    </tr>\n",
              "    <tr>\n",
              "      <th>ISIC_0033536</th>\n",
              "      <td>HAM_0002867</td>\n",
              "      <td>akiec</td>\n",
              "      <td>histo</td>\n",
              "      <td>40.0</td>\n",
              "      <td>male</td>\n",
              "      <td>abdomen</td>\n",
              "      <td>duplicates</td>\n",
              "      <td>train</td>\n",
              "    </tr>\n",
              "    <tr>\n",
              "      <th>ISIC_0032854</th>\n",
              "      <td>HAM_0000239</td>\n",
              "      <td>akiec</td>\n",
              "      <td>histo</td>\n",
              "      <td>80.0</td>\n",
              "      <td>male</td>\n",
              "      <td>face</td>\n",
              "      <td>duplicates</td>\n",
              "      <td>train</td>\n",
              "    </tr>\n",
              "    <tr>\n",
              "      <th>ISIC_0032258</th>\n",
              "      <td>HAM_0003521</td>\n",
              "      <td>mel</td>\n",
              "      <td>histo</td>\n",
              "      <td>70.0</td>\n",
              "      <td>female</td>\n",
              "      <td>back</td>\n",
              "      <td>duplicates</td>\n",
              "      <td>train</td>\n",
              "    </tr>\n",
              "  </tbody>\n",
              "</table>\n",
              "<p>10015 rows × 8 columns</p>\n",
              "</div>\n",
              "      <button class=\"colab-df-convert\" onclick=\"convertToInteractive('df-4110d179-d7df-4ff3-93eb-e988db5a1168')\"\n",
              "              title=\"Convert this dataframe to an interactive table.\"\n",
              "              style=\"display:none;\">\n",
              "        \n",
              "  <svg xmlns=\"http://www.w3.org/2000/svg\" height=\"24px\"viewBox=\"0 0 24 24\"\n",
              "       width=\"24px\">\n",
              "    <path d=\"M0 0h24v24H0V0z\" fill=\"none\"/>\n",
              "    <path d=\"M18.56 5.44l.94 2.06.94-2.06 2.06-.94-2.06-.94-.94-2.06-.94 2.06-2.06.94zm-11 1L8.5 8.5l.94-2.06 2.06-.94-2.06-.94L8.5 2.5l-.94 2.06-2.06.94zm10 10l.94 2.06.94-2.06 2.06-.94-2.06-.94-.94-2.06-.94 2.06-2.06.94z\"/><path d=\"M17.41 7.96l-1.37-1.37c-.4-.4-.92-.59-1.43-.59-.52 0-1.04.2-1.43.59L10.3 9.45l-7.72 7.72c-.78.78-.78 2.05 0 2.83L4 21.41c.39.39.9.59 1.41.59.51 0 1.02-.2 1.41-.59l7.78-7.78 2.81-2.81c.8-.78.8-2.07 0-2.86zM5.41 20L4 18.59l7.72-7.72 1.47 1.35L5.41 20z\"/>\n",
              "  </svg>\n",
              "      </button>\n",
              "      \n",
              "  <style>\n",
              "    .colab-df-container {\n",
              "      display:flex;\n",
              "      flex-wrap:wrap;\n",
              "      gap: 12px;\n",
              "    }\n",
              "\n",
              "    .colab-df-convert {\n",
              "      background-color: #E8F0FE;\n",
              "      border: none;\n",
              "      border-radius: 50%;\n",
              "      cursor: pointer;\n",
              "      display: none;\n",
              "      fill: #1967D2;\n",
              "      height: 32px;\n",
              "      padding: 0 0 0 0;\n",
              "      width: 32px;\n",
              "    }\n",
              "\n",
              "    .colab-df-convert:hover {\n",
              "      background-color: #E2EBFA;\n",
              "      box-shadow: 0px 1px 2px rgba(60, 64, 67, 0.3), 0px 1px 3px 1px rgba(60, 64, 67, 0.15);\n",
              "      fill: #174EA6;\n",
              "    }\n",
              "\n",
              "    [theme=dark] .colab-df-convert {\n",
              "      background-color: #3B4455;\n",
              "      fill: #D2E3FC;\n",
              "    }\n",
              "\n",
              "    [theme=dark] .colab-df-convert:hover {\n",
              "      background-color: #434B5C;\n",
              "      box-shadow: 0px 1px 3px 1px rgba(0, 0, 0, 0.15);\n",
              "      filter: drop-shadow(0px 1px 2px rgba(0, 0, 0, 0.3));\n",
              "      fill: #FFFFFF;\n",
              "    }\n",
              "  </style>\n",
              "\n",
              "      <script>\n",
              "        const buttonEl =\n",
              "          document.querySelector('#df-4110d179-d7df-4ff3-93eb-e988db5a1168 button.colab-df-convert');\n",
              "        buttonEl.style.display =\n",
              "          google.colab.kernel.accessAllowed ? 'block' : 'none';\n",
              "\n",
              "        async function convertToInteractive(key) {\n",
              "          const element = document.querySelector('#df-4110d179-d7df-4ff3-93eb-e988db5a1168');\n",
              "          const dataTable =\n",
              "            await google.colab.kernel.invokeFunction('convertToInteractive',\n",
              "                                                     [key], {});\n",
              "          if (!dataTable) return;\n",
              "\n",
              "          const docLinkHtml = 'Like what you see? Visit the ' +\n",
              "            '<a target=\"_blank\" href=https://colab.research.google.com/notebooks/data_table.ipynb>data table notebook</a>'\n",
              "            + ' to learn more about interactive tables.';\n",
              "          element.innerHTML = '';\n",
              "          dataTable['output_type'] = 'display_data';\n",
              "          await google.colab.output.renderOutput(dataTable, element);\n",
              "          const docLink = document.createElement('div');\n",
              "          docLink.innerHTML = docLinkHtml;\n",
              "          element.appendChild(docLink);\n",
              "        }\n",
              "      </script>\n",
              "    </div>\n",
              "  </div>\n",
              "  "
            ],
            "text/plain": [
              "                lesion_id     dx dx_type   age     sex localization  \\\n",
              "image_id                                                              \n",
              "ISIC_0027419  HAM_0000118    bkl   histo  80.0    male        scalp   \n",
              "ISIC_0025030  HAM_0000118    bkl   histo  80.0    male        scalp   \n",
              "ISIC_0026769  HAM_0002730    bkl   histo  80.0    male        scalp   \n",
              "ISIC_0025661  HAM_0002730    bkl   histo  80.0    male        scalp   \n",
              "ISIC_0031633  HAM_0001466    bkl   histo  75.0    male          ear   \n",
              "...                   ...    ...     ...   ...     ...          ...   \n",
              "ISIC_0033084  HAM_0002867  akiec   histo  40.0    male      abdomen   \n",
              "ISIC_0033550  HAM_0002867  akiec   histo  40.0    male      abdomen   \n",
              "ISIC_0033536  HAM_0002867  akiec   histo  40.0    male      abdomen   \n",
              "ISIC_0032854  HAM_0000239  akiec   histo  80.0    male         face   \n",
              "ISIC_0032258  HAM_0003521    mel   histo  70.0  female         back   \n",
              "\n",
              "             is_duplicate train_test_split  \n",
              "image_id                                    \n",
              "ISIC_0027419   duplicates            train  \n",
              "ISIC_0025030   duplicates            train  \n",
              "ISIC_0026769   duplicates            train  \n",
              "ISIC_0025661   duplicates            train  \n",
              "ISIC_0031633   duplicates            train  \n",
              "...                   ...              ...  \n",
              "ISIC_0033084   duplicates            train  \n",
              "ISIC_0033550   duplicates            train  \n",
              "ISIC_0033536   duplicates            train  \n",
              "ISIC_0032854   duplicates            train  \n",
              "ISIC_0032258   duplicates            train  \n",
              "\n",
              "[10015 rows x 8 columns]"
            ]
          },
          "execution_count": 22,
          "metadata": {},
          "output_type": "execute_result"
        }
      ],
      "source": [
        "data_pd"
      ]
    },
    {
      "cell_type": "code",
      "execution_count": null,
      "metadata": {
        "colab": {
          "base_uri": "https://localhost:8080/",
          "height": 36
        },
        "id": "XtU93La1GGoK",
        "outputId": "28c45c96-5f1b-413a-c894-8e84358d9739"
      },
      "outputs": [
        {
          "data": {
            "application/vnd.google.colaboratory.intrinsic+json": {
              "type": "string"
            },
            "text/plain": [
              "'ISIC_0027419.jpg'"
            ]
          },
          "execution_count": 23,
          "metadata": {},
          "output_type": "execute_result"
        }
      ],
      "source": [
        "train_list[0]+'.jpg'"
      ]
    },
    {
      "cell_type": "code",
      "execution_count": null,
      "metadata": {
        "colab": {
          "base_uri": "https://localhost:8080/",
          "height": 36
        },
        "id": "EFjUi40GIG8_",
        "outputId": "4ffef639-0139-4b5a-c41b-649c76e447bd"
      },
      "outputs": [
        {
          "data": {
            "application/vnd.google.colaboratory.intrinsic+json": {
              "type": "string"
            },
            "text/plain": [
              "'/content/drive/MyDrive/Skin_Cancer_Classification_CapsNet/HAM10000/train_dir'"
            ]
          },
          "execution_count": 24,
          "metadata": {},
          "output_type": "execute_result"
        }
      ],
      "source": [
        "train_dir"
      ]
    },
    {
      "cell_type": "code",
      "execution_count": null,
      "metadata": {
        "id": "7Yrp_M5XRW8Y"
      },
      "outputs": [],
      "source": [
        "# for image in train_list:\n",
        "#     file_name = image+'.jpg'\n",
        "#     dir1 = \"/content/drive/MyDrive/Skin Cancer/HAM10000_images_part_1\"\n",
        "#     dir2 = \"/content/drive/MyDrive/Skin Cancer/HAM10000_images_part_2\"\n",
        "#     label = data_pd.loc[image, 'dx']\n",
        "\n",
        "#     # path of source image \n",
        "#     source = os.path.join(dir1, file_name)\n",
        "#     source = os.path.join(dir2, file_name)\n",
        "\n",
        "#     # copying the image from the source to target file\n",
        "#     target = os.path.join(train_dir, label, file_name)\n",
        "\n",
        "#     copy(source, target)"
      ]
    },
    {
      "cell_type": "code",
      "execution_count": null,
      "metadata": {
        "id": "F_Lj-RXUReqI"
      },
      "outputs": [],
      "source": [
        "import os\n",
        "from shutil import copy\n",
        "from multiprocessing import Pool\n",
        "\n",
        "train_dir = \"/content/drive/MyDrive/Skin_Cancer_Classification_CapsNet/HAM10000/train_dir\"\n",
        "\n",
        "def copy_image(image):\n",
        "    file_name = image + '.jpg'\n",
        "    label = data_pd.loc[image, 'dx']\n",
        "\n",
        "    # Define the possible directories where the source image may exist\n",
        "    dir1 = \"/content/drive/MyDrive/Skin Cancer/HAM10000_images_part_1\"\n",
        "    dir2 = \"/content/drive/MyDrive/Skin Cancer/HAM10000_images_part_2\"\n",
        "\n",
        "    # Check if the image file exists in directory1\n",
        "    source = os.path.join(dir1, file_name)\n",
        "    if os.path.exists(source):\n",
        "        # Copy the image from the source to the target file\n",
        "        target = os.path.join(train_dir, label, file_name)\n",
        "        copy(source, target)\n",
        "    else:\n",
        "        # If the image file does not exist in directory1, check directory2\n",
        "        source = os.path.join(dir2, file_name)\n",
        "        if os.path.exists(source):\n",
        "            # Copy the image from the source to the target file\n",
        "            target = os.path.join(train_dir, label, file_name)\n",
        "            copy(source, target)\n",
        "        else:\n",
        "            print(f\"Image file '{file_name}' not found in either directory.\")\n",
        "\n",
        "# Use multiprocessing to parallelize the copying process\n",
        "if __name__ == '__main__':\n",
        "    with Pool() as pool:\n",
        "        pool.map(copy_image, train_list)\n"
      ]
    },
    {
      "cell_type": "code",
      "execution_count": null,
      "metadata": {
        "id": "ZE8XFl8TsawD"
      },
      "outputs": [],
      "source": [
        "import os\n",
        "from shutil import copy\n",
        "from multiprocessing import Pool\n",
        "\n",
        "train_dir = \"/content/drive/MyDrive/Skin_Cancer_Classification_CapsNet/HAM10000/test_dir\"\n",
        "\n",
        "def copy_image(image):\n",
        "    file_name = image + '.jpg'\n",
        "    label = data_pd.loc[image, 'dx']\n",
        "\n",
        "    # Define the possible directories where the source image may exist\n",
        "    dir1 = \"/content/drive/MyDrive/Skin Cancer/HAM10000_images_part_1\"\n",
        "    dir2 = \"/content/drive/MyDrive/Skin Cancer/HAM10000_images_part_2\"\n",
        "\n",
        "    # Check if the image file exists in directory1\n",
        "    source = os.path.join(dir1, file_name)\n",
        "    if os.path.exists(source):\n",
        "        # Copy the image from the source to the target file\n",
        "        target = os.path.join(test_dir, label, file_name)\n",
        "        copy(source, target)\n",
        "    else:\n",
        "        # If the image file does not exist in directory1, check directory2\n",
        "        source = os.path.join(dir2, file_name)\n",
        "        if os.path.exists(source):\n",
        "            # Copy the image from the source to the target file\n",
        "            target = os.path.join(test_dir, label, file_name)\n",
        "            copy(source, target)\n",
        "        else:\n",
        "            print(f\"Image file '{file_name}' not found in either directory.\")\n",
        "\n",
        "# Use multiprocessing to parallelize the copying process\n",
        "if __name__ == '__main__':\n",
        "    with Pool() as pool:\n",
        "        pool.map(copy_image, test_list)\n"
      ]
    },
    {
      "cell_type": "code",
      "execution_count": null,
      "metadata": {
        "id": "9Nfx5PNgWxR4"
      },
      "outputs": [],
      "source": []
    },
    {
      "cell_type": "code",
      "execution_count": null,
      "metadata": {
        "id": "jueeb3c4J3aZ"
      },
      "outputs": [],
      "source": []
    },
    {
      "cell_type": "code",
      "execution_count": null,
      "metadata": {
        "id": "ei6oxcAJJ38C"
      },
      "outputs": [],
      "source": []
    },
    {
      "cell_type": "markdown",
      "metadata": {
        "id": "vE14BOC6J4LM"
      },
      "source": [
        "## Training Data"
      ]
    },
    {
      "cell_type": "code",
      "execution_count": null,
      "metadata": {
        "id": "KbEw2A2_YL2w"
      },
      "outputs": [],
      "source": [
        "import matplotlib.pyplot as plt\n",
        "from PIL import Image\n",
        "import numpy as np\n",
        "import pandas as pd\n",
        "import os\n",
        "from shutil import copy, rmtree \n",
        "import tensorflow as tf\n",
        "# import cv2"
      ]
    },
    {
      "cell_type": "code",
      "execution_count": null,
      "metadata": {
        "id": "TOBa-dgpYL50"
      },
      "outputs": [],
      "source": [
        "def mk_file(file_path: str):\n",
        "    if os.path.exists(file_path):\n",
        "        rmtree(file_path)\n",
        "    os.makedirs(file_path)"
      ]
    },
    {
      "cell_type": "code",
      "execution_count": null,
      "metadata": {
        "id": "qNQCi--PYX_R"
      },
      "outputs": [],
      "source": [
        "# Source directory\n",
        "cwd = \"/content/drive/MyDrive/Skin_Cancer_Classification_CapsNet/HAM10000\"\n",
        "data_root = os.path.abspath(cwd)\n",
        "origin_data_path = os.path.join(data_root, \"train_dir\")\n",
        "assert os.path.exists(origin_data_path), \"Path '{}' does not exist.\".format(origin_data_path)"
      ]
    },
    {
      "cell_type": "code",
      "execution_count": null,
      "metadata": {
        "colab": {
          "base_uri": "https://localhost:8080/"
        },
        "id": "KQvOLCBWw0Wp",
        "outputId": "0feb7eb2-ede4-460b-f2c0-01453a183b47"
      },
      "outputs": [
        {
          "data": {
            "text/plain": [
              "['akiec', 'bcc', 'bkl', 'df', 'mel', 'nv', 'vasc']"
            ]
          },
          "execution_count": 30,
          "metadata": {},
          "output_type": "execute_result"
        }
      ],
      "source": [
        "data_class = [cla for cla in os.listdir(origin_data_path)\n",
        "                if os.path.isdir(os.path.join(origin_data_path, cla))]\n",
        "data_class"
      ]
    },
    {
      "cell_type": "code",
      "execution_count": null,
      "metadata": {
        "colab": {
          "base_uri": "https://localhost:8080/"
        },
        "id": "0cXfRbgmfMIy",
        "outputId": "dd69ec7e-85bf-4f7b-bbc7-b7846c033a96"
      },
      "outputs": [
        {
          "name": "stdout",
          "output_type": "stream",
          "text": [
            "akiec  bcc  bkl  df  mel  nv  vasc\n"
          ]
        }
      ],
      "source": [
        "# Augmentation directory\n",
        "train_root = os.path.join(data_root,\"8000_train\")\n",
        "mk_file(train_root)\n",
        "for cla in data_class:\n",
        "    mk_file(os.path.join(train_root, cla))\n",
        "!ls {train_root}"
      ]
    },
    {
      "cell_type": "code",
      "execution_count": null,
      "metadata": {
        "colab": {
          "base_uri": "https://localhost:8080/",
          "height": 36
        },
        "id": "AnvrEm3mfNXQ",
        "outputId": "05a0ddfc-9f6b-433b-85e2-77bb36e51ce0"
      },
      "outputs": [
        {
          "data": {
            "application/vnd.google.colaboratory.intrinsic+json": {
              "type": "string"
            },
            "text/plain": [
              "'/content/drive/MyDrive/Skin_Cancer_Classification_CapsNet/HAM10000/train_dir'"
            ]
          },
          "execution_count": 32,
          "metadata": {},
          "output_type": "execute_result"
        }
      ],
      "source": [
        "origin_data_path"
      ]
    },
    {
      "cell_type": "code",
      "execution_count": null,
      "metadata": {
        "colab": {
          "base_uri": "https://localhost:8080/",
          "height": 36
        },
        "id": "RzZ2uzlyykJH",
        "outputId": "63d8904a-ae3d-42c0-c1d0-e40aaa0b9ac4"
      },
      "outputs": [
        {
          "data": {
            "application/vnd.google.colaboratory.intrinsic+json": {
              "type": "string"
            },
            "text/plain": [
              "'/content/drive/MyDrive/Skin_Cancer_Classification_CapsNet/HAM10000/8000_train'"
            ]
          },
          "execution_count": 33,
          "metadata": {},
          "output_type": "execute_result"
        }
      ],
      "source": [
        "train_root"
      ]
    },
    {
      "cell_type": "markdown",
      "metadata": {
        "id": "6vF7KxXIJ8vz"
      },
      "source": [
        "## Augmentation of Images 8000 per class "
      ]
    },
    {
      "cell_type": "code",
      "execution_count": null,
      "metadata": {
        "colab": {
          "base_uri": "https://localhost:8080/"
        },
        "id": "rLwfTTbFypmp",
        "outputId": "5ee3a802-c2d7-4dd2-f2a5-b61dd809a976"
      },
      "outputs": [
        {
          "name": "stdout",
          "output_type": "stream",
          "text": [
            "Found 304 images belonging to 1 classes.\n",
            "Found 488 images belonging to 1 classes.\n",
            "Found 1033 images belonging to 1 classes.\n",
            "Found 109 images belonging to 1 classes.\n",
            "Found 1079 images belonging to 1 classes.\n",
            "Found 6042 images belonging to 1 classes.\n",
            "Found 132 images belonging to 1 classes.\n"
          ]
        }
      ],
      "source": [
        "# Augmenting images and storing them in temporary directories \n",
        "for img_class in data_class:\n",
        "\n",
        "    #creating temporary directories\n",
        "    # creating a base directory\n",
        "    aug_dir = \"/content/drive/MyDrive/Skin_Cancer_Classification_CapsNet/HAM10000/aug_dir\"   \n",
        "    # creating a subdirectory inside the base directory for images of the same class\n",
        "    img_dir = os.path.join(aug_dir, 'img_dir')\n",
        "\n",
        "    mk_file(img_dir)\n",
        "    \n",
        "    cla_path = os.path.join(origin_data_path,img_class)\n",
        "    img_list = os.listdir(cla_path)\n",
        "\n",
        "    # Copy images from the class train dir to the img_dir \n",
        "    for index, image in enumerate(img_list):\n",
        "    # for file_name in img_list:\n",
        "\n",
        "        # path of source image in training directory\n",
        "        image_path = os.path.join(cla_path,image)\n",
        "        # source = os.path.join(train_dir,img_class, file_name)\n",
        "\n",
        "        # creating a target directory to send images \n",
        "        tag_path = os.path.join(data_root,img_dir,image)\n",
        "        # target = os.path.join(img_dir, file_name)\n",
        "\n",
        "        # copying the image from the source to target file\n",
        "        copy(image_path, tag_path)\n",
        "\n",
        "    # Temporary augumented dataset directory.\n",
        "    source_path = os.path.join(data_root,aug_dir)\n",
        "\n",
        "    # Augmented images will be saved to training directory\n",
        "    save_path = os.path.join(train_root,img_class)\n",
        "    # save_path = train_dir + img_class\n",
        "\n",
        "    # Creating Image Data Generator to augment images\n",
        "    datagen = tf.keras.preprocessing.image.ImageDataGenerator(\n",
        "\n",
        "        rotation_range=180,\n",
        "        width_shift_range=0.1,\n",
        "        height_shift_range=0.1,\n",
        "        zoom_range=0.1,\n",
        "        horizontal_flip=True,\n",
        "        vertical_flip=True,\n",
        "        fill_mode='nearest'\n",
        "\n",
        "    )\n",
        "\n",
        "    batch_size = 20\n",
        "\n",
        "    aug_datagen = datagen.flow_from_directory(source_path,save_to_dir=save_path,save_format='jpg',save_prefix='trans_',target_size=(299, 299),batch_size=batch_size)\n",
        "\n",
        "    # Generate the augmented images. Default:8000->51699\n",
        "    aug_images = 8000 #29263\n",
        "    \n",
        "    num_files = len(img_list)\n",
        "    # num_files = len(os.listdir(img_dir))\n",
        "    num_batches = int(np.ceil((aug_images - num_files) / batch_size))\n",
        "\n",
        "    # creating 8000 augmented images per class\n",
        "    for i in range(0, num_batches):\n",
        "        images, labels = next(aug_datagen)\n",
        "\n",
        "    # delete temporary directory \n",
        "    rmtree(aug_dir)"
      ]
    },
    {
      "cell_type": "code",
      "execution_count": null,
      "metadata": {
        "colab": {
          "base_uri": "https://localhost:8080/"
        },
        "id": "NSnENVYXzoCC",
        "outputId": "afe74202-31bd-41ce-866c-0a4203451630"
      },
      "outputs": [
        {
          "name": "stdout",
          "output_type": "stream",
          "text": [
            "[akiec] processing [7316/7316]\n",
            "[bcc] processing [7340/7340]\n",
            "[bkl] processing [6938/6938]\n",
            "[df] processing [7185/7185]\n",
            "[mel] processing [6934/6934]\n",
            "[nv] processing [1960/1960]\n",
            "[vasc] processing [7432/7432]\n",
            "processing 45105 done!\n"
          ]
        }
      ],
      "source": [
        "# detect \n",
        "total_num = 0\n",
        "for cla in data_class:\n",
        "    cla_path = os.path.join(train_root, cla)\n",
        "    images = os.listdir(cla_path)\n",
        "    num = len(images)\n",
        "    total_num += num\n",
        "    for index, image in enumerate(images):\n",
        " \n",
        "        print(\"\\r[{}] processing [{}/{}]\".format(cla, index+1, num), end=\"\")  # processing bar\n",
        "    # break\n",
        "    print()\n",
        "\n",
        "print(f\"processing {total_num} done!\")"
      ]
    },
    {
      "cell_type": "code",
      "execution_count": null,
      "metadata": {
        "colab": {
          "base_uri": "https://localhost:8080/"
        },
        "id": "TA6Jkxps8bGs",
        "outputId": "36ad1c94-e552-4ff1-f97c-d44c6da690da"
      },
      "outputs": [
        {
          "name": "stdout",
          "output_type": "stream",
          "text": [
            "[akiec] processing [304/304]\n",
            "[bcc] processing [488/488]\n",
            "[bkl] processing [1033/1033]\n",
            "[df] processing [109/109]\n",
            "[mel] processing [1079/1079]\n",
            "[nv] processing [6042/6042]\n",
            "[vasc] processing [132/132]\n",
            "processing 9187 done!\n"
          ]
        }
      ],
      "source": [
        "# copy origin_data_path(9187) to train_root().\n",
        "total_num = 0\n",
        "for cla in data_class:\n",
        "\n",
        "    cla_path = os.path.join(origin_data_path, cla)\n",
        "    images = os.listdir(cla_path)\n",
        "    num = len(images)\n",
        "    total_num += num\n",
        "    for index, image in enumerate(images):\n",
        "        image_path = os.path.join(cla_path, image)\n",
        "        img_name = image_path.split('/')[-1].split(\".\")[0]\n",
        "        savepath = os.path.join(train_root, cla,img_name + \".jpg\")\n",
        "\n",
        "        img = Image.open(image_path)\n",
        "        img = img.resize((299, 299), resample=Image.LANCZOS)\n",
        "        img.save(savepath,quality=100)\n",
        "        # png\n",
        "        # cv2.imwrite(savepath,img, [int(cv2.IMWRITE_PNG_COMPRESSION), 1])\n",
        "        # cv2.resize()\n",
        "        # jpg\n",
        "        # cv2.imwrite(savepath,img,[int(cv2.IMWRITE_JPEG_QUALITY),100])\n",
        "\n",
        "        print(\"\\r[{}] processing [{}/{}]\".format(cla, index+1, num), end=\"\")  # processing bar\n",
        "    # break\n",
        "    print()\n",
        "\n",
        "print(f\"processing {total_num} done!\")"
      ]
    },
    {
      "cell_type": "code",
      "execution_count": null,
      "metadata": {
        "colab": {
          "base_uri": "https://localhost:8080/"
        },
        "id": "-01wYCcL8nr3",
        "outputId": "f489fbe2-a63b-4891-eba8-e4d897aa95b5"
      },
      "outputs": [
        {
          "name": "stdout",
          "output_type": "stream",
          "text": [
            "Number of JPG images: 54292\n"
          ]
        }
      ],
      "source": [
        "import glob\n",
        "\n",
        "def count_jpg_images(directory):\n",
        "    image_files = glob.glob(directory + '/**/*.jpg', recursive=True)\n",
        "    return len(image_files)\n",
        "\n",
        "directory = \"/content/drive/MyDrive/Skin_Cancer_Classification_CapsNet/HAM10000/8000_train\"\n",
        "image_count = count_jpg_images(directory)\n",
        "print(\"Number of JPG images:\", image_count)\n"
      ]
    },
    {
      "cell_type": "code",
      "execution_count": null,
      "metadata": {
        "id": "CEesaHdra7uN"
      },
      "outputs": [],
      "source": []
    },
    {
      "cell_type": "code",
      "execution_count": null,
      "metadata": {
        "id": "74FD9VWWO2ir"
      },
      "outputs": [],
      "source": []
    },
    {
      "cell_type": "code",
      "execution_count": null,
      "metadata": {
        "id": "nrWkUmjohfWc"
      },
      "outputs": [],
      "source": []
    },
    {
      "cell_type": "markdown",
      "metadata": {
        "id": "w5mVvWX1JxA5"
      },
      "source": [
        "## Testing Data"
      ]
    },
    {
      "cell_type": "code",
      "execution_count": null,
      "metadata": {
        "id": "QRYzT-UrgurV"
      },
      "outputs": [],
      "source": [
        "import matplotlib.pyplot as plt\n",
        "import numpy as np\n",
        "import pandas as pd\n",
        "from PIL import Image\n",
        "from pathlib import Path\n",
        "import os\n",
        "from shutil import copy, rmtree, move\n",
        "import random\n",
        "import cv2"
      ]
    },
    {
      "cell_type": "code",
      "execution_count": null,
      "metadata": {
        "id": "MsLbgz9mhRr6"
      },
      "outputs": [],
      "source": [
        "def display(image):\n",
        "    fig=plt.figure(figsize=(4,3))\n",
        "    ax=fig.add_subplot(111)\n",
        "    ax.imshow(image)\n",
        "def img_bgr(image):\n",
        "    (B,G,R) = cv2.split(image)\n",
        "    return B,G,R\n",
        "def img_rotate(img,ro=15,savepath=\"Rotated.jpg\"):\n",
        "    rotated = imutils.rotate_bound(img, ro)\n",
        "    cv2.imwrite(savepath,rotated)\n",
        "def img_rgb(image):\n",
        "    image = cv2.cvtColor(image,cv2.COLOR_BGR2RGB)\n",
        "    return image\n",
        "def img_svd(img,k=90):\n",
        "    u,s,v = np.linalg.svd(img,full_matrices=0)\n",
        "    img = np.dot(u[:,:k]*s[:k],v[:k,:]).astype(np.uint8)\n",
        "    return img\n",
        "def img_merged(B,G,R):\n",
        "    merged = cv2.merge([B,G,R])\n",
        "    return merged\n",
        "def mk_file(file_path: str):\n",
        "    if os.path.exists(file_path):\n",
        "        rmtree(file_path)\n",
        "    os.makedirs(file_path)\n"
      ]
    },
    {
      "cell_type": "code",
      "execution_count": null,
      "metadata": {
        "id": "mWOHI_GkhXit"
      },
      "outputs": [],
      "source": [
        "# Source directory\n",
        "cwd = \"/content/drive/MyDrive/Skin_Cancer_Classification_CapsNet/HAM10000\"\n",
        "data_root = os.path.abspath(cwd)\n",
        "origin_data_path = os.path.join(data_root, \"test_dir\")\n",
        "assert os.path.exists(origin_data_path), \"Path '{}' does not exist.\".format(origin_data_path)"
      ]
    },
    {
      "cell_type": "code",
      "execution_count": null,
      "metadata": {
        "id": "v0peeIK6ig7G"
      },
      "outputs": [],
      "source": [
        "data_class = [cla for cla in os.listdir(origin_data_path)\n",
        "                if os.path.isdir(os.path.join(origin_data_path, cla))]"
      ]
    },
    {
      "cell_type": "code",
      "execution_count": null,
      "metadata": {
        "id": "i8P-G313ikt1"
      },
      "outputs": [],
      "source": [
        "train_root = os.path.join(data_root,\"testimg45\")\n",
        "mk_file(train_root)\n",
        "for cla in data_class:\n",
        "    mk_file(os.path.join(train_root, cla))"
      ]
    },
    {
      "cell_type": "code",
      "execution_count": null,
      "metadata": {
        "colab": {
          "base_uri": "https://localhost:8080/"
        },
        "id": "t6h2tp7ciwNd",
        "outputId": "8758b04b-497d-4e71-ecc6-29a347726161"
      },
      "outputs": [
        {
          "name": "stdout",
          "output_type": "stream",
          "text": [
            "[akiec] processing [23/23]\n",
            "[bcc] processing [26/26]\n",
            "[bkl] processing [66/66]\n",
            "[df] processing [6/6]\n",
            "[mel] processing [34/34]\n",
            "[nv] processing [663/663]\n",
            "[vasc] processing [10/10]\n",
            "processing 828 done!\n"
          ]
        }
      ],
      "source": [
        "#SVD\n",
        "total_num = 0\n",
        "for cla in data_class:\n",
        "    cla_path = os.path.join(origin_data_path, cla)\n",
        "    images = os.listdir(cla_path)\n",
        "    num = len(images)\n",
        "    total_num += num\n",
        "    for index, image in enumerate(images):\n",
        "        image_path = os.path.join(cla_path, image)\n",
        "        img_name = image_path.split('/')[-1].split(\".\")[0]\n",
        "        savepath = os.path.join(train_root, cla,img_name + \".jpg\")\n",
        "\n",
        "        img = cv2.imread(image_path)\n",
        "        B,G,R = img_bgr(img)\n",
        "        b = img_svd(B)\n",
        "        g = img_svd(G)\n",
        "        r = img_svd(R)\n",
        "        img = img_merged(b,g,r)\n",
        "        #png\n",
        "        # cv2.imwrite(savepath,img, [int(cv2.IMWRITE_PNG_COMPRESSION), 1])\n",
        "        #jpg\n",
        "        cv2.imwrite(savepath,img,[int(cv2.IMWRITE_JPEG_QUALITY),100])\n",
        " \n",
        " \n",
        "        print(\"\\r[{}] processing [{}/{}]\".format(cla, index+1, num), end=\"\")  # processing bar\n",
        "    # break\n",
        "    print()\n",
        "\n",
        "print(f\"processing {total_num} done!\")"
      ]
    },
    {
      "cell_type": "code",
      "execution_count": null,
      "metadata": {
        "colab": {
          "base_uri": "https://localhost:8080/"
        },
        "id": "saQpCVwOi-JH",
        "outputId": "eaa8ffcf-e0fa-41d6-9098-abb9066bbc66"
      },
      "outputs": [
        {
          "name": "stdout",
          "output_type": "stream",
          "text": [
            "Number of JPG images: 828\n"
          ]
        }
      ],
      "source": [
        "import glob\n",
        "\n",
        "def count_jpg_images(directory):\n",
        "    image_files = glob.glob(directory + '/**/*.jpg', recursive=True)\n",
        "    return len(image_files)\n",
        "\n",
        "directory = \"/content/drive/MyDrive/Skin_Cancer_Classification_CapsNet/HAM10000/testimg45\"\n",
        "image_count = count_jpg_images(directory)\n",
        "print(\"Number of JPG images:\", image_count)\n"
      ]
    },
    {
      "cell_type": "code",
      "execution_count": null,
      "metadata": {
        "id": "QDnp3fOKqgMU"
      },
      "outputs": [],
      "source": []
    },
    {
      "cell_type": "code",
      "execution_count": null,
      "metadata": {
        "id": "iQBJPnXuqgPA"
      },
      "outputs": [],
      "source": []
    },
    {
      "cell_type": "markdown",
      "metadata": {
        "id": "A7S1zpPLNWo3"
      },
      "source": [
        "## Splitting the validation data from train_dir"
      ]
    },
    {
      "cell_type": "code",
      "execution_count": null,
      "metadata": {
        "id": "zsmj-YTfEX7x"
      },
      "outputs": [],
      "source": [
        "import os\n",
        "from shutil import copy, rmtree\n",
        "import random"
      ]
    },
    {
      "cell_type": "code",
      "execution_count": null,
      "metadata": {
        "id": "GoXFmED_EYw6"
      },
      "outputs": [],
      "source": [
        "def mk_file(file_path: str):\n",
        "    if os.path.exists(file_path):\n",
        "        rmtree(file_path)\n",
        "    os.makedirs(file_path)"
      ]
    },
    {
      "cell_type": "code",
      "execution_count": null,
      "metadata": {
        "id": "Irmcu_nPEbWU"
      },
      "outputs": [],
      "source": [
        "random.seed(0)\n",
        "\n",
        "split_rate = 0.11\n",
        "\n",
        "cwd = '/content/drive/MyDrive/Skin_Cancer_Classification_CapsNet/HAM10000'\n",
        "# data_root = os.path.join(cwd, \"data_data\")#win_powershell\n",
        "data_root = os.path.abspath(os.path.join(cwd))\n",
        "origin_data_path = os.path.join(data_root, \"train_dir\")\n",
        "assert os.path.exists(origin_data_path), \"path '{}' does not exist.\".format(origin_data_path)"
      ]
    },
    {
      "cell_type": "code",
      "execution_count": null,
      "metadata": {
        "colab": {
          "background_save": true
        },
        "id": "I6qrhlKvEsVw"
      },
      "outputs": [],
      "source": [
        "data_class = [cla for cla in os.listdir(origin_data_path)\n",
        "                if os.path.isdir(os.path.join(origin_data_path, cla))]\n",
        "\n",
        "train_root = os.path.join(data_root, \"train45\")\n",
        "mk_file(train_root)\n",
        "for cla in data_class:\n",
        "    mk_file(os.path.join(train_root, cla))\n",
        "\n",
        "val_root = os.path.join(data_root, \"valimg45\")\n",
        "mk_file(val_root)\n",
        "for cla in data_class:\n",
        "    mk_file(os.path.join(val_root, cla))"
      ]
    },
    {
      "cell_type": "code",
      "execution_count": 78,
      "metadata": {
        "colab": {
          "base_uri": "https://localhost:8080/"
        },
        "id": "Szkeb5gzFUyX",
        "outputId": "8d9915cc-afcf-44fb-874a-43e20a642c49"
      },
      "outputs": [
        {
          "output_type": "stream",
          "name": "stdout",
          "text": [
            "[akiec] processing [304/304]\n",
            "[bcc] processing [488/488]\n",
            "[bkl] processing [1033/1033]\n",
            "[df] processing [109/109]\n",
            "[mel] processing [1079/1079]\n",
            "[nv] processing [6042/6042]\n",
            "[vasc] processing [132/132]\n",
            "processing 9187 done!\n"
          ]
        }
      ],
      "source": [
        "total_num = 0\n",
        "for cla in data_class:\n",
        "    cla_path = os.path.join(origin_data_path, cla)\n",
        "    images = os.listdir(cla_path)\n",
        "    num = len(images)\n",
        "    total_num += num\n",
        "    eval_index = random.sample(images, k=int(num*split_rate))\n",
        "    for index, image in enumerate(images):\n",
        "        if image in eval_index:\n",
        "            image_path = os.path.join(cla_path, image)\n",
        "            new_path = os.path.join(val_root, cla)\n",
        "            copy(image_path, new_path)\n",
        "        else:\n",
        "            image_path = os.path.join(cla_path, image)\n",
        "            new_path = os.path.join(train_root, cla)\n",
        "            copy(image_path, new_path)\n",
        "        print(\"\\r[{}] processing [{}/{}]\".format(cla, index+1, num), end=\"\")  # processing bar\n",
        "    print()\n",
        "\n",
        "print(f\"processing {total_num} done!\")"
      ]
    },
    {
      "cell_type": "code",
      "execution_count": 79,
      "metadata": {
        "colab": {
          "base_uri": "https://localhost:8080/"
        },
        "id": "BhSJEDVHOag4",
        "outputId": "c17fcd67-424e-4749-f3a4-55b7521b2c9b"
      },
      "outputs": [
        {
          "output_type": "stream",
          "name": "stdout",
          "text": [
            "Number of JPG images: 8181\n"
          ]
        }
      ],
      "source": [
        "import glob\n",
        "\n",
        "def count_jpg_images(directory):\n",
        "    image_files = glob.glob(directory + '/**/*.jpg', recursive=True)\n",
        "    return len(image_files)\n",
        "\n",
        "directory = \"/content/drive/MyDrive/Skin_Cancer_Classification_CapsNet/HAM10000/train45\"\n",
        "image_count = count_jpg_images(directory)\n",
        "print(\"Number of JPG images:\", image_count)\n"
      ]
    },
    {
      "cell_type": "code",
      "execution_count": 80,
      "metadata": {
        "colab": {
          "base_uri": "https://localhost:8080/"
        },
        "id": "fP8dX2-xOalK",
        "outputId": "1aedfb45-2189-46ec-feaf-ee02c275584f"
      },
      "outputs": [
        {
          "output_type": "stream",
          "name": "stdout",
          "text": [
            "Number of JPG images: 1006\n"
          ]
        }
      ],
      "source": [
        "import glob\n",
        "\n",
        "def count_jpg_images(directory):\n",
        "    image_files = glob.glob(directory + '/**/*.jpg', recursive=True)\n",
        "    return len(image_files)\n",
        "\n",
        "directory = \"/content/drive/MyDrive/Skin_Cancer_Classification_CapsNet/HAM10000/valimg45\"\n",
        "image_count = count_jpg_images(directory)\n",
        "print(\"Number of JPG images:\", image_count)\n"
      ]
    },
    {
      "cell_type": "code",
      "execution_count": null,
      "metadata": {
        "id": "zke_2vqhPHXN"
      },
      "outputs": [],
      "source": []
    },
    {
      "cell_type": "code",
      "execution_count": null,
      "metadata": {
        "id": "Vmhb1kyyPHaH"
      },
      "outputs": [],
      "source": []
    },
    {
      "cell_type": "code",
      "execution_count": null,
      "metadata": {
        "id": "05lXjo4EPHdg"
      },
      "outputs": [],
      "source": []
    },
    {
      "cell_type": "code",
      "execution_count": 142,
      "metadata": {
        "colab": {
          "base_uri": "https://localhost:8080/"
        },
        "id": "WWm2dhLPAJbS",
        "outputId": "bbfc1e71-1587-44d9-bb2f-b58c6d5fd558"
      },
      "outputs": [
        {
          "output_type": "stream",
          "name": "stdout",
          "text": [
            "The directory '/content/tmp' and all its subdirectories have been deleted.\n"
          ]
        }
      ],
      "source": [
        "# import shutil\n",
        "\n",
        "# path = '/content/tmp'\n",
        "\n",
        "# shutil.rmtree(path)\n",
        "\n",
        "# print(f\"The directory '{path}' and all its subdirectories have been deleted.\")\n"
      ]
    },
    {
      "cell_type": "code",
      "execution_count": null,
      "metadata": {
        "id": "QOAdjEDWD0ZM"
      },
      "outputs": [],
      "source": []
    },
    {
      "cell_type": "code",
      "execution_count": null,
      "metadata": {
        "id": "C9sIgjjAEX2F"
      },
      "outputs": [],
      "source": []
    },
    {
      "cell_type": "code",
      "execution_count": 82,
      "metadata": {
        "colab": {
          "base_uri": "https://localhost:8080/"
        },
        "id": "Pcf7gMSMFdnf",
        "outputId": "f9984614-2c41-41e8-9b7f-d290587ae55e"
      },
      "outputs": [
        {
          "output_type": "stream",
          "name": "stdout",
          "text": [
            "==/content/drive/MyDrive/Skin_Cancer_Classification_CapsNet/HAM10000/train45==\n",
            "\u001b[33makiec:\u001b[0m \t271\n",
            "\u001b[33mbcc:\u001b[0m \t435\n",
            "\u001b[33mbkl:\u001b[0m \t920\n",
            "\u001b[33mdf:\u001b[0m \t98\n",
            "\u001b[33mmel:\u001b[0m \t961\n",
            "\u001b[33mnv:\u001b[0m \t5378\n",
            "\u001b[33mvasc:\u001b[0m \t118\n",
            "total:8181\n"
          ]
        }
      ],
      "source": [
        "! bash '/content/drive/MyDrive/Skin_Cancer_Classification_CapsNet/echo_num.sh' '/content/drive/MyDrive/Skin_Cancer_Classification_CapsNet/HAM10000/train45' #0.816"
      ]
    },
    {
      "cell_type": "code",
      "execution_count": 83,
      "metadata": {
        "colab": {
          "base_uri": "https://localhost:8080/"
        },
        "id": "jSDEorNVQWwV",
        "outputId": "9b494bfe-ba1f-4c8a-cc3b-d3bf6175001c"
      },
      "outputs": [
        {
          "output_type": "stream",
          "name": "stdout",
          "text": [
            "==/content/drive/MyDrive/Skin_Cancer_Classification_CapsNet/HAM10000/testimg45==\n",
            "\u001b[33makiec:\u001b[0m \t23\n",
            "\u001b[33mbcc:\u001b[0m \t26\n",
            "\u001b[33mbkl:\u001b[0m \t66\n",
            "\u001b[33mdf:\u001b[0m \t6\n",
            "\u001b[33mmel:\u001b[0m \t34\n",
            "\u001b[33mnv:\u001b[0m \t663\n",
            "\u001b[33mvasc:\u001b[0m \t10\n",
            "total:828\n"
          ]
        }
      ],
      "source": [
        "! bash '/content/drive/MyDrive/Skin_Cancer_Classification_CapsNet/echo_num.sh' '/content/drive/MyDrive/Skin_Cancer_Classification_CapsNet/HAM10000/testimg45' #0.082"
      ]
    },
    {
      "cell_type": "code",
      "execution_count": 84,
      "metadata": {
        "colab": {
          "base_uri": "https://localhost:8080/"
        },
        "id": "gaqorD65RAWN",
        "outputId": "ff29d9dc-ca87-42a4-ddd6-a9e63b093079"
      },
      "outputs": [
        {
          "output_type": "stream",
          "name": "stdout",
          "text": [
            "==/content/drive/MyDrive/Skin_Cancer_Classification_CapsNet/HAM10000/valimg45==\n",
            "\u001b[33makiec:\u001b[0m \t33\n",
            "\u001b[33mbcc:\u001b[0m \t53\n",
            "\u001b[33mbkl:\u001b[0m \t113\n",
            "\u001b[33mdf:\u001b[0m \t11\n",
            "\u001b[33mmel:\u001b[0m \t118\n",
            "\u001b[33mnv:\u001b[0m \t664\n",
            "\u001b[33mvasc:\u001b[0m \t14\n",
            "total:1006\n"
          ]
        }
      ],
      "source": [
        "! bash '/content/drive/MyDrive/Skin_Cancer_Classification_CapsNet/echo_num.sh' '/content/drive/MyDrive/Skin_Cancer_Classification_CapsNet/HAM10000/valimg45' #0.100"
      ]
    },
    {
      "cell_type": "code",
      "execution_count": null,
      "metadata": {
        "id": "rcGgLWsBV8kS"
      },
      "outputs": [],
      "source": []
    },
    {
      "cell_type": "code",
      "execution_count": null,
      "metadata": {
        "id": "gUV6jSNzWMtF"
      },
      "outputs": [],
      "source": []
    },
    {
      "cell_type": "code",
      "execution_count": null,
      "metadata": {
        "id": "GRrN5hCVWMv3"
      },
      "outputs": [],
      "source": []
    },
    {
      "cell_type": "code",
      "execution_count": null,
      "metadata": {
        "id": "na3PVegnWMzl"
      },
      "outputs": [],
      "source": []
    },
    {
      "cell_type": "code",
      "source": [],
      "metadata": {
        "id": "QUMNbJHYTGNI"
      },
      "execution_count": null,
      "outputs": []
    },
    {
      "cell_type": "markdown",
      "source": [
        "## CapsNets_Skin_Classification"
      ],
      "metadata": {
        "id": "Yb7VnPmbTH_8"
      }
    },
    {
      "cell_type": "code",
      "execution_count": 85,
      "metadata": {
        "colab": {
          "base_uri": "https://localhost:8080/"
        },
        "id": "3qt88GUdWM2y",
        "outputId": "5fc0cee7-e95e-4dc6-bab2-471d76b23021"
      },
      "outputs": [
        {
          "output_type": "stream",
          "name": "stdout",
          "text": [
            "Looking in indexes: https://pypi.org/simple, https://us-python.pkg.dev/colab-wheels/public/simple/\n",
            "Collecting einops\n",
            "  Downloading einops-0.6.1-py3-none-any.whl (42 kB)\n",
            "\u001b[2K     \u001b[90m━━━━━━━━━━━━━━━━━━━━━━━━━━━━━━━━━━━━━━━━\u001b[0m \u001b[32m42.2/42.2 kB\u001b[0m \u001b[31m1.8 MB/s\u001b[0m eta \u001b[36m0:00:00\u001b[0m\n",
            "\u001b[?25hInstalling collected packages: einops\n",
            "Successfully installed einops-0.6.1\n"
          ]
        }
      ],
      "source": [
        "! pip install einops"
      ]
    },
    {
      "cell_type": "code",
      "execution_count": 86,
      "metadata": {
        "colab": {
          "base_uri": "https://localhost:8080/"
        },
        "id": "_1t8LxS1XBCr",
        "outputId": "bc16ce89-8c65-4cd1-ddb8-749447559062"
      },
      "outputs": [
        {
          "output_type": "stream",
          "name": "stdout",
          "text": [
            "Looking in indexes: https://pypi.org/simple, https://us-python.pkg.dev/colab-wheels/public/simple/\n",
            "Collecting thop\n",
            "  Downloading thop-0.1.1.post2209072238-py3-none-any.whl (15 kB)\n",
            "Requirement already satisfied: torch in /usr/local/lib/python3.10/dist-packages (from thop) (2.0.1+cu118)\n",
            "Requirement already satisfied: filelock in /usr/local/lib/python3.10/dist-packages (from torch->thop) (3.12.0)\n",
            "Requirement already satisfied: typing-extensions in /usr/local/lib/python3.10/dist-packages (from torch->thop) (4.5.0)\n",
            "Requirement already satisfied: sympy in /usr/local/lib/python3.10/dist-packages (from torch->thop) (1.11.1)\n",
            "Requirement already satisfied: networkx in /usr/local/lib/python3.10/dist-packages (from torch->thop) (3.1)\n",
            "Requirement already satisfied: jinja2 in /usr/local/lib/python3.10/dist-packages (from torch->thop) (3.1.2)\n",
            "Requirement already satisfied: triton==2.0.0 in /usr/local/lib/python3.10/dist-packages (from torch->thop) (2.0.0)\n",
            "Requirement already satisfied: cmake in /usr/local/lib/python3.10/dist-packages (from triton==2.0.0->torch->thop) (3.25.2)\n",
            "Requirement already satisfied: lit in /usr/local/lib/python3.10/dist-packages (from triton==2.0.0->torch->thop) (16.0.5)\n",
            "Requirement already satisfied: MarkupSafe>=2.0 in /usr/local/lib/python3.10/dist-packages (from jinja2->torch->thop) (2.1.2)\n",
            "Requirement already satisfied: mpmath>=0.19 in /usr/local/lib/python3.10/dist-packages (from sympy->torch->thop) (1.3.0)\n",
            "Installing collected packages: thop\n",
            "Successfully installed thop-0.1.1.post2209072238\n"
          ]
        }
      ],
      "source": [
        "! pip install thop"
      ]
    },
    {
      "cell_type": "code",
      "execution_count": 143,
      "metadata": {
        "id": "eNBl9jWgWM56"
      },
      "outputs": [],
      "source": [
        "from einops import rearrange, repeat,reduce\n",
        "from einops.layers.torch import Rearrange\n",
        "from torch import linalg as LA"
      ]
    },
    {
      "cell_type": "code",
      "execution_count": 144,
      "metadata": {
        "id": "q6xUfrceWUY3"
      },
      "outputs": [],
      "source": [
        "import torch\n",
        "import sys, os\n",
        "import json\n",
        "import torch.nn as nn  \n",
        "import numpy as np\n",
        "import matplotlib.pyplot as plt\n",
        "import torch.nn.functional as F\n",
        "import torch.optim as optim\n",
        "\n",
        "# from torch.utils.tensorboard import SummaryWriter\n",
        "import prettytable\n",
        "import time, random,timeit\n",
        "sys.setrecursionlimit(15000)\n",
        "from thop.profile import profile\n",
        "\n",
        "from PIL import Image\n",
        "from torch.optim import lr_scheduler\n",
        "from torch.autograd import Variable\n",
        "from torch.utils.data import DataLoader\n",
        "from torchvision import datasets, transforms\n",
        "from torchsummary import summary\n",
        "from tqdm.notebook import tqdm\n",
        "import seaborn as sns\n",
        "\n",
        "import sys\n",
        "sys.path.append('/content/drive/MyDrive/Skin_Cancer_Classification_CapsNet/HAM10000')\n",
        "from utils import ImageShow, draw_size_acc, one_hot, confusion_matrix, metrics_scores, pff, setup_seed\n",
        "\n",
        "setup_seed(3047)\n",
        "\n",
        "from model import CapsNet"
      ]
    },
    {
      "cell_type": "code",
      "execution_count": 145,
      "metadata": {
        "colab": {
          "base_uri": "https://localhost:8080/"
        },
        "id": "GIpzSsX3Wn_7",
        "outputId": "ea54ea51-b5df-4d9d-a4e2-0a72dada9a86"
      },
      "outputs": [
        {
          "output_type": "stream",
          "name": "stdout",
          "text": [
            "0\n"
          ]
        }
      ],
      "source": [
        "# Settings.\n",
        "sys.path.append(os.pardir)\n",
        "device = torch.device('cuda' if torch.cuda.is_available() else \"cpu\")\n",
        "img_title = \"HAM10000\" #\"Skin_Cancer\"\n",
        "best_acc = 0.\n",
        "eval_acc = 0.\n",
        "best_train = 0.\n",
        "dict_batch = {}\n",
        "dict_imgSize = {}\n",
        "\n",
        "\n",
        "try:\n",
        "    print(len(train_acc_list))\n",
        "except NameError:\n",
        "    train_loss_list = []\n",
        "    train_acc_list = []\n",
        "    test_loss_list = []\n",
        "    test_acc_list = []\n",
        "    test_auc_list = []\n",
        "    val_loss_list = []\n",
        "    val_acc_list = []\n",
        "#activate ImageShow\n",
        "show = ImageShow(train_loss_list = train_loss_list,\n",
        "                 train_acc_list = train_acc_list,\n",
        "                test_loss_list = test_loss_list,\n",
        "                test_acc_list = test_acc_list,\n",
        "                test_auc_list = test_auc_list,\n",
        "                val_loss_list = val_loss_list,\n",
        "                val_acc_list = val_acc_list,\n",
        "                )"
      ]
    },
    {
      "cell_type": "code",
      "execution_count": 146,
      "metadata": {
        "id": "9TWB6GHPZTx-"
      },
      "outputs": [],
      "source": [
        "# normalize = transforms.Normalize(mean=[0.485, 0.456, 0.406],\n",
        "#                                  std=[0.229, 0.224, 0.225])\n",
        "normalize = transforms.Normalize([0.5, 0.5, 0.5],[0.5, 0.5, 0.5])\n",
        "# Resize = transforms.Resize((299,299))\n",
        "\n",
        "def get_data(mode='ALL'):\n",
        "    global test_dataset,train_loader,val_loader,test_loader\n",
        "    global train_num,val_num,test_num,n_classes,cla_dict\n",
        "    # vt = int(trans)\n",
        "    data_transform = {\n",
        "        \"train\": transforms.Compose([#Resize,\n",
        "                                     transforms.RandomVerticalFlip(),\n",
        "                                     transforms.ToTensor(),\n",
        "                                     normalize]),\n",
        "        \"val\": transforms.Compose([#Resize,\n",
        "                                   transforms.ToTensor(),\n",
        "                                   normalize]),\n",
        "        \"test\": transforms.Compose([#Resize,\n",
        "                                    transforms.ToTensor(),\n",
        "                                    normalize]),}    \n",
        "    if mode == 'ALL':\n",
        "        train_dataset = datasets.ImageFolder(root='/content/drive/MyDrive/Skin_Cancer_Classification_CapsNet/HAM10000/8000_train',transform=data_transform[\"train\"])\n",
        "        val_dataset = datasets.ImageFolder(root='/content/drive/MyDrive/Skin_Cancer_Classification_CapsNet/HAM10000/valimg45',transform=data_transform[\"val\"])\n",
        "        test_dataset = datasets.ImageFolder(root='/content/drive/MyDrive/Skin_Cancer_Classification_CapsNet/HAM10000/testimg45',transform=data_transform[\"test\"])\n",
        "\n",
        "        train_num = len(train_dataset)\n",
        "        val_num = len(val_dataset)\n",
        "        test_num = len(test_dataset)\n",
        "\n",
        "        train_loader = DataLoader(train_dataset,batch_size=BatchSize,\n",
        "                                                   pin_memory=pin_memory,\n",
        "                                                   shuffle=True,num_workers=nw)\n",
        "        val_loader = DataLoader(val_dataset,batch_size=V_size,\n",
        "                                                   pin_memory=pin_memory,\n",
        "                                                   shuffle=False,num_workers=nw)\n",
        "        test_loader = DataLoader(test_dataset,batch_size=T_size,\n",
        "                                                  pin_memory=pin_memory,\n",
        "                                                  shuffle=False,num_workers=nw)\n",
        "\n",
        "        print(\"using {} images for training, {} images for validation, {} images for testing.\".format(train_num,\n",
        "                                                                                                      val_num,\n",
        "                                                                                                      test_num))\n",
        "    else:\n",
        "        test_dataset = datasets.ImageFolder(root='/content/drive/MyDrive/Skin_Cancer_Classification_CapsNet/HAM10000/testimg45',transform=data_transform[\"test\"])\n",
        "        test_num = len(test_dataset)\n",
        "        test_loader = DataLoader(test_dataset,batch_size=T_size,\n",
        "                                                  pin_memory=pin_memory,\n",
        "                                                  shuffle=False,num_workers=nw)\n",
        "        print(f\"using {test_num} images for testing.\")\n",
        "    \n",
        "    data_list = test_dataset.class_to_idx\n",
        "    cla_dict = dict((val, key) for key, val in data_list.items())\n",
        "    n_classes  = len(data_list)\n",
        "\n"
      ]
    },
    {
      "cell_type": "code",
      "execution_count": 147,
      "metadata": {
        "colab": {
          "base_uri": "https://localhost:8080/"
        },
        "id": "lgeY7psGeB5R",
        "outputId": "72ee420c-86e9-467c-940f-9b7545aabbeb"
      },
      "outputs": [
        {
          "output_type": "stream",
          "name": "stdout",
          "text": [
            "Using 6 dataloader workers every process.\n",
            "using 54292 images for training, 1006 images for validation, 828 images for testing.\n",
            "Using 7 classes.\n"
          ]
        }
      ],
      "source": [
        "BatchSize = 168\n",
        "V_size = 32\n",
        "T_size = 32\n",
        "\n",
        "pin_memory = True\n",
        "nw = 6\n",
        "print(f'Using {nw} dataloader workers every process.')\n",
        "get_data()\n",
        "print(f'Using {n_classes} classes.')"
      ]
    },
    {
      "cell_type": "code",
      "execution_count": 148,
      "metadata": {
        "id": "h87IUGDUfn0B"
      },
      "outputs": [],
      "source": [
        "n_channels = 3 #RGB\n",
        "\n",
        "network = CapsNet(conv_inputs=n_channels, \n",
        "                     num_classes=n_classes,# category_number\n",
        "                     init_weights=True,)\n",
        "network = network.to(device)"
      ]
    },
    {
      "cell_type": "code",
      "execution_count": 149,
      "metadata": {
        "id": "7ZT4ZFFqneh_"
      },
      "outputs": [],
      "source": [
        "learning_rate = 0.123\n",
        "optimizer = optim.Adam(network.parameters(), lr=learning_rate)\n",
        "scheduler = lr_scheduler.CosineAnnealingLR(optimizer, 5, eta_min=1e-8, last_epoch=-1)"
      ]
    },
    {
      "cell_type": "code",
      "execution_count": 150,
      "metadata": {
        "colab": {
          "base_uri": "https://localhost:8080/"
        },
        "id": "pfzbLYafngp4",
        "outputId": "afff0248-3e19-484b-895f-c1ae02e2a3dc"
      },
      "outputs": [
        {
          "output_type": "execute_result",
          "data": {
            "text/plain": [
              "Sequential(\n",
              "  (0): Conv2d(3, 128, kernel_size=(21, 21), stride=(2, 2))\n",
              "  (1): BatchNorm2d(128, eps=1e-05, momentum=0.1, affine=True, track_running_stats=True)\n",
              "  (2): ReLU(inplace=True)\n",
              ")"
            ]
          },
          "metadata": {},
          "execution_count": 150
        }
      ],
      "source": [
        "network.Convolution"
      ]
    },
    {
      "cell_type": "code",
      "execution_count": 151,
      "metadata": {
        "id": "wp81srjsnjb5"
      },
      "outputs": [],
      "source": [
        "def train(epoch):\n",
        "    network.train()\n",
        "    global best_train,train_evl_result#,evl_tmp_result\n",
        "    running_loss,r_pre = 0., 0.\n",
        "    print_step = len(train_loader)//2\n",
        "    steps_num = len(train_loader)\n",
        "    tmp_size = BatchSize\n",
        "    print(f'\\033[1;32m[Train Epoch:[{epoch}]{img_title} ==> Training]\\033[0m ...')\n",
        "    optimizer.zero_grad()\n",
        "    train_tmp_result = torch.zeros(n_classes,n_classes)\n",
        "    startT = timeit.default_timer() \n",
        "    \n",
        "    for batch_idx, (data, target) in enumerate(train_loader):        \n",
        "\n",
        "        batch_idx += 1\n",
        "        target_indices = target\n",
        "        target_one_hot = one_hot(target, length=n_classes)\n",
        "        data, target = Variable(data).to(device), Variable(target_one_hot).to(device)\n",
        "\n",
        "        output = network(data)\n",
        "        loss = network.loss(output, target, size_average=True)       \n",
        "        loss.backward()     \n",
        "        optimizer.step()\n",
        "        optimizer.zero_grad()\n",
        "        \n",
        "        running_loss += loss.item()\n",
        "        \n",
        "        # v_mag = torch.sqrt(torch.sum(output**2, dim=2, keepdim=True)) \n",
        "        # v_mag = torch.norm(output,p=2,dim=(2,3), keepdim=True)\n",
        "        v_mag = LA.norm(output,ord='nuc',dim=(2,3), keepdim=True)#‘fro’ (default)\n",
        "        pred = v_mag.data.max(1, keepdim=True)[1].cpu().squeeze()\n",
        "        r_pre += pred.eq(target_indices.view_as(pred)).squeeze().sum()\n",
        "        tmp_pre = r_pre/(batch_idx*BatchSize)\n",
        "        \n",
        "        if batch_idx % print_step == 0 and batch_idx != steps_num:\n",
        "            print(\"[{}/{}] Loss{:.5f},ACC:{:.5f}\".format(batch_idx,len(train_loader),\n",
        "                                                         loss,tmp_pre))\n",
        "        if batch_idx % steps_num == 0 and train_num % tmp_size != 0:\n",
        "            tmp_size = train_num % tmp_size\n",
        "                          \n",
        "        for i in range(tmp_size):\n",
        "            pred_x = pred.numpy()\n",
        "            train_tmp_result[target_indices[i]][pred_x[i]] +=1\n",
        "\n",
        "        if best_train < tmp_pre and tmp_pre >= 90: \n",
        "            torch.save(network.state_dict(), iter_path)\n",
        "        \n",
        "    epoch_acc = r_pre / train_num\n",
        "    epoch_loss = running_loss / len(train_loader)  \n",
        "    train_loss_list.append(epoch_loss)\n",
        "    train_acc_list.append(epoch_acc) \n",
        "    scheduler.step()\n",
        "    if best_train < epoch_acc:\n",
        "        best_train = epoch_acc\n",
        "        train_evl_result = train_tmp_result.clone()\n",
        "        torch.save(network.state_dict(), last_path)\n",
        "        torch.save(train_evl_result, f'./tmp/{img_title}/{dirs}/train_evl_result.pth')\n",
        "    \n",
        "    endT = timeit.default_timer()\n",
        "    run_time = endT-startT\n",
        "    print(\"Epoch:[{}] Running:[{:.2f}s], Loss:{:.5f},Acc:{:.5f},Best_train:{:.5f}\".format(epoch,run_time,\n",
        "                                                                                                 epoch_loss,\n",
        "                                                                                                 epoch_acc,best_train))"
      ]
    },
    {
      "cell_type": "code",
      "execution_count": 152,
      "metadata": {
        "id": "7MKhy9Juns7f"
      },
      "outputs": [],
      "source": [
        "def test(split=\"test\"):\n",
        "    network.eval()\n",
        "    global test_acc,eval_acc,best_acc,net_parameters\n",
        "    global test_evl_result,val_evl_result#,evl_tmp_result\n",
        "    cor_loss,correct,Auc, Acc= 0, 0, 0, 0\n",
        "    evl_tmp_result = torch.zeros(n_classes,n_classes)\n",
        "    \n",
        "    if split == 'val':\n",
        "        data_loader = val_loader\n",
        "        tmp_size = V_size\n",
        "        data_num = val_num\n",
        "    else:\n",
        "        data_loader = test_loader\n",
        "        tmp_size = T_size\n",
        "        data_num = test_num\n",
        "        \n",
        "    steps_num = len(data_loader)\n",
        "    print(f'\\033[35m{img_title} ==> {split} ...\\033[0m')\n",
        "    \n",
        "    with torch.no_grad():\n",
        "        for batch_idx, (data, target) in enumerate(data_loader):\n",
        "            batch_idx +=1\n",
        "            target_indices = target#torch.Size([batch, 7])  \n",
        "            target_one_hot = one_hot(target, length=n_classes)            \n",
        "            data, target = Variable(data).to(device), Variable(target_one_hot).to(device)\n",
        "\n",
        "            output= network(data)#torch.Size([batch_size, 7, 16, 1])         \n",
        "            v_mag = LA.norm(output,ord='nuc',dim=(2,3), keepdim=True)#\n",
        "            pred = v_mag.data.max(1, keepdim=True)[1].cpu()#[9, 2, 1, 1, 6,..., 1, 4, 6, 5, 7,]\n",
        "            \n",
        "            if batch_idx % steps_num == 0 and data_num % tmp_size != 0:\n",
        "                tmp_size = data_num % tmp_size\n",
        "                          \n",
        "            for i in range(tmp_size):\n",
        "                pred_y = pred.numpy()\n",
        "                evl_tmp_result[target_indices[i]][pred_y[i]] +=1 \n",
        "\n",
        "        diag_sum = torch.sum(evl_tmp_result.diagonal())\n",
        "        all_sum = torch.sum(evl_tmp_result) \n",
        "        test_acc = 100. * float(torch.div(diag_sum,all_sum)) \n",
        "        print(f\"{split}_Acc:\\033[1;32m{round(float(test_acc),3)}%\\033[0m\")\n",
        "\n",
        "        if split == 'val':\n",
        "            val_acc_list.append(test_acc)\n",
        "            if test_acc >= best_acc:\n",
        "                best_acc = test_acc\n",
        "                val_evl_result = evl_tmp_result.clone()#copy.deepcopy(input)\n",
        "                torch.save(network.state_dict(), save_PATH)\n",
        "                torch.save(val_evl_result, f'./tmp/{img_title}/{dirs}/best_evl_result.pth')\n",
        "            print(f\"Best_val:\\033[1;32m[{round(float(best_acc),3)}%]\\033[0m\")\n",
        "        else:\n",
        "            test_acc_list.append(test_acc)\n",
        "            if test_acc >= eval_acc:\n",
        "                eval_acc = test_acc\n",
        "                test_evl_result = evl_tmp_result.clone()#copy.deepcopy(input)\n",
        "                torch.save(network.state_dict(), test_path)\n",
        "                torch.save(test_evl_result, f'./tmp/{img_title}/{dirs}/{split}_evl_result.pth')\n",
        "            print(f\"Best_eval:\\033[1;32m[{round(float(eval_acc),3)}%]\\033[0m\")  "
      ]
    },
    {
      "cell_type": "code",
      "execution_count": 156,
      "metadata": {
        "id": "DqhpS4RTn32r"
      },
      "outputs": [],
      "source": [
        "num_epochs= 20"
      ]
    },
    {
      "cell_type": "code",
      "execution_count": 157,
      "metadata": {
        "colab": {
          "base_uri": "https://localhost:8080/"
        },
        "id": "WlEjDkGYn7uD",
        "outputId": "aceb2286-2038-438d-aeb0-b9e9b1d8726c"
      },
      "outputs": [
        {
          "output_type": "stream",
          "name": "stdout",
          "text": [
            "suf:0608_140126\n",
            "Store: \"./tmp/HAM10000/None\"\n",
            "./tmp/HAM10000/None/best_HAM10000_0608_140126.pth\n"
          ]
        }
      ],
      "source": [
        "#create store\n",
        "try:\n",
        "    print(f\"suf:{suf}\")\n",
        "except NameError:\n",
        "    suf = time.strftime(\"%m%d_%H%M%S\", time.localtime())\n",
        "    dirs = suf + f\"_{sub_dirs}_nw{nw}_{num_epochs}ep_\"\n",
        "    print(f\"suf:{suf}\")   \n",
        "if os.path.exists(f'./tmp/{img_title}/{dirs}'):\n",
        "    print (f'Store: \"./tmp/{img_title}/{dirs}\"')\n",
        "else:\n",
        "    !mkdir -p ./tmp/{img_title}/{dirs}\n",
        "iter_path = f'./tmp/{img_title}/{dirs}/train_{img_title}_{suf}.pth' #training\n",
        "save_PATH = f'./tmp/{img_title}/{dirs}/best_{img_title}_{suf}.pth' #validation\n",
        "last_path = f'./tmp/{img_title}/{dirs}/last_{img_title}_{suf}.pth' #training\n",
        "test_path = f'./tmp/{img_title}/{dirs}/test_best_{img_title}_{suf}.pth' #testing\n",
        "print(save_PATH)"
      ]
    },
    {
      "cell_type": "code",
      "execution_count": 158,
      "metadata": {
        "colab": {
          "base_uri": "https://localhost:8080/"
        },
        "id": "WtyAENLGn983",
        "outputId": "1192a534-37cf-450a-8553-15197d79730b"
      },
      "outputs": [
        {
          "output_type": "stream",
          "name": "stdout",
          "text": [
            "\u001b[1;32m[Train Epoch:[1]HAM10000 ==> Training]\u001b[0m ...\n",
            "[162/324] Loss0.27109,ACC:0.56610\n",
            "Epoch:[1] Running:[405.26s], Loss:0.27373,Acc:0.58498,Best_train:0.58498\n",
            "\u001b[35mHAM10000 ==> val ...\u001b[0m\n",
            "val_Acc:\u001b[1;32m77.137%\u001b[0m\n",
            "Best_val:\u001b[1;32m[77.137%]\u001b[0m\n",
            "\u001b[1;32m[Train Epoch:[2]HAM10000 ==> Training]\u001b[0m ...\n",
            "[162/324] Loss0.23459,ACC:0.64095\n",
            "Epoch:[2] Running:[391.11s], Loss:0.23977,Acc:0.64584,Best_train:0.64584\n",
            "\u001b[35mHAM10000 ==> val ...\u001b[0m\n",
            "val_Acc:\u001b[1;32m63.519%\u001b[0m\n",
            "Best_val:\u001b[1;32m[77.137%]\u001b[0m\n",
            "\u001b[1;32m[Train Epoch:[3]HAM10000 ==> Training]\u001b[0m ...\n",
            "[162/324] Loss0.23257,ACC:0.66608\n",
            "Epoch:[3] Running:[392.81s], Loss:0.21911,Acc:0.67524,Best_train:0.67524\n",
            "\u001b[35mHAM10000 ==> val ...\u001b[0m\n",
            "val_Acc:\u001b[1;32m71.173%\u001b[0m\n",
            "Best_val:\u001b[1;32m[77.137%]\u001b[0m\n",
            "\u001b[1;32m[Train Epoch:[4]HAM10000 ==> Training]\u001b[0m ...\n",
            "[162/324] Loss0.20698,ACC:0.70018\n",
            "Epoch:[4] Running:[392.86s], Loss:0.19948,Acc:0.70559,Best_train:0.70559\n",
            "\u001b[35mHAM10000 ==> val ...\u001b[0m\n",
            "val_Acc:\u001b[1;32m81.61%\u001b[0m\n",
            "Best_val:\u001b[1;32m[81.61%]\u001b[0m\n",
            "\u001b[1;32m[Train Epoch:[5]HAM10000 ==> Training]\u001b[0m ...\n",
            "[162/324] Loss0.20606,ACC:0.72274\n",
            "Epoch:[5] Running:[396.01s], Loss:0.18735,Acc:0.72606,Best_train:0.72606\n",
            "\u001b[35mHAM10000 ==> val ...\u001b[0m\n",
            "val_Acc:\u001b[1;32m68.29%\u001b[0m\n",
            "Best_val:\u001b[1;32m[81.61%]\u001b[0m\n",
            "\u001b[1;32m[Train Epoch:[6]HAM10000 ==> Training]\u001b[0m ...\n",
            "[162/324] Loss0.16605,ACC:0.72865\n",
            "Epoch:[6] Running:[394.77s], Loss:0.18430,Acc:0.73033,Best_train:0.73033\n",
            "\u001b[35mHAM10000 ==> val ...\u001b[0m\n",
            "val_Acc:\u001b[1;32m62.127%\u001b[0m\n",
            "Best_val:\u001b[1;32m[81.61%]\u001b[0m\n",
            "\u001b[1;32m[Train Epoch:[7]HAM10000 ==> Training]\u001b[0m ...\n",
            "[162/324] Loss0.17450,ACC:0.72851\n",
            "Epoch:[7] Running:[392.42s], Loss:0.18416,Acc:0.73259,Best_train:0.73259\n",
            "\u001b[35mHAM10000 ==> val ...\u001b[0m\n",
            "val_Acc:\u001b[1;32m61.63%\u001b[0m\n",
            "Best_val:\u001b[1;32m[81.61%]\u001b[0m\n",
            "\u001b[1;32m[Train Epoch:[8]HAM10000 ==> Training]\u001b[0m ...\n",
            "[162/324] Loss0.20972,ACC:0.72417\n",
            "Epoch:[8] Running:[396.67s], Loss:0.18789,Acc:0.72626,Best_train:0.73259\n",
            "\u001b[35mHAM10000 ==> val ...\u001b[0m\n",
            "val_Acc:\u001b[1;32m71.571%\u001b[0m\n",
            "Best_val:\u001b[1;32m[81.61%]\u001b[0m\n",
            "\u001b[1;32m[Train Epoch:[9]HAM10000 ==> Training]\u001b[0m ...\n",
            "[162/324] Loss0.20754,ACC:0.71711\n",
            "Epoch:[9] Running:[395.47s], Loss:0.19051,Acc:0.72024,Best_train:0.73259\n",
            "\u001b[35mHAM10000 ==> val ...\u001b[0m\n",
            "val_Acc:\u001b[1;32m81.511%\u001b[0m\n",
            "Best_val:\u001b[1;32m[81.61%]\u001b[0m\n",
            "\u001b[1;32m[Train Epoch:[10]HAM10000 ==> Training]\u001b[0m ...\n",
            "[162/324] Loss0.18463,ACC:0.72020\n",
            "Epoch:[10] Running:[393.30s], Loss:0.18828,Acc:0.72230,Best_train:0.73259\n",
            "\u001b[35mHAM10000 ==> val ...\u001b[0m\n",
            "val_Acc:\u001b[1;32m75.249%\u001b[0m\n",
            "Best_val:\u001b[1;32m[81.61%]\u001b[0m\n",
            "\u001b[1;32m[Train Epoch:[11]HAM10000 ==> Training]\u001b[0m ...\n",
            "[162/324] Loss0.18204,ACC:0.72986\n",
            "Epoch:[11] Running:[395.39s], Loss:0.18114,Acc:0.73495,Best_train:0.73495\n",
            "\u001b[35mHAM10000 ==> val ...\u001b[0m\n",
            "val_Acc:\u001b[1;32m66.799%\u001b[0m\n",
            "Best_val:\u001b[1;32m[81.61%]\u001b[0m\n",
            "\u001b[1;32m[Train Epoch:[12]HAM10000 ==> Training]\u001b[0m ...\n",
            "[162/324] Loss0.17624,ACC:0.74956\n",
            "Epoch:[12] Running:[395.41s], Loss:0.17176,Acc:0.75048,Best_train:0.75048\n",
            "\u001b[35mHAM10000 ==> val ...\u001b[0m\n",
            "val_Acc:\u001b[1;32m77.137%\u001b[0m\n",
            "Best_val:\u001b[1;32m[81.61%]\u001b[0m\n",
            "\u001b[1;32m[Train Epoch:[13]HAM10000 ==> Training]\u001b[0m ...\n",
            "[162/324] Loss0.14391,ACC:0.77164\n",
            "Epoch:[13] Running:[395.78s], Loss:0.15787,Acc:0.77363,Best_train:0.77363\n",
            "\u001b[35mHAM10000 ==> val ...\u001b[0m\n",
            "val_Acc:\u001b[1;32m75.646%\u001b[0m\n",
            "Best_val:\u001b[1;32m[81.61%]\u001b[0m\n",
            "\u001b[1;32m[Train Epoch:[14]HAM10000 ==> Training]\u001b[0m ...\n",
            "[162/324] Loss0.14264,ACC:0.79185\n",
            "Epoch:[14] Running:[396.90s], Loss:0.14661,Acc:0.79332,Best_train:0.79332\n",
            "\u001b[35mHAM10000 ==> val ...\u001b[0m\n",
            "val_Acc:\u001b[1;32m79.722%\u001b[0m\n",
            "Best_val:\u001b[1;32m[81.61%]\u001b[0m\n",
            "\u001b[1;32m[Train Epoch:[15]HAM10000 ==> Training]\u001b[0m ...\n",
            "[162/324] Loss0.15145,ACC:0.80669\n",
            "Epoch:[15] Running:[399.10s], Loss:0.13764,Acc:0.80763,Best_train:0.80763\n",
            "\u001b[35mHAM10000 ==> val ...\u001b[0m\n",
            "val_Acc:\u001b[1;32m81.213%\u001b[0m\n",
            "Best_val:\u001b[1;32m[81.61%]\u001b[0m\n",
            "\u001b[1;32m[Train Epoch:[16]HAM10000 ==> Training]\u001b[0m ...\n",
            "[162/324] Loss0.11862,ACC:0.81423\n",
            "Epoch:[16] Running:[395.34s], Loss:0.13526,Acc:0.81152,Best_train:0.81152\n",
            "\u001b[35mHAM10000 ==> val ...\u001b[0m\n",
            "val_Acc:\u001b[1;32m82.207%\u001b[0m\n",
            "Best_val:\u001b[1;32m[82.207%]\u001b[0m\n",
            "\u001b[1;32m[Train Epoch:[17]HAM10000 ==> Training]\u001b[0m ...\n",
            "[162/324] Loss0.12869,ACC:0.80802\n",
            "Epoch:[17] Running:[397.49s], Loss:0.13556,Acc:0.81052,Best_train:0.81152\n",
            "\u001b[35mHAM10000 ==> val ...\u001b[0m\n",
            "val_Acc:\u001b[1;32m78.032%\u001b[0m\n",
            "Best_val:\u001b[1;32m[82.207%]\u001b[0m\n",
            "\u001b[1;32m[Train Epoch:[18]HAM10000 ==> Training]\u001b[0m ...\n",
            "[162/324] Loss0.14460,ACC:0.80309\n",
            "Epoch:[18] Running:[398.31s], Loss:0.14035,Acc:0.80292,Best_train:0.81152\n",
            "\u001b[35mHAM10000 ==> val ...\u001b[0m\n",
            "val_Acc:\u001b[1;32m86.68%\u001b[0m\n",
            "Best_val:\u001b[1;32m[86.68%]\u001b[0m\n",
            "\u001b[1;32m[Train Epoch:[19]HAM10000 ==> Training]\u001b[0m ...\n",
            "[162/324] Loss0.12488,ACC:0.79369\n",
            "Epoch:[19] Running:[400.24s], Loss:0.14673,Acc:0.79444,Best_train:0.81152\n",
            "\u001b[35mHAM10000 ==> val ...\u001b[0m\n",
            "val_Acc:\u001b[1;32m84.692%\u001b[0m\n",
            "Best_val:\u001b[1;32m[86.68%]\u001b[0m\n",
            "\u001b[1;32m[Train Epoch:[20]HAM10000 ==> Training]\u001b[0m ...\n",
            "[162/324] Loss0.13826,ACC:0.78836\n",
            "Epoch:[20] Running:[397.46s], Loss:0.14936,Acc:0.78942,Best_train:0.81152\n",
            "\u001b[35mHAM10000 ==> val ...\u001b[0m\n",
            "val_Acc:\u001b[1;32m84.891%\u001b[0m\n",
            "Best_val:\u001b[1;32m[86.68%]\u001b[0m\n",
            "Finished Training\n"
          ]
        }
      ],
      "source": [
        "# network.load_state_dict(torch.load(last_path))\n",
        "for epoch in range(1, num_epochs + 1): \n",
        "    train(epoch)\n",
        "    test('val')\n",
        "    \n",
        "print('Finished Training')"
      ]
    },
    {
      "cell_type": "code",
      "execution_count": 159,
      "metadata": {
        "id": "sIeIfPezn_9o",
        "colab": {
          "base_uri": "https://localhost:8080/"
        },
        "outputId": "fdf2d4a0-6c3c-4a71-f253-28b4069a0253"
      },
      "outputs": [
        {
          "output_type": "stream",
          "name": "stdout",
          "text": [
            "\u001b[31m=================Conclusion====================\u001b[0m\n",
            "Dataset:[\u001b[1;31mHAM10000\u001b[0m]\n",
            "Best_Epoch [\u001b[1;31m18\u001b[0m]\n",
            "[Val] \u001b[31mACC:86.68%\u001b[0m.\n"
          ]
        }
      ],
      "source": [
        "show.conclusion(opt='val',img_title=img_title)"
      ]
    },
    {
      "cell_type": "code",
      "source": [
        "show.val(write=True,custom_path='./tmp',img_title=img_title,suf=dirs)"
      ],
      "metadata": {
        "colab": {
          "base_uri": "https://localhost:8080/",
          "height": 524
        },
        "id": "cOif_Kyb5RTs",
        "outputId": "72d54011-6b33-4f24-b426-c3c8dd5ee8ee"
      },
      "execution_count": 160,
      "outputs": [
        {
          "output_type": "display_data",
          "data": {
            "text/plain": [
              "<Figure size 800x550 with 1 Axes>"
            ],
            "image/png": "[encoded data removed]"
          },
          "metadata": {}
        }
      ]
    },
    {
      "cell_type": "code",
      "source": [
        "show.train(opt='Acc',write=True,custom_path='./tmp',img_title=img_title,suf=dirs)"
      ],
      "metadata": {
        "colab": {
          "base_uri": "https://localhost:8080/",
          "height": 524
        },
        "id": "AptvmDbf5UH1",
        "outputId": "999a6dad-43c2-4981-f153-d9453062fe0d"
      },
      "execution_count": 161,
      "outputs": [
        {
          "output_type": "display_data",
          "data": {
            "text/plain": [
              "<Figure size 800x550 with 1 Axes>"
            ],
            "image/png": "[encoded data removed]"
          },
          "metadata": {}
        }
      ]
    },
    {
      "cell_type": "code",
      "source": [
        "plt.clf()#clear photo\n",
        "show.train(write=True,custom_path='./tmp',img_title=img_title,suf=dirs)"
      ],
      "metadata": {
        "colab": {
          "base_uri": "https://localhost:8080/",
          "height": 524
        },
        "id": "PFLKghmt5W4O",
        "outputId": "1566eb91-0aa0-4341-8d0f-ec4694690d50"
      },
      "execution_count": 162,
      "outputs": [
        {
          "output_type": "display_data",
          "data": {
            "text/plain": [
              "<Figure size 800x550 with 1 Axes>"
            ],
            "image/png": "[encoded data removed]"
          },
          "metadata": {}
        }
      ]
    },
    {
      "cell_type": "code",
      "source": [
        "network.load_state_dict(torch.load(save_PATH))\n",
        "\n",
        "dict_bat = {}\n",
        "for k in range(16,65):\n",
        "    T_size = k\n",
        "\n",
        "    print(f\"T_size:{k}\")\n",
        "    get_data('test')\n",
        "\n",
        "    # for j in range(3):\n",
        "    test()\n",
        "\n",
        "    if dict_bat.get(k) is None or dict_bat[k] < test_acc:\n",
        "            dict_bat[k] = test_acc"
      ],
      "metadata": {
        "colab": {
          "base_uri": "https://localhost:8080/"
        },
        "id": "hwF3FNnI5ett",
        "outputId": "bceda6b6-4596-4f0f-abf0-237ef9a46b39"
      },
      "execution_count": 163,
      "outputs": [
        {
          "output_type": "stream",
          "name": "stdout",
          "text": [
            "T_size:16\n",
            "using 828 images for testing.\n",
            "\u001b[35mHAM10000 ==> test ...\u001b[0m\n"
          ]
        },
        {
          "output_type": "stream",
          "name": "stderr",
          "text": [
            "/usr/local/lib/python3.10/dist-packages/torch/utils/data/dataloader.py:560: UserWarning: This DataLoader will create 6 worker processes in total. Our suggested max number of worker in current system is 2, which is smaller than what this DataLoader is going to create. Please be aware that excessive worker creation might get DataLoader running slow or even freeze, lower the worker number to avoid potential slowness/freeze if necessary.\n",
            "  warnings.warn(_create_warning_msg(\n"
          ]
        },
        {
          "output_type": "stream",
          "name": "stdout",
          "text": [
            "test_Acc:\u001b[1;32m94.444%\u001b[0m\n",
            "Best_eval:\u001b[1;32m[94.444%]\u001b[0m\n",
            "T_size:17\n",
            "using 828 images for testing.\n",
            "\u001b[35mHAM10000 ==> test ...\u001b[0m\n",
            "test_Acc:\u001b[1;32m94.444%\u001b[0m\n",
            "Best_eval:\u001b[1;32m[94.444%]\u001b[0m\n",
            "T_size:18\n",
            "using 828 images for testing.\n",
            "\u001b[35mHAM10000 ==> test ...\u001b[0m\n",
            "test_Acc:\u001b[1;32m93.961%\u001b[0m\n",
            "Best_eval:\u001b[1;32m[94.444%]\u001b[0m\n",
            "T_size:19\n",
            "using 828 images for testing.\n",
            "\u001b[35mHAM10000 ==> test ...\u001b[0m\n",
            "test_Acc:\u001b[1;32m94.565%\u001b[0m\n",
            "Best_eval:\u001b[1;32m[94.565%]\u001b[0m\n",
            "T_size:20\n",
            "using 828 images for testing.\n",
            "\u001b[35mHAM10000 ==> test ...\u001b[0m\n",
            "test_Acc:\u001b[1;32m93.841%\u001b[0m\n",
            "Best_eval:\u001b[1;32m[94.565%]\u001b[0m\n",
            "T_size:21\n",
            "using 828 images for testing.\n",
            "\u001b[35mHAM10000 ==> test ...\u001b[0m\n",
            "test_Acc:\u001b[1;32m94.686%\u001b[0m\n",
            "Best_eval:\u001b[1;32m[94.686%]\u001b[0m\n",
            "T_size:22\n",
            "using 828 images for testing.\n",
            "\u001b[35mHAM10000 ==> test ...\u001b[0m\n",
            "test_Acc:\u001b[1;32m95.048%\u001b[0m\n",
            "Best_eval:\u001b[1;32m[95.048%]\u001b[0m\n",
            "T_size:23\n",
            "using 828 images for testing.\n",
            "\u001b[35mHAM10000 ==> test ...\u001b[0m\n",
            "test_Acc:\u001b[1;32m94.082%\u001b[0m\n",
            "Best_eval:\u001b[1;32m[95.048%]\u001b[0m\n",
            "T_size:24\n",
            "using 828 images for testing.\n",
            "\u001b[35mHAM10000 ==> test ...\u001b[0m\n",
            "test_Acc:\u001b[1;32m95.048%\u001b[0m\n",
            "Best_eval:\u001b[1;32m[95.048%]\u001b[0m\n",
            "T_size:25\n",
            "using 828 images for testing.\n",
            "\u001b[35mHAM10000 ==> test ...\u001b[0m\n",
            "test_Acc:\u001b[1;32m95.169%\u001b[0m\n",
            "Best_eval:\u001b[1;32m[95.169%]\u001b[0m\n",
            "T_size:26\n",
            "using 828 images for testing.\n",
            "\u001b[35mHAM10000 ==> test ...\u001b[0m\n",
            "test_Acc:\u001b[1;32m93.841%\u001b[0m\n",
            "Best_eval:\u001b[1;32m[95.169%]\u001b[0m\n",
            "T_size:27\n",
            "using 828 images for testing.\n",
            "\u001b[35mHAM10000 ==> test ...\u001b[0m\n",
            "test_Acc:\u001b[1;32m92.633%\u001b[0m\n",
            "Best_eval:\u001b[1;32m[95.169%]\u001b[0m\n",
            "T_size:28\n",
            "using 828 images for testing.\n",
            "\u001b[35mHAM10000 ==> test ...\u001b[0m\n",
            "test_Acc:\u001b[1;32m93.237%\u001b[0m\n",
            "Best_eval:\u001b[1;32m[95.169%]\u001b[0m\n",
            "T_size:29\n",
            "using 828 images for testing.\n",
            "\u001b[35mHAM10000 ==> test ...\u001b[0m\n",
            "test_Acc:\u001b[1;32m92.754%\u001b[0m\n",
            "Best_eval:\u001b[1;32m[95.169%]\u001b[0m\n",
            "T_size:30\n",
            "using 828 images for testing.\n",
            "\u001b[35mHAM10000 ==> test ...\u001b[0m\n",
            "test_Acc:\u001b[1;32m92.391%\u001b[0m\n",
            "Best_eval:\u001b[1;32m[95.169%]\u001b[0m\n",
            "T_size:31\n",
            "using 828 images for testing.\n",
            "\u001b[35mHAM10000 ==> test ...\u001b[0m\n",
            "test_Acc:\u001b[1;32m92.995%\u001b[0m\n",
            "Best_eval:\u001b[1;32m[95.169%]\u001b[0m\n",
            "T_size:32\n",
            "using 828 images for testing.\n",
            "\u001b[35mHAM10000 ==> test ...\u001b[0m\n",
            "test_Acc:\u001b[1;32m93.961%\u001b[0m\n",
            "Best_eval:\u001b[1;32m[95.169%]\u001b[0m\n",
            "T_size:33\n",
            "using 828 images for testing.\n",
            "\u001b[35mHAM10000 ==> test ...\u001b[0m\n",
            "test_Acc:\u001b[1;32m92.391%\u001b[0m\n",
            "Best_eval:\u001b[1;32m[95.169%]\u001b[0m\n",
            "T_size:34\n",
            "using 828 images for testing.\n",
            "\u001b[35mHAM10000 ==> test ...\u001b[0m\n",
            "test_Acc:\u001b[1;32m92.391%\u001b[0m\n",
            "Best_eval:\u001b[1;32m[95.169%]\u001b[0m\n",
            "T_size:35\n",
            "using 828 images for testing.\n",
            "\u001b[35mHAM10000 ==> test ...\u001b[0m\n",
            "test_Acc:\u001b[1;32m93.478%\u001b[0m\n",
            "Best_eval:\u001b[1;32m[95.169%]\u001b[0m\n",
            "T_size:36\n",
            "using 828 images for testing.\n",
            "\u001b[35mHAM10000 ==> test ...\u001b[0m\n",
            "test_Acc:\u001b[1;32m92.995%\u001b[0m\n",
            "Best_eval:\u001b[1;32m[95.169%]\u001b[0m\n",
            "T_size:37\n",
            "using 828 images for testing.\n",
            "\u001b[35mHAM10000 ==> test ...\u001b[0m\n",
            "test_Acc:\u001b[1;32m92.874%\u001b[0m\n",
            "Best_eval:\u001b[1;32m[95.169%]\u001b[0m\n",
            "T_size:38\n",
            "using 828 images for testing.\n",
            "\u001b[35mHAM10000 ==> test ...\u001b[0m\n",
            "test_Acc:\u001b[1;32m94.324%\u001b[0m\n",
            "Best_eval:\u001b[1;32m[95.169%]\u001b[0m\n",
            "T_size:39\n",
            "using 828 images for testing.\n",
            "\u001b[35mHAM10000 ==> test ...\u001b[0m\n",
            "test_Acc:\u001b[1;32m93.599%\u001b[0m\n",
            "Best_eval:\u001b[1;32m[95.169%]\u001b[0m\n",
            "T_size:40\n",
            "using 828 images for testing.\n",
            "\u001b[35mHAM10000 ==> test ...\u001b[0m\n",
            "test_Acc:\u001b[1;32m93.961%\u001b[0m\n",
            "Best_eval:\u001b[1;32m[95.169%]\u001b[0m\n",
            "T_size:41\n",
            "using 828 images for testing.\n",
            "\u001b[35mHAM10000 ==> test ...\u001b[0m\n",
            "test_Acc:\u001b[1;32m91.908%\u001b[0m\n",
            "Best_eval:\u001b[1;32m[95.169%]\u001b[0m\n",
            "T_size:42\n",
            "using 828 images for testing.\n",
            "\u001b[35mHAM10000 ==> test ...\u001b[0m\n",
            "test_Acc:\u001b[1;32m93.116%\u001b[0m\n",
            "Best_eval:\u001b[1;32m[95.169%]\u001b[0m\n",
            "T_size:43\n",
            "using 828 images for testing.\n",
            "\u001b[35mHAM10000 ==> test ...\u001b[0m\n",
            "test_Acc:\u001b[1;32m92.633%\u001b[0m\n",
            "Best_eval:\u001b[1;32m[95.169%]\u001b[0m\n",
            "T_size:44\n",
            "using 828 images for testing.\n",
            "\u001b[35mHAM10000 ==> test ...\u001b[0m\n",
            "test_Acc:\u001b[1;32m92.029%\u001b[0m\n",
            "Best_eval:\u001b[1;32m[95.169%]\u001b[0m\n",
            "T_size:45\n",
            "using 828 images for testing.\n",
            "\u001b[35mHAM10000 ==> test ...\u001b[0m\n",
            "test_Acc:\u001b[1;32m92.512%\u001b[0m\n",
            "Best_eval:\u001b[1;32m[95.169%]\u001b[0m\n",
            "T_size:46\n",
            "using 828 images for testing.\n",
            "\u001b[35mHAM10000 ==> test ...\u001b[0m\n",
            "test_Acc:\u001b[1;32m91.063%\u001b[0m\n",
            "Best_eval:\u001b[1;32m[95.169%]\u001b[0m\n",
            "T_size:47\n",
            "using 828 images for testing.\n",
            "\u001b[35mHAM10000 ==> test ...\u001b[0m\n",
            "test_Acc:\u001b[1;32m92.633%\u001b[0m\n",
            "Best_eval:\u001b[1;32m[95.169%]\u001b[0m\n",
            "T_size:48\n",
            "using 828 images for testing.\n",
            "\u001b[35mHAM10000 ==> test ...\u001b[0m\n",
            "test_Acc:\u001b[1;32m92.754%\u001b[0m\n",
            "Best_eval:\u001b[1;32m[95.169%]\u001b[0m\n",
            "T_size:49\n",
            "using 828 images for testing.\n",
            "\u001b[35mHAM10000 ==> test ...\u001b[0m\n",
            "test_Acc:\u001b[1;32m91.908%\u001b[0m\n",
            "Best_eval:\u001b[1;32m[95.169%]\u001b[0m\n",
            "T_size:50\n",
            "using 828 images for testing.\n",
            "\u001b[35mHAM10000 ==> test ...\u001b[0m\n",
            "test_Acc:\u001b[1;32m93.72%\u001b[0m\n",
            "Best_eval:\u001b[1;32m[95.169%]\u001b[0m\n",
            "T_size:51\n",
            "using 828 images for testing.\n",
            "\u001b[35mHAM10000 ==> test ...\u001b[0m\n",
            "test_Acc:\u001b[1;32m93.599%\u001b[0m\n",
            "Best_eval:\u001b[1;32m[95.169%]\u001b[0m\n",
            "T_size:52\n",
            "using 828 images for testing.\n",
            "\u001b[35mHAM10000 ==> test ...\u001b[0m\n",
            "test_Acc:\u001b[1;32m92.391%\u001b[0m\n",
            "Best_eval:\u001b[1;32m[95.169%]\u001b[0m\n",
            "T_size:53\n",
            "using 828 images for testing.\n",
            "\u001b[35mHAM10000 ==> test ...\u001b[0m\n",
            "test_Acc:\u001b[1;32m94.082%\u001b[0m\n",
            "Best_eval:\u001b[1;32m[95.169%]\u001b[0m\n",
            "T_size:54\n",
            "using 828 images for testing.\n",
            "\u001b[35mHAM10000 ==> test ...\u001b[0m\n",
            "test_Acc:\u001b[1;32m93.599%\u001b[0m\n",
            "Best_eval:\u001b[1;32m[95.169%]\u001b[0m\n",
            "T_size:55\n",
            "using 828 images for testing.\n",
            "\u001b[35mHAM10000 ==> test ...\u001b[0m\n",
            "test_Acc:\u001b[1;32m92.512%\u001b[0m\n",
            "Best_eval:\u001b[1;32m[95.169%]\u001b[0m\n",
            "T_size:56\n",
            "using 828 images for testing.\n",
            "\u001b[35mHAM10000 ==> test ...\u001b[0m\n",
            "test_Acc:\u001b[1;32m92.029%\u001b[0m\n",
            "Best_eval:\u001b[1;32m[95.169%]\u001b[0m\n",
            "T_size:57\n",
            "using 828 images for testing.\n",
            "\u001b[35mHAM10000 ==> test ...\u001b[0m\n",
            "test_Acc:\u001b[1;32m93.357%\u001b[0m\n",
            "Best_eval:\u001b[1;32m[95.169%]\u001b[0m\n",
            "T_size:58\n",
            "using 828 images for testing.\n",
            "\u001b[35mHAM10000 ==> test ...\u001b[0m\n",
            "test_Acc:\u001b[1;32m92.995%\u001b[0m\n",
            "Best_eval:\u001b[1;32m[95.169%]\u001b[0m\n",
            "T_size:59\n",
            "using 828 images for testing.\n",
            "\u001b[35mHAM10000 ==> test ...\u001b[0m\n",
            "test_Acc:\u001b[1;32m92.391%\u001b[0m\n",
            "Best_eval:\u001b[1;32m[95.169%]\u001b[0m\n",
            "T_size:60\n",
            "using 828 images for testing.\n",
            "\u001b[35mHAM10000 ==> test ...\u001b[0m\n",
            "test_Acc:\u001b[1;32m91.304%\u001b[0m\n",
            "Best_eval:\u001b[1;32m[95.169%]\u001b[0m\n",
            "T_size:61\n",
            "using 828 images for testing.\n",
            "\u001b[35mHAM10000 ==> test ...\u001b[0m\n",
            "test_Acc:\u001b[1;32m92.391%\u001b[0m\n",
            "Best_eval:\u001b[1;32m[95.169%]\u001b[0m\n",
            "T_size:62\n",
            "using 828 images for testing.\n",
            "\u001b[35mHAM10000 ==> test ...\u001b[0m\n",
            "test_Acc:\u001b[1;32m92.029%\u001b[0m\n",
            "Best_eval:\u001b[1;32m[95.169%]\u001b[0m\n",
            "T_size:63\n",
            "using 828 images for testing.\n",
            "\u001b[35mHAM10000 ==> test ...\u001b[0m\n",
            "test_Acc:\u001b[1;32m92.512%\u001b[0m\n",
            "Best_eval:\u001b[1;32m[95.169%]\u001b[0m\n",
            "T_size:64\n",
            "using 828 images for testing.\n",
            "\u001b[35mHAM10000 ==> test ...\u001b[0m\n",
            "test_Acc:\u001b[1;32m91.184%\u001b[0m\n",
            "Best_eval:\u001b[1;32m[95.169%]\u001b[0m\n"
          ]
        }
      ]
    },
    {
      "cell_type": "code",
      "source": [
        "show.conclusion(img_title=img_title)\n",
        "print(sorted(dict_bat.items(), key=lambda x: x[1], reverse=True)[0:9])"
      ],
      "metadata": {
        "colab": {
          "base_uri": "https://localhost:8080/"
        },
        "id": "uoSPH9dM5kqZ",
        "outputId": "2a1ffb95-c3e9-4c1d-ca72-85e2e46cfe7f"
      },
      "execution_count": 164,
      "outputs": [
        {
          "output_type": "stream",
          "name": "stdout",
          "text": [
            "\u001b[31m=================Conclusion====================\u001b[0m\n",
            "Dataset:[\u001b[1;31mHAM10000\u001b[0m]\n",
            "Best_Epoch [\u001b[1;31m10\u001b[0m]\n",
            "[Test] \u001b[31mACC:95.17%\u001b[0m.\n",
            "[(25, 95.16907930374146), (22, 95.04830837249756), (24, 95.04830837249756), (21, 94.68598961830139), (19, 94.5652186870575), (16, 94.44444179534912), (17, 94.44444179534912), (38, 94.32367086410522), (23, 94.08212304115295)]\n"
          ]
        }
      ]
    },
    {
      "cell_type": "code",
      "source": [
        "draw_size_acc(dict_bat,custom_path='./tmp',img_title=img_title,suf=dirs)"
      ],
      "metadata": {
        "colab": {
          "base_uri": "https://localhost:8080/",
          "height": 503
        },
        "id": "mS2NCQzH8poi",
        "outputId": "c5feb988-88b9-40ae-d086-ad1b230cc4e6"
      },
      "execution_count": 165,
      "outputs": [
        {
          "output_type": "display_data",
          "data": {
            "text/plain": [
              "<Figure size 800x550 with 1 Axes>"
            ],
            "image/png": "[encoded data removed]"
          },
          "metadata": {}
        }
      ]
    },
    {
      "cell_type": "code",
      "source": [
        "metrics_scores(test_evl_result,n_classes,cla_dict)"
      ],
      "metadata": {
        "colab": {
          "base_uri": "https://localhost:8080/"
        },
        "id": "VRQsUQWX8rkZ",
        "outputId": "8fe7b234-49f1-46b4-eeda-179a9934b9a6"
      },
      "execution_count": 166,
      "outputs": [
        {
          "output_type": "stream",
          "name": "stdout",
          "text": [
            "+--------+-----------+--------+--------+----------+\n",
            "|  Type  | Precision | Recall |   F1   | Accuracy |\n",
            "+--------+-----------+--------+--------+----------+\n",
            "| akiec  |   0.7333  | 0.9565 | 0.8302 |          |\n",
            "|  bcc   |   0.8065  | 0.9615 | 0.8772 |          |\n",
            "|  bkl   |   0.8615  | 0.8485 | 0.855  |          |\n",
            "|   df   |    0.25   | 0.3333 | 0.2857 |          |\n",
            "|  mel   |   0.8125  | 0.3824 |  0.52  |          |\n",
            "|   nv   |   0.9895  | 0.9955 | 0.9925 |          |\n",
            "|  vasc  |   0.9091  |  1.0   | 0.9524 |          |\n",
            "| Total: |   0.7661  | 0.7825 | 0.759  |  0.9517  |\n",
            "+--------+-----------+--------+--------+----------+\n"
          ]
        }
      ]
    },
    {
      "cell_type": "code",
      "source": [
        "metrics_scores(val_evl_result,n_classes,cla_dict)"
      ],
      "metadata": {
        "colab": {
          "base_uri": "https://localhost:8080/"
        },
        "id": "RY5e7MNJ8uXo",
        "outputId": "6ae258e8-1299-4e69-84da-e3519c3d802c"
      },
      "execution_count": 167,
      "outputs": [
        {
          "output_type": "stream",
          "name": "stdout",
          "text": [
            "+--------+-----------+--------+--------+----------+\n",
            "|  Type  | Precision | Recall |   F1   | Accuracy |\n",
            "+--------+-----------+--------+--------+----------+\n",
            "| akiec  |   0.7576  | 0.7576 | 0.7576 |          |\n",
            "|  bcc   |   0.7123  | 0.9811 | 0.8254 |          |\n",
            "|  bkl   |   0.7391  | 0.7522 | 0.7456 |          |\n",
            "|   df   |   0.5333  | 0.7273 | 0.6154 |          |\n",
            "|  mel   |   0.6214  | 0.7373 | 0.6744 |          |\n",
            "|   nv   |   0.9772  | 0.9051 | 0.9398 |          |\n",
            "|  vasc  |   0.9333  |  1.0   | 0.9655 |          |\n",
            "| Total: |   0.7535  | 0.8372 | 0.7891 |  0.8668  |\n",
            "+--------+-----------+--------+--------+----------+\n"
          ]
        }
      ]
    },
    {
      "cell_type": "code",
      "source": [
        "confusion_matrix(test_evl_result,n_classes,cla_dict,test_dataset,img_title=img_title,suf=dirs)"
      ],
      "metadata": {
        "colab": {
          "base_uri": "https://localhost:8080/",
          "height": 793
        },
        "id": "-fMS-5DA8y44",
        "outputId": "0eb933db-d949-4fcc-9500-c6b9befaab79"
      },
      "execution_count": 168,
      "outputs": [
        {
          "output_type": "display_data",
          "data": {
            "text/plain": [
              "<Figure size 1200x900 with 2 Axes>"
            ],
            "image/png": "[encoded data removed]"
          },
          "metadata": {}
        }
      ]
    },
    {
      "cell_type": "code",
      "source": [
        "# # #save\n",
        "# s0 = np.array(train_acc_list)\n",
        "# np.save(f'./tmp/{img_title}/{dirs}/{img_title}_train_acc_{suf}.npy', s0)\n",
        "# s1 = np.array(train_loss_list)\n",
        "# np.save(f'./tmp/{img_title}/{dirs}/{img_title}_train_loss_{suf}.npy', s1)\n",
        "# s2 = np.array(test_acc_list)\n",
        "# np.save(f'./tmp/{img_title}/{dirs}/{img_title}_test_acc_{suf}.npy', s2)\n",
        "# s3 = np.array(val_acc_list)\n",
        "# np.save(f'./tmp/{img_title}/{dirs}/{img_title}_val_acc_{suf}.npy', s3)\n",
        "# s4 = np.array(dict_batch)\n",
        "# np.save(f'./tmp/{img_title}/{dirs}/{img_title}_dict_batch_{suf}.npy', s4)"
      ],
      "metadata": {
        "id": "RYIiSBP79HkY"
      },
      "execution_count": 169,
      "outputs": []
    },
    {
      "cell_type": "code",
      "source": [],
      "metadata": {
        "id": "-CVwk8_89rpM"
      },
      "execution_count": null,
      "outputs": []
    }
  ],
  "metadata": {
    "accelerator": "GPU",
    "colab": {
      "provenance": []
    },
    "kernelspec": {
      "display_name": "Python 3",
      "name": "python3"
    },
    "language_info": {
      "name": "python"
    }
  },
  "nbformat": 4,
  "nbformat_minor": 0
}